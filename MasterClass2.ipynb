{
 "cells": [
  {
   "cell_type": "code",
   "execution_count": 1,
   "metadata": {},
   "outputs": [],
   "source": [
    "import pandas as pd"
   ]
  },
  {
   "cell_type": "code",
   "execution_count": 8,
   "metadata": {},
   "outputs": [],
   "source": [
    "# download csv file from resurces and put it in working directory\n",
    "df = pd.read_csv('dam_occupancy.csv', header = 0)"
   ]
  },
  {
   "cell_type": "code",
   "execution_count": 9,
   "metadata": {},
   "outputs": [
    {
     "data": {
      "text/html": [
       "<div>\n",
       "<style scoped>\n",
       "    .dataframe tbody tr th:only-of-type {\n",
       "        vertical-align: middle;\n",
       "    }\n",
       "\n",
       "    .dataframe tbody tr th {\n",
       "        vertical-align: top;\n",
       "    }\n",
       "\n",
       "    .dataframe thead th {\n",
       "        text-align: right;\n",
       "    }\n",
       "</style>\n",
       "<table border=\"1\" class=\"dataframe\">\n",
       "  <thead>\n",
       "    <tr style=\"text-align: right;\">\n",
       "      <th></th>\n",
       "      <th>DATE</th>\n",
       "      <th>GENERAL_DAM_OCCUPANCY_RATE</th>\n",
       "      <th>GENERAL_DAM_RESERVED_WATER</th>\n",
       "    </tr>\n",
       "  </thead>\n",
       "  <tbody>\n",
       "    <tr>\n",
       "      <th>0</th>\n",
       "      <td>2005-01-01</td>\n",
       "      <td>44.62</td>\n",
       "      <td>388</td>\n",
       "    </tr>\n",
       "    <tr>\n",
       "      <th>1</th>\n",
       "      <td>2005-01-02</td>\n",
       "      <td>44.62</td>\n",
       "      <td>388</td>\n",
       "    </tr>\n",
       "    <tr>\n",
       "      <th>2</th>\n",
       "      <td>2005-01-03</td>\n",
       "      <td>44.47</td>\n",
       "      <td>386</td>\n",
       "    </tr>\n",
       "    <tr>\n",
       "      <th>3</th>\n",
       "      <td>2005-01-04</td>\n",
       "      <td>44.42</td>\n",
       "      <td>386</td>\n",
       "    </tr>\n",
       "    <tr>\n",
       "      <th>4</th>\n",
       "      <td>2005-01-05</td>\n",
       "      <td>44.35</td>\n",
       "      <td>385</td>\n",
       "    </tr>\n",
       "  </tbody>\n",
       "</table>\n",
       "</div>"
      ],
      "text/plain": [
       "         DATE  GENERAL_DAM_OCCUPANCY_RATE  GENERAL_DAM_RESERVED_WATER\n",
       "0  2005-01-01                       44.62                         388\n",
       "1  2005-01-02                       44.62                         388\n",
       "2  2005-01-03                       44.47                         386\n",
       "3  2005-01-04                       44.42                         386\n",
       "4  2005-01-05                       44.35                         385"
      ]
     },
     "execution_count": 9,
     "metadata": {},
     "output_type": "execute_result"
    }
   ],
   "source": [
    "df.head()"
   ]
  },
  {
   "cell_type": "code",
   "execution_count": 10,
   "metadata": {},
   "outputs": [],
   "source": [
    "df1 = df.drop(['GENERAL_DAM_RESERVED_WATER'], axis=1)"
   ]
  },
  {
   "cell_type": "code",
   "execution_count": 11,
   "metadata": {},
   "outputs": [
    {
     "data": {
      "text/html": [
       "<div>\n",
       "<style scoped>\n",
       "    .dataframe tbody tr th:only-of-type {\n",
       "        vertical-align: middle;\n",
       "    }\n",
       "\n",
       "    .dataframe tbody tr th {\n",
       "        vertical-align: top;\n",
       "    }\n",
       "\n",
       "    .dataframe thead th {\n",
       "        text-align: right;\n",
       "    }\n",
       "</style>\n",
       "<table border=\"1\" class=\"dataframe\">\n",
       "  <thead>\n",
       "    <tr style=\"text-align: right;\">\n",
       "      <th></th>\n",
       "      <th>DATE</th>\n",
       "      <th>GENERAL_DAM_OCCUPANCY_RATE</th>\n",
       "    </tr>\n",
       "  </thead>\n",
       "  <tbody>\n",
       "    <tr>\n",
       "      <th>0</th>\n",
       "      <td>2005-01-01</td>\n",
       "      <td>44.62</td>\n",
       "    </tr>\n",
       "    <tr>\n",
       "      <th>1</th>\n",
       "      <td>2005-01-02</td>\n",
       "      <td>44.62</td>\n",
       "    </tr>\n",
       "    <tr>\n",
       "      <th>2</th>\n",
       "      <td>2005-01-03</td>\n",
       "      <td>44.47</td>\n",
       "    </tr>\n",
       "    <tr>\n",
       "      <th>3</th>\n",
       "      <td>2005-01-04</td>\n",
       "      <td>44.42</td>\n",
       "    </tr>\n",
       "    <tr>\n",
       "      <th>4</th>\n",
       "      <td>2005-01-05</td>\n",
       "      <td>44.35</td>\n",
       "    </tr>\n",
       "  </tbody>\n",
       "</table>\n",
       "</div>"
      ],
      "text/plain": [
       "         DATE  GENERAL_DAM_OCCUPANCY_RATE\n",
       "0  2005-01-01                       44.62\n",
       "1  2005-01-02                       44.62\n",
       "2  2005-01-03                       44.47\n",
       "3  2005-01-04                       44.42\n",
       "4  2005-01-05                       44.35"
      ]
     },
     "execution_count": 11,
     "metadata": {},
     "output_type": "execute_result"
    }
   ],
   "source": [
    "df1.head()"
   ]
  },
  {
   "cell_type": "code",
   "execution_count": 12,
   "metadata": {},
   "outputs": [
    {
     "name": "stdout",
     "output_type": "stream",
     "text": [
      "<class 'pandas.core.frame.DataFrame'>\n",
      "RangeIndex: 5887 entries, 0 to 5886\n",
      "Data columns (total 3 columns):\n",
      " #   Column                      Non-Null Count  Dtype  \n",
      "---  ------                      --------------  -----  \n",
      " 0   DATE                        5887 non-null   object \n",
      " 1   GENERAL_DAM_OCCUPANCY_RATE  5887 non-null   float64\n",
      " 2   GENERAL_DAM_RESERVED_WATER  5887 non-null   int64  \n",
      "dtypes: float64(1), int64(1), object(1)\n",
      "memory usage: 138.1+ KB\n"
     ]
    }
   ],
   "source": [
    "df.info()"
   ]
  },
  {
   "cell_type": "raw",
   "metadata": {},
   "source": [
    "##Loading with parse_dates"
   ]
  },
  {
   "cell_type": "code",
   "execution_count": 13,
   "metadata": {},
   "outputs": [],
   "source": [
    "df2 = pd.read_csv('dam_occupancy.csv', header = 0, parse_dates = [0])"
   ]
  },
  {
   "cell_type": "code",
   "execution_count": 14,
   "metadata": {},
   "outputs": [
    {
     "data": {
      "text/html": [
       "<div>\n",
       "<style scoped>\n",
       "    .dataframe tbody tr th:only-of-type {\n",
       "        vertical-align: middle;\n",
       "    }\n",
       "\n",
       "    .dataframe tbody tr th {\n",
       "        vertical-align: top;\n",
       "    }\n",
       "\n",
       "    .dataframe thead th {\n",
       "        text-align: right;\n",
       "    }\n",
       "</style>\n",
       "<table border=\"1\" class=\"dataframe\">\n",
       "  <thead>\n",
       "    <tr style=\"text-align: right;\">\n",
       "      <th></th>\n",
       "      <th>DATE</th>\n",
       "      <th>GENERAL_DAM_OCCUPANCY_RATE</th>\n",
       "      <th>GENERAL_DAM_RESERVED_WATER</th>\n",
       "    </tr>\n",
       "  </thead>\n",
       "  <tbody>\n",
       "    <tr>\n",
       "      <th>0</th>\n",
       "      <td>2005-01-01</td>\n",
       "      <td>44.62</td>\n",
       "      <td>388</td>\n",
       "    </tr>\n",
       "    <tr>\n",
       "      <th>1</th>\n",
       "      <td>2005-01-02</td>\n",
       "      <td>44.62</td>\n",
       "      <td>388</td>\n",
       "    </tr>\n",
       "    <tr>\n",
       "      <th>2</th>\n",
       "      <td>2005-01-03</td>\n",
       "      <td>44.47</td>\n",
       "      <td>386</td>\n",
       "    </tr>\n",
       "    <tr>\n",
       "      <th>3</th>\n",
       "      <td>2005-01-04</td>\n",
       "      <td>44.42</td>\n",
       "      <td>386</td>\n",
       "    </tr>\n",
       "    <tr>\n",
       "      <th>4</th>\n",
       "      <td>2005-01-05</td>\n",
       "      <td>44.35</td>\n",
       "      <td>385</td>\n",
       "    </tr>\n",
       "  </tbody>\n",
       "</table>\n",
       "</div>"
      ],
      "text/plain": [
       "        DATE  GENERAL_DAM_OCCUPANCY_RATE  GENERAL_DAM_RESERVED_WATER\n",
       "0 2005-01-01                       44.62                         388\n",
       "1 2005-01-02                       44.62                         388\n",
       "2 2005-01-03                       44.47                         386\n",
       "3 2005-01-04                       44.42                         386\n",
       "4 2005-01-05                       44.35                         385"
      ]
     },
     "execution_count": 14,
     "metadata": {},
     "output_type": "execute_result"
    }
   ],
   "source": [
    "df2.head()"
   ]
  },
  {
   "cell_type": "code",
   "execution_count": 15,
   "metadata": {},
   "outputs": [
    {
     "name": "stdout",
     "output_type": "stream",
     "text": [
      "<class 'pandas.core.frame.DataFrame'>\n",
      "RangeIndex: 5887 entries, 0 to 5886\n",
      "Data columns (total 3 columns):\n",
      " #   Column                      Non-Null Count  Dtype         \n",
      "---  ------                      --------------  -----         \n",
      " 0   DATE                        5887 non-null   datetime64[ns]\n",
      " 1   GENERAL_DAM_OCCUPANCY_RATE  5887 non-null   float64       \n",
      " 2   GENERAL_DAM_RESERVED_WATER  5887 non-null   int64         \n",
      "dtypes: datetime64[ns](1), float64(1), int64(1)\n",
      "memory usage: 138.1 KB\n"
     ]
    }
   ],
   "source": [
    "df2.info()"
   ]
  },
  {
   "cell_type": "code",
   "execution_count": 23,
   "metadata": {},
   "outputs": [
    {
     "data": {
      "text/html": [
       "<div>\n",
       "<style scoped>\n",
       "    .dataframe tbody tr th:only-of-type {\n",
       "        vertical-align: middle;\n",
       "    }\n",
       "\n",
       "    .dataframe tbody tr th {\n",
       "        vertical-align: top;\n",
       "    }\n",
       "\n",
       "    .dataframe thead th {\n",
       "        text-align: right;\n",
       "    }\n",
       "</style>\n",
       "<table border=\"1\" class=\"dataframe\">\n",
       "  <thead>\n",
       "    <tr style=\"text-align: right;\">\n",
       "      <th></th>\n",
       "      <th>DATE</th>\n",
       "      <th>GENERAL_DAM_OCCUPANCY_RATE</th>\n",
       "    </tr>\n",
       "  </thead>\n",
       "  <tbody>\n",
       "    <tr>\n",
       "      <th>0</th>\n",
       "      <td>2005-01-01</td>\n",
       "      <td>44.62</td>\n",
       "    </tr>\n",
       "    <tr>\n",
       "      <th>1</th>\n",
       "      <td>2005-01-02</td>\n",
       "      <td>44.62</td>\n",
       "    </tr>\n",
       "    <tr>\n",
       "      <th>2</th>\n",
       "      <td>2005-01-03</td>\n",
       "      <td>44.47</td>\n",
       "    </tr>\n",
       "    <tr>\n",
       "      <th>3</th>\n",
       "      <td>2005-01-04</td>\n",
       "      <td>44.42</td>\n",
       "    </tr>\n",
       "    <tr>\n",
       "      <th>4</th>\n",
       "      <td>2005-01-05</td>\n",
       "      <td>44.35</td>\n",
       "    </tr>\n",
       "  </tbody>\n",
       "</table>\n",
       "</div>"
      ],
      "text/plain": [
       "        DATE  GENERAL_DAM_OCCUPANCY_RATE\n",
       "0 2005-01-01                       44.62\n",
       "1 2005-01-02                       44.62\n",
       "2 2005-01-03                       44.47\n",
       "3 2005-01-04                       44.42\n",
       "4 2005-01-05                       44.35"
      ]
     },
     "execution_count": 23,
     "metadata": {},
     "output_type": "execute_result"
    }
   ],
   "source": [
    "df3 = df2.drop(['GENERAL_DAM_RESERVED_WATER'], axis=1)\n",
    "df3.head()"
   ]
  },
  {
   "cell_type": "code",
   "execution_count": 42,
   "metadata": {},
   "outputs": [],
   "source": [
    "series = pd.read_csv('dam_occupancy.csv', header = 0, parse_dates = [0], index_col=0, squeeze=True)"
   ]
  },
  {
   "cell_type": "code",
   "execution_count": 43,
   "metadata": {},
   "outputs": [
    {
     "data": {
      "text/html": [
       "<div>\n",
       "<style scoped>\n",
       "    .dataframe tbody tr th:only-of-type {\n",
       "        vertical-align: middle;\n",
       "    }\n",
       "\n",
       "    .dataframe tbody tr th {\n",
       "        vertical-align: top;\n",
       "    }\n",
       "\n",
       "    .dataframe thead th {\n",
       "        text-align: right;\n",
       "    }\n",
       "</style>\n",
       "<table border=\"1\" class=\"dataframe\">\n",
       "  <thead>\n",
       "    <tr style=\"text-align: right;\">\n",
       "      <th></th>\n",
       "      <th>GENERAL_DAM_OCCUPANCY_RATE</th>\n",
       "      <th>GENERAL_DAM_RESERVED_WATER</th>\n",
       "    </tr>\n",
       "    <tr>\n",
       "      <th>DATE</th>\n",
       "      <th></th>\n",
       "      <th></th>\n",
       "    </tr>\n",
       "  </thead>\n",
       "  <tbody>\n",
       "    <tr>\n",
       "      <th>2005-01-01</th>\n",
       "      <td>44.62</td>\n",
       "      <td>388</td>\n",
       "    </tr>\n",
       "    <tr>\n",
       "      <th>2005-01-02</th>\n",
       "      <td>44.62</td>\n",
       "      <td>388</td>\n",
       "    </tr>\n",
       "    <tr>\n",
       "      <th>2005-01-03</th>\n",
       "      <td>44.47</td>\n",
       "      <td>386</td>\n",
       "    </tr>\n",
       "    <tr>\n",
       "      <th>2005-01-04</th>\n",
       "      <td>44.42</td>\n",
       "      <td>386</td>\n",
       "    </tr>\n",
       "    <tr>\n",
       "      <th>2005-01-05</th>\n",
       "      <td>44.35</td>\n",
       "      <td>385</td>\n",
       "    </tr>\n",
       "  </tbody>\n",
       "</table>\n",
       "</div>"
      ],
      "text/plain": [
       "            GENERAL_DAM_OCCUPANCY_RATE  GENERAL_DAM_RESERVED_WATER\n",
       "DATE                                                              \n",
       "2005-01-01                       44.62                         388\n",
       "2005-01-02                       44.62                         388\n",
       "2005-01-03                       44.47                         386\n",
       "2005-01-04                       44.42                         386\n",
       "2005-01-05                       44.35                         385"
      ]
     },
     "execution_count": 43,
     "metadata": {},
     "output_type": "execute_result"
    }
   ],
   "source": [
    "series.head()"
   ]
  },
  {
   "cell_type": "code",
   "execution_count": 41,
   "metadata": {},
   "outputs": [
    {
     "name": "stdout",
     "output_type": "stream",
     "text": [
      "<class 'pandas.core.frame.DataFrame'>\n"
     ]
    }
   ],
   "source": [
    "print(type(series))"
   ]
  },
  {
   "cell_type": "code",
   "execution_count": 32,
   "metadata": {},
   "outputs": [],
   "source": [
    "series1 = series.drop(['GENERAL_DAM_RESERVED_WATER'], axis=1)"
   ]
  },
  {
   "cell_type": "code",
   "execution_count": 33,
   "metadata": {},
   "outputs": [
    {
     "data": {
      "text/html": [
       "<div>\n",
       "<style scoped>\n",
       "    .dataframe tbody tr th:only-of-type {\n",
       "        vertical-align: middle;\n",
       "    }\n",
       "\n",
       "    .dataframe tbody tr th {\n",
       "        vertical-align: top;\n",
       "    }\n",
       "\n",
       "    .dataframe thead th {\n",
       "        text-align: right;\n",
       "    }\n",
       "</style>\n",
       "<table border=\"1\" class=\"dataframe\">\n",
       "  <thead>\n",
       "    <tr style=\"text-align: right;\">\n",
       "      <th></th>\n",
       "      <th>GENERAL_DAM_OCCUPANCY_RATE</th>\n",
       "    </tr>\n",
       "    <tr>\n",
       "      <th>DATE</th>\n",
       "      <th></th>\n",
       "    </tr>\n",
       "  </thead>\n",
       "  <tbody>\n",
       "    <tr>\n",
       "      <th>2005-01-01</th>\n",
       "      <td>44.62</td>\n",
       "    </tr>\n",
       "    <tr>\n",
       "      <th>2005-01-02</th>\n",
       "      <td>44.62</td>\n",
       "    </tr>\n",
       "    <tr>\n",
       "      <th>2005-01-03</th>\n",
       "      <td>44.47</td>\n",
       "    </tr>\n",
       "    <tr>\n",
       "      <th>2005-01-04</th>\n",
       "      <td>44.42</td>\n",
       "    </tr>\n",
       "    <tr>\n",
       "      <th>2005-01-05</th>\n",
       "      <td>44.35</td>\n",
       "    </tr>\n",
       "  </tbody>\n",
       "</table>\n",
       "</div>"
      ],
      "text/plain": [
       "            GENERAL_DAM_OCCUPANCY_RATE\n",
       "DATE                                  \n",
       "2005-01-01                       44.62\n",
       "2005-01-02                       44.62\n",
       "2005-01-03                       44.47\n",
       "2005-01-04                       44.42\n",
       "2005-01-05                       44.35"
      ]
     },
     "execution_count": 33,
     "metadata": {},
     "output_type": "execute_result"
    }
   ],
   "source": [
    "series1.head()"
   ]
  },
  {
   "cell_type": "code",
   "execution_count": 44,
   "metadata": {},
   "outputs": [],
   "source": [
    "my_series = series1.squeeze()"
   ]
  },
  {
   "cell_type": "code",
   "execution_count": 45,
   "metadata": {},
   "outputs": [
    {
     "name": "stdout",
     "output_type": "stream",
     "text": [
      "<class 'pandas.core.series.Series'>\n"
     ]
    }
   ],
   "source": [
    "print(type(my_series))"
   ]
  },
  {
   "cell_type": "code",
   "execution_count": 39,
   "metadata": {},
   "outputs": [
    {
     "data": {
      "text/plain": [
       "(5887,)"
      ]
     },
     "execution_count": 39,
     "metadata": {},
     "output_type": "execute_result"
    }
   ],
   "source": [
    "my_series.shape"
   ]
  },
  {
   "cell_type": "code",
   "execution_count": 35,
   "metadata": {},
   "outputs": [
    {
     "data": {
      "text/plain": [
       "(5887, 2)"
      ]
     },
     "execution_count": 35,
     "metadata": {},
     "output_type": "execute_result"
    }
   ],
   "source": [
    "df3.shape"
   ]
  },
  {
   "cell_type": "code",
   "execution_count": 40,
   "metadata": {},
   "outputs": [
    {
     "data": {
      "text/plain": [
       "count    5887.000000\n",
       "mean       64.783693\n",
       "std        23.460365\n",
       "min         9.200000\n",
       "25%        48.005000\n",
       "50%        66.680000\n",
       "75%        86.265000\n",
       "max        99.160000\n",
       "Name: GENERAL_DAM_OCCUPANCY_RATE, dtype: float64"
      ]
     },
     "execution_count": 40,
     "metadata": {},
     "output_type": "execute_result"
    }
   ],
   "source": [
    "my_series.describe()"
   ]
  },
  {
   "cell_type": "code",
   "execution_count": 27,
   "metadata": {},
   "outputs": [
    {
     "data": {
      "text/html": [
       "<div>\n",
       "<style scoped>\n",
       "    .dataframe tbody tr th:only-of-type {\n",
       "        vertical-align: middle;\n",
       "    }\n",
       "\n",
       "    .dataframe tbody tr th {\n",
       "        vertical-align: top;\n",
       "    }\n",
       "\n",
       "    .dataframe thead th {\n",
       "        text-align: right;\n",
       "    }\n",
       "</style>\n",
       "<table border=\"1\" class=\"dataframe\">\n",
       "  <thead>\n",
       "    <tr style=\"text-align: right;\">\n",
       "      <th></th>\n",
       "      <th>GENERAL_DAM_OCCUPANCY_RATE</th>\n",
       "    </tr>\n",
       "  </thead>\n",
       "  <tbody>\n",
       "    <tr>\n",
       "      <th>count</th>\n",
       "      <td>5887.000000</td>\n",
       "    </tr>\n",
       "    <tr>\n",
       "      <th>mean</th>\n",
       "      <td>64.783693</td>\n",
       "    </tr>\n",
       "    <tr>\n",
       "      <th>std</th>\n",
       "      <td>23.460365</td>\n",
       "    </tr>\n",
       "    <tr>\n",
       "      <th>min</th>\n",
       "      <td>9.200000</td>\n",
       "    </tr>\n",
       "    <tr>\n",
       "      <th>25%</th>\n",
       "      <td>48.005000</td>\n",
       "    </tr>\n",
       "    <tr>\n",
       "      <th>50%</th>\n",
       "      <td>66.680000</td>\n",
       "    </tr>\n",
       "    <tr>\n",
       "      <th>75%</th>\n",
       "      <td>86.265000</td>\n",
       "    </tr>\n",
       "    <tr>\n",
       "      <th>max</th>\n",
       "      <td>99.160000</td>\n",
       "    </tr>\n",
       "  </tbody>\n",
       "</table>\n",
       "</div>"
      ],
      "text/plain": [
       "       GENERAL_DAM_OCCUPANCY_RATE\n",
       "count                 5887.000000\n",
       "mean                    64.783693\n",
       "std                     23.460365\n",
       "min                      9.200000\n",
       "25%                     48.005000\n",
       "50%                     66.680000\n",
       "75%                     86.265000\n",
       "max                     99.160000"
      ]
     },
     "execution_count": 27,
     "metadata": {},
     "output_type": "execute_result"
    }
   ],
   "source": [
    "df3.describe()"
   ]
  },
  {
   "cell_type": "code",
   "execution_count": 46,
   "metadata": {},
   "outputs": [
    {
     "data": {
      "text/html": [
       "<div>\n",
       "<style scoped>\n",
       "    .dataframe tbody tr th:only-of-type {\n",
       "        vertical-align: middle;\n",
       "    }\n",
       "\n",
       "    .dataframe tbody tr th {\n",
       "        vertical-align: top;\n",
       "    }\n",
       "\n",
       "    .dataframe thead th {\n",
       "        text-align: right;\n",
       "    }\n",
       "</style>\n",
       "<table border=\"1\" class=\"dataframe\">\n",
       "  <thead>\n",
       "    <tr style=\"text-align: right;\">\n",
       "      <th></th>\n",
       "      <th>DATE</th>\n",
       "      <th>GENERAL_DAM_OCCUPANCY_RATE</th>\n",
       "    </tr>\n",
       "  </thead>\n",
       "  <tbody>\n",
       "    <tr>\n",
       "      <th>0</th>\n",
       "      <td>2005-01-01</td>\n",
       "      <td>44.62</td>\n",
       "    </tr>\n",
       "    <tr>\n",
       "      <th>1</th>\n",
       "      <td>2005-01-02</td>\n",
       "      <td>44.62</td>\n",
       "    </tr>\n",
       "    <tr>\n",
       "      <th>2</th>\n",
       "      <td>2005-01-03</td>\n",
       "      <td>44.47</td>\n",
       "    </tr>\n",
       "    <tr>\n",
       "      <th>3</th>\n",
       "      <td>2005-01-04</td>\n",
       "      <td>44.42</td>\n",
       "    </tr>\n",
       "    <tr>\n",
       "      <th>4</th>\n",
       "      <td>2005-01-05</td>\n",
       "      <td>44.35</td>\n",
       "    </tr>\n",
       "  </tbody>\n",
       "</table>\n",
       "</div>"
      ],
      "text/plain": [
       "        DATE  GENERAL_DAM_OCCUPANCY_RATE\n",
       "0 2005-01-01                       44.62\n",
       "1 2005-01-02                       44.62\n",
       "2 2005-01-03                       44.47\n",
       "3 2005-01-04                       44.42\n",
       "4 2005-01-05                       44.35"
      ]
     },
     "execution_count": 46,
     "metadata": {},
     "output_type": "execute_result"
    }
   ],
   "source": [
    "###Feature Engineering\n",
    "#create new feature\n",
    "#DATETIME FEATURES\n",
    "df3.head()"
   ]
  },
  {
   "cell_type": "code",
   "execution_count": 47,
   "metadata": {},
   "outputs": [],
   "source": [
    "features = df3.copy()"
   ]
  },
  {
   "cell_type": "code",
   "execution_count": 48,
   "metadata": {},
   "outputs": [],
   "source": [
    "features['year'] = df3['DATE'].dt.year"
   ]
  },
  {
   "cell_type": "code",
   "execution_count": 49,
   "metadata": {},
   "outputs": [],
   "source": [
    "features['month'] = df3['DATE'].dt.month"
   ]
  },
  {
   "cell_type": "code",
   "execution_count": 50,
   "metadata": {},
   "outputs": [],
   "source": [
    "features['day'] = df3['DATE'].dt.day"
   ]
  },
  {
   "cell_type": "code",
   "execution_count": 52,
   "metadata": {},
   "outputs": [
    {
     "data": {
      "text/html": [
       "<div>\n",
       "<style scoped>\n",
       "    .dataframe tbody tr th:only-of-type {\n",
       "        vertical-align: middle;\n",
       "    }\n",
       "\n",
       "    .dataframe tbody tr th {\n",
       "        vertical-align: top;\n",
       "    }\n",
       "\n",
       "    .dataframe thead th {\n",
       "        text-align: right;\n",
       "    }\n",
       "</style>\n",
       "<table border=\"1\" class=\"dataframe\">\n",
       "  <thead>\n",
       "    <tr style=\"text-align: right;\">\n",
       "      <th></th>\n",
       "      <th>DATE</th>\n",
       "      <th>GENERAL_DAM_OCCUPANCY_RATE</th>\n",
       "      <th>year</th>\n",
       "      <th>month</th>\n",
       "      <th>day</th>\n",
       "    </tr>\n",
       "  </thead>\n",
       "  <tbody>\n",
       "    <tr>\n",
       "      <th>0</th>\n",
       "      <td>2005-01-01</td>\n",
       "      <td>44.62</td>\n",
       "      <td>2005</td>\n",
       "      <td>1</td>\n",
       "      <td>1</td>\n",
       "    </tr>\n",
       "    <tr>\n",
       "      <th>1</th>\n",
       "      <td>2005-01-02</td>\n",
       "      <td>44.62</td>\n",
       "      <td>2005</td>\n",
       "      <td>1</td>\n",
       "      <td>2</td>\n",
       "    </tr>\n",
       "    <tr>\n",
       "      <th>2</th>\n",
       "      <td>2005-01-03</td>\n",
       "      <td>44.47</td>\n",
       "      <td>2005</td>\n",
       "      <td>1</td>\n",
       "      <td>3</td>\n",
       "    </tr>\n",
       "    <tr>\n",
       "      <th>3</th>\n",
       "      <td>2005-01-04</td>\n",
       "      <td>44.42</td>\n",
       "      <td>2005</td>\n",
       "      <td>1</td>\n",
       "      <td>4</td>\n",
       "    </tr>\n",
       "    <tr>\n",
       "      <th>4</th>\n",
       "      <td>2005-01-05</td>\n",
       "      <td>44.35</td>\n",
       "      <td>2005</td>\n",
       "      <td>1</td>\n",
       "      <td>5</td>\n",
       "    </tr>\n",
       "  </tbody>\n",
       "</table>\n",
       "</div>"
      ],
      "text/plain": [
       "        DATE  GENERAL_DAM_OCCUPANCY_RATE  year  month  day\n",
       "0 2005-01-01                       44.62  2005      1    1\n",
       "1 2005-01-02                       44.62  2005      1    2\n",
       "2 2005-01-03                       44.47  2005      1    3\n",
       "3 2005-01-04                       44.42  2005      1    4\n",
       "4 2005-01-05                       44.35  2005      1    5"
      ]
     },
     "execution_count": 52,
     "metadata": {},
     "output_type": "execute_result"
    }
   ],
   "source": [
    "features.head()"
   ]
  },
  {
   "cell_type": "code",
   "execution_count": 53,
   "metadata": {},
   "outputs": [],
   "source": [
    "#LAG FEATURES\n",
    "features['lag1'] = df3['GENERAL_DAM_OCCUPANCY_RATE'].shift(1)#bir gun oncesi"
   ]
  },
  {
   "cell_type": "code",
   "execution_count": 54,
   "metadata": {},
   "outputs": [],
   "source": [
    "features['lag2'] = df3['GENERAL_DAM_OCCUPANCY_RATE'].shift(365)#1 yil oncesi"
   ]
  },
  {
   "cell_type": "code",
   "execution_count": 55,
   "metadata": {},
   "outputs": [
    {
     "data": {
      "text/html": [
       "<div>\n",
       "<style scoped>\n",
       "    .dataframe tbody tr th:only-of-type {\n",
       "        vertical-align: middle;\n",
       "    }\n",
       "\n",
       "    .dataframe tbody tr th {\n",
       "        vertical-align: top;\n",
       "    }\n",
       "\n",
       "    .dataframe thead th {\n",
       "        text-align: right;\n",
       "    }\n",
       "</style>\n",
       "<table border=\"1\" class=\"dataframe\">\n",
       "  <thead>\n",
       "    <tr style=\"text-align: right;\">\n",
       "      <th></th>\n",
       "      <th>DATE</th>\n",
       "      <th>GENERAL_DAM_OCCUPANCY_RATE</th>\n",
       "      <th>year</th>\n",
       "      <th>month</th>\n",
       "      <th>day</th>\n",
       "      <th>lag1</th>\n",
       "      <th>lag2</th>\n",
       "    </tr>\n",
       "  </thead>\n",
       "  <tbody>\n",
       "    <tr>\n",
       "      <th>0</th>\n",
       "      <td>2005-01-01</td>\n",
       "      <td>44.62</td>\n",
       "      <td>2005</td>\n",
       "      <td>1</td>\n",
       "      <td>1</td>\n",
       "      <td>NaN</td>\n",
       "      <td>NaN</td>\n",
       "    </tr>\n",
       "    <tr>\n",
       "      <th>1</th>\n",
       "      <td>2005-01-02</td>\n",
       "      <td>44.62</td>\n",
       "      <td>2005</td>\n",
       "      <td>1</td>\n",
       "      <td>2</td>\n",
       "      <td>44.62</td>\n",
       "      <td>NaN</td>\n",
       "    </tr>\n",
       "    <tr>\n",
       "      <th>2</th>\n",
       "      <td>2005-01-03</td>\n",
       "      <td>44.47</td>\n",
       "      <td>2005</td>\n",
       "      <td>1</td>\n",
       "      <td>3</td>\n",
       "      <td>44.62</td>\n",
       "      <td>NaN</td>\n",
       "    </tr>\n",
       "    <tr>\n",
       "      <th>3</th>\n",
       "      <td>2005-01-04</td>\n",
       "      <td>44.42</td>\n",
       "      <td>2005</td>\n",
       "      <td>1</td>\n",
       "      <td>4</td>\n",
       "      <td>44.47</td>\n",
       "      <td>NaN</td>\n",
       "    </tr>\n",
       "    <tr>\n",
       "      <th>4</th>\n",
       "      <td>2005-01-05</td>\n",
       "      <td>44.35</td>\n",
       "      <td>2005</td>\n",
       "      <td>1</td>\n",
       "      <td>5</td>\n",
       "      <td>44.42</td>\n",
       "      <td>NaN</td>\n",
       "    </tr>\n",
       "  </tbody>\n",
       "</table>\n",
       "</div>"
      ],
      "text/plain": [
       "        DATE  GENERAL_DAM_OCCUPANCY_RATE  year  month  day   lag1  lag2\n",
       "0 2005-01-01                       44.62  2005      1    1    NaN   NaN\n",
       "1 2005-01-02                       44.62  2005      1    2  44.62   NaN\n",
       "2 2005-01-03                       44.47  2005      1    3  44.62   NaN\n",
       "3 2005-01-04                       44.42  2005      1    4  44.47   NaN\n",
       "4 2005-01-05                       44.35  2005      1    5  44.42   NaN"
      ]
     },
     "execution_count": 55,
     "metadata": {},
     "output_type": "execute_result"
    }
   ],
   "source": [
    "features.head()"
   ]
  },
  {
   "cell_type": "code",
   "execution_count": 56,
   "metadata": {},
   "outputs": [],
   "source": [
    "#WINDOW FEATURES\n",
    "features['Roll_Mean'] = df3['GENERAL_DAM_OCCUPANCY_RATE'].rolling(window = 2).mean()"
   ]
  },
  {
   "cell_type": "code",
   "execution_count": 57,
   "metadata": {},
   "outputs": [
    {
     "data": {
      "text/html": [
       "<div>\n",
       "<style scoped>\n",
       "    .dataframe tbody tr th:only-of-type {\n",
       "        vertical-align: middle;\n",
       "    }\n",
       "\n",
       "    .dataframe tbody tr th {\n",
       "        vertical-align: top;\n",
       "    }\n",
       "\n",
       "    .dataframe thead th {\n",
       "        text-align: right;\n",
       "    }\n",
       "</style>\n",
       "<table border=\"1\" class=\"dataframe\">\n",
       "  <thead>\n",
       "    <tr style=\"text-align: right;\">\n",
       "      <th></th>\n",
       "      <th>DATE</th>\n",
       "      <th>GENERAL_DAM_OCCUPANCY_RATE</th>\n",
       "      <th>year</th>\n",
       "      <th>month</th>\n",
       "      <th>day</th>\n",
       "      <th>lag1</th>\n",
       "      <th>lag2</th>\n",
       "      <th>Roll_Mean</th>\n",
       "    </tr>\n",
       "  </thead>\n",
       "  <tbody>\n",
       "    <tr>\n",
       "      <th>0</th>\n",
       "      <td>2005-01-01</td>\n",
       "      <td>44.62</td>\n",
       "      <td>2005</td>\n",
       "      <td>1</td>\n",
       "      <td>1</td>\n",
       "      <td>NaN</td>\n",
       "      <td>NaN</td>\n",
       "      <td>NaN</td>\n",
       "    </tr>\n",
       "    <tr>\n",
       "      <th>1</th>\n",
       "      <td>2005-01-02</td>\n",
       "      <td>44.62</td>\n",
       "      <td>2005</td>\n",
       "      <td>1</td>\n",
       "      <td>2</td>\n",
       "      <td>44.62</td>\n",
       "      <td>NaN</td>\n",
       "      <td>44.620</td>\n",
       "    </tr>\n",
       "    <tr>\n",
       "      <th>2</th>\n",
       "      <td>2005-01-03</td>\n",
       "      <td>44.47</td>\n",
       "      <td>2005</td>\n",
       "      <td>1</td>\n",
       "      <td>3</td>\n",
       "      <td>44.62</td>\n",
       "      <td>NaN</td>\n",
       "      <td>44.545</td>\n",
       "    </tr>\n",
       "    <tr>\n",
       "      <th>3</th>\n",
       "      <td>2005-01-04</td>\n",
       "      <td>44.42</td>\n",
       "      <td>2005</td>\n",
       "      <td>1</td>\n",
       "      <td>4</td>\n",
       "      <td>44.47</td>\n",
       "      <td>NaN</td>\n",
       "      <td>44.445</td>\n",
       "    </tr>\n",
       "    <tr>\n",
       "      <th>4</th>\n",
       "      <td>2005-01-05</td>\n",
       "      <td>44.35</td>\n",
       "      <td>2005</td>\n",
       "      <td>1</td>\n",
       "      <td>5</td>\n",
       "      <td>44.42</td>\n",
       "      <td>NaN</td>\n",
       "      <td>44.385</td>\n",
       "    </tr>\n",
       "  </tbody>\n",
       "</table>\n",
       "</div>"
      ],
      "text/plain": [
       "        DATE  GENERAL_DAM_OCCUPANCY_RATE  year  month  day   lag1  lag2  \\\n",
       "0 2005-01-01                       44.62  2005      1    1    NaN   NaN   \n",
       "1 2005-01-02                       44.62  2005      1    2  44.62   NaN   \n",
       "2 2005-01-03                       44.47  2005      1    3  44.62   NaN   \n",
       "3 2005-01-04                       44.42  2005      1    4  44.47   NaN   \n",
       "4 2005-01-05                       44.35  2005      1    5  44.42   NaN   \n",
       "\n",
       "   Roll_Mean  \n",
       "0        NaN  \n",
       "1     44.620  \n",
       "2     44.545  \n",
       "3     44.445  \n",
       "4     44.385  "
      ]
     },
     "execution_count": 57,
     "metadata": {},
     "output_type": "execute_result"
    }
   ],
   "source": [
    "features.head()"
   ]
  },
  {
   "cell_type": "code",
   "execution_count": 58,
   "metadata": {},
   "outputs": [],
   "source": [
    "features['Roll_Max'] = df3['GENERAL_DAM_OCCUPANCY_RATE'].rolling(window = 3).max()"
   ]
  },
  {
   "cell_type": "code",
   "execution_count": 59,
   "metadata": {},
   "outputs": [
    {
     "data": {
      "text/html": [
       "<div>\n",
       "<style scoped>\n",
       "    .dataframe tbody tr th:only-of-type {\n",
       "        vertical-align: middle;\n",
       "    }\n",
       "\n",
       "    .dataframe tbody tr th {\n",
       "        vertical-align: top;\n",
       "    }\n",
       "\n",
       "    .dataframe thead th {\n",
       "        text-align: right;\n",
       "    }\n",
       "</style>\n",
       "<table border=\"1\" class=\"dataframe\">\n",
       "  <thead>\n",
       "    <tr style=\"text-align: right;\">\n",
       "      <th></th>\n",
       "      <th>DATE</th>\n",
       "      <th>GENERAL_DAM_OCCUPANCY_RATE</th>\n",
       "      <th>year</th>\n",
       "      <th>month</th>\n",
       "      <th>day</th>\n",
       "      <th>lag1</th>\n",
       "      <th>lag2</th>\n",
       "      <th>Roll_Mean</th>\n",
       "      <th>Roll_Max</th>\n",
       "    </tr>\n",
       "  </thead>\n",
       "  <tbody>\n",
       "    <tr>\n",
       "      <th>0</th>\n",
       "      <td>2005-01-01</td>\n",
       "      <td>44.62</td>\n",
       "      <td>2005</td>\n",
       "      <td>1</td>\n",
       "      <td>1</td>\n",
       "      <td>NaN</td>\n",
       "      <td>NaN</td>\n",
       "      <td>NaN</td>\n",
       "      <td>NaN</td>\n",
       "    </tr>\n",
       "    <tr>\n",
       "      <th>1</th>\n",
       "      <td>2005-01-02</td>\n",
       "      <td>44.62</td>\n",
       "      <td>2005</td>\n",
       "      <td>1</td>\n",
       "      <td>2</td>\n",
       "      <td>44.62</td>\n",
       "      <td>NaN</td>\n",
       "      <td>44.620</td>\n",
       "      <td>NaN</td>\n",
       "    </tr>\n",
       "    <tr>\n",
       "      <th>2</th>\n",
       "      <td>2005-01-03</td>\n",
       "      <td>44.47</td>\n",
       "      <td>2005</td>\n",
       "      <td>1</td>\n",
       "      <td>3</td>\n",
       "      <td>44.62</td>\n",
       "      <td>NaN</td>\n",
       "      <td>44.545</td>\n",
       "      <td>44.62</td>\n",
       "    </tr>\n",
       "    <tr>\n",
       "      <th>3</th>\n",
       "      <td>2005-01-04</td>\n",
       "      <td>44.42</td>\n",
       "      <td>2005</td>\n",
       "      <td>1</td>\n",
       "      <td>4</td>\n",
       "      <td>44.47</td>\n",
       "      <td>NaN</td>\n",
       "      <td>44.445</td>\n",
       "      <td>44.62</td>\n",
       "    </tr>\n",
       "    <tr>\n",
       "      <th>4</th>\n",
       "      <td>2005-01-05</td>\n",
       "      <td>44.35</td>\n",
       "      <td>2005</td>\n",
       "      <td>1</td>\n",
       "      <td>5</td>\n",
       "      <td>44.42</td>\n",
       "      <td>NaN</td>\n",
       "      <td>44.385</td>\n",
       "      <td>44.47</td>\n",
       "    </tr>\n",
       "  </tbody>\n",
       "</table>\n",
       "</div>"
      ],
      "text/plain": [
       "        DATE  GENERAL_DAM_OCCUPANCY_RATE  year  month  day   lag1  lag2  \\\n",
       "0 2005-01-01                       44.62  2005      1    1    NaN   NaN   \n",
       "1 2005-01-02                       44.62  2005      1    2  44.62   NaN   \n",
       "2 2005-01-03                       44.47  2005      1    3  44.62   NaN   \n",
       "3 2005-01-04                       44.42  2005      1    4  44.47   NaN   \n",
       "4 2005-01-05                       44.35  2005      1    5  44.42   NaN   \n",
       "\n",
       "   Roll_Mean  Roll_Max  \n",
       "0        NaN       NaN  \n",
       "1     44.620       NaN  \n",
       "2     44.545     44.62  \n",
       "3     44.445     44.62  \n",
       "4     44.385     44.47  "
      ]
     },
     "execution_count": 59,
     "metadata": {},
     "output_type": "execute_result"
    }
   ],
   "source": [
    "features.head()"
   ]
  },
  {
   "cell_type": "code",
   "execution_count": 60,
   "metadata": {},
   "outputs": [],
   "source": [
    "#EXPANDING FEATURES\n",
    "features['Expand_Max'] = df3['GENERAL_DAM_OCCUPANCY_RATE'].expanding().max()"
   ]
  },
  {
   "cell_type": "code",
   "execution_count": 61,
   "metadata": {},
   "outputs": [
    {
     "data": {
      "text/html": [
       "<div>\n",
       "<style scoped>\n",
       "    .dataframe tbody tr th:only-of-type {\n",
       "        vertical-align: middle;\n",
       "    }\n",
       "\n",
       "    .dataframe tbody tr th {\n",
       "        vertical-align: top;\n",
       "    }\n",
       "\n",
       "    .dataframe thead th {\n",
       "        text-align: right;\n",
       "    }\n",
       "</style>\n",
       "<table border=\"1\" class=\"dataframe\">\n",
       "  <thead>\n",
       "    <tr style=\"text-align: right;\">\n",
       "      <th></th>\n",
       "      <th>DATE</th>\n",
       "      <th>GENERAL_DAM_OCCUPANCY_RATE</th>\n",
       "      <th>year</th>\n",
       "      <th>month</th>\n",
       "      <th>day</th>\n",
       "      <th>lag1</th>\n",
       "      <th>lag2</th>\n",
       "      <th>Roll_Mean</th>\n",
       "      <th>Roll_Max</th>\n",
       "      <th>Expand_Max</th>\n",
       "    </tr>\n",
       "  </thead>\n",
       "  <tbody>\n",
       "    <tr>\n",
       "      <th>0</th>\n",
       "      <td>2005-01-01</td>\n",
       "      <td>44.62</td>\n",
       "      <td>2005</td>\n",
       "      <td>1</td>\n",
       "      <td>1</td>\n",
       "      <td>NaN</td>\n",
       "      <td>NaN</td>\n",
       "      <td>NaN</td>\n",
       "      <td>NaN</td>\n",
       "      <td>44.62</td>\n",
       "    </tr>\n",
       "    <tr>\n",
       "      <th>1</th>\n",
       "      <td>2005-01-02</td>\n",
       "      <td>44.62</td>\n",
       "      <td>2005</td>\n",
       "      <td>1</td>\n",
       "      <td>2</td>\n",
       "      <td>44.62</td>\n",
       "      <td>NaN</td>\n",
       "      <td>44.620</td>\n",
       "      <td>NaN</td>\n",
       "      <td>44.62</td>\n",
       "    </tr>\n",
       "    <tr>\n",
       "      <th>2</th>\n",
       "      <td>2005-01-03</td>\n",
       "      <td>44.47</td>\n",
       "      <td>2005</td>\n",
       "      <td>1</td>\n",
       "      <td>3</td>\n",
       "      <td>44.62</td>\n",
       "      <td>NaN</td>\n",
       "      <td>44.545</td>\n",
       "      <td>44.62</td>\n",
       "      <td>44.62</td>\n",
       "    </tr>\n",
       "    <tr>\n",
       "      <th>3</th>\n",
       "      <td>2005-01-04</td>\n",
       "      <td>44.42</td>\n",
       "      <td>2005</td>\n",
       "      <td>1</td>\n",
       "      <td>4</td>\n",
       "      <td>44.47</td>\n",
       "      <td>NaN</td>\n",
       "      <td>44.445</td>\n",
       "      <td>44.62</td>\n",
       "      <td>44.62</td>\n",
       "    </tr>\n",
       "    <tr>\n",
       "      <th>4</th>\n",
       "      <td>2005-01-05</td>\n",
       "      <td>44.35</td>\n",
       "      <td>2005</td>\n",
       "      <td>1</td>\n",
       "      <td>5</td>\n",
       "      <td>44.42</td>\n",
       "      <td>NaN</td>\n",
       "      <td>44.385</td>\n",
       "      <td>44.47</td>\n",
       "      <td>44.62</td>\n",
       "    </tr>\n",
       "  </tbody>\n",
       "</table>\n",
       "</div>"
      ],
      "text/plain": [
       "        DATE  GENERAL_DAM_OCCUPANCY_RATE  year  month  day   lag1  lag2  \\\n",
       "0 2005-01-01                       44.62  2005      1    1    NaN   NaN   \n",
       "1 2005-01-02                       44.62  2005      1    2  44.62   NaN   \n",
       "2 2005-01-03                       44.47  2005      1    3  44.62   NaN   \n",
       "3 2005-01-04                       44.42  2005      1    4  44.47   NaN   \n",
       "4 2005-01-05                       44.35  2005      1    5  44.42   NaN   \n",
       "\n",
       "   Roll_Mean  Roll_Max  Expand_Max  \n",
       "0        NaN       NaN       44.62  \n",
       "1     44.620       NaN       44.62  \n",
       "2     44.545     44.62       44.62  \n",
       "3     44.445     44.62       44.62  \n",
       "4     44.385     44.47       44.62  "
      ]
     },
     "execution_count": 61,
     "metadata": {},
     "output_type": "execute_result"
    }
   ],
   "source": [
    "features.head()"
   ]
  },
  {
   "cell_type": "code",
   "execution_count": 63,
   "metadata": {},
   "outputs": [],
   "source": [
    "##VISUALIZATION\n",
    "from matplotlib import pyplot as plt\n",
    "%matplotlib inline"
   ]
  },
  {
   "cell_type": "code",
   "execution_count": 64,
   "metadata": {},
   "outputs": [
    {
     "data": {
      "text/html": [
       "<div>\n",
       "<style scoped>\n",
       "    .dataframe tbody tr th:only-of-type {\n",
       "        vertical-align: middle;\n",
       "    }\n",
       "\n",
       "    .dataframe tbody tr th {\n",
       "        vertical-align: top;\n",
       "    }\n",
       "\n",
       "    .dataframe thead th {\n",
       "        text-align: right;\n",
       "    }\n",
       "</style>\n",
       "<table border=\"1\" class=\"dataframe\">\n",
       "  <thead>\n",
       "    <tr style=\"text-align: right;\">\n",
       "      <th></th>\n",
       "      <th>DATE</th>\n",
       "      <th>GENERAL_DAM_OCCUPANCY_RATE</th>\n",
       "    </tr>\n",
       "  </thead>\n",
       "  <tbody>\n",
       "    <tr>\n",
       "      <th>0</th>\n",
       "      <td>2005-01-01</td>\n",
       "      <td>44.62</td>\n",
       "    </tr>\n",
       "    <tr>\n",
       "      <th>1</th>\n",
       "      <td>2005-01-02</td>\n",
       "      <td>44.62</td>\n",
       "    </tr>\n",
       "    <tr>\n",
       "      <th>2</th>\n",
       "      <td>2005-01-03</td>\n",
       "      <td>44.47</td>\n",
       "    </tr>\n",
       "    <tr>\n",
       "      <th>3</th>\n",
       "      <td>2005-01-04</td>\n",
       "      <td>44.42</td>\n",
       "    </tr>\n",
       "    <tr>\n",
       "      <th>4</th>\n",
       "      <td>2005-01-05</td>\n",
       "      <td>44.35</td>\n",
       "    </tr>\n",
       "  </tbody>\n",
       "</table>\n",
       "</div>"
      ],
      "text/plain": [
       "        DATE  GENERAL_DAM_OCCUPANCY_RATE\n",
       "0 2005-01-01                       44.62\n",
       "1 2005-01-02                       44.62\n",
       "2 2005-01-03                       44.47\n",
       "3 2005-01-04                       44.42\n",
       "4 2005-01-05                       44.35"
      ]
     },
     "execution_count": 64,
     "metadata": {},
     "output_type": "execute_result"
    }
   ],
   "source": [
    "df3.head()"
   ]
  },
  {
   "cell_type": "code",
   "execution_count": 65,
   "metadata": {},
   "outputs": [
    {
     "data": {
      "text/plain": [
       "<AxesSubplot:>"
      ]
     },
     "execution_count": 65,
     "metadata": {},
     "output_type": "execute_result"
    },
    {
     "data": {
      "image/png": "[encoded data removed]",
      "text/plain": [
       "<Figure size 432x288 with 1 Axes>"
      ]
     },
     "metadata": {
      "needs_background": "light"
     },
     "output_type": "display_data"
    }
   ],
   "source": [
    "df3['GENERAL_DAM_OCCUPANCY_RATE'].plot()"
   ]
  },
  {
   "cell_type": "code",
   "execution_count": 66,
   "metadata": {},
   "outputs": [],
   "source": [
    "df3.index = df3['DATE']"
   ]
  },
  {
   "cell_type": "code",
   "execution_count": 68,
   "metadata": {},
   "outputs": [
    {
     "data": {
      "text/html": [
       "<div>\n",
       "<style scoped>\n",
       "    .dataframe tbody tr th:only-of-type {\n",
       "        vertical-align: middle;\n",
       "    }\n",
       "\n",
       "    .dataframe tbody tr th {\n",
       "        vertical-align: top;\n",
       "    }\n",
       "\n",
       "    .dataframe thead th {\n",
       "        text-align: right;\n",
       "    }\n",
       "</style>\n",
       "<table border=\"1\" class=\"dataframe\">\n",
       "  <thead>\n",
       "    <tr style=\"text-align: right;\">\n",
       "      <th></th>\n",
       "      <th>DATE</th>\n",
       "      <th>GENERAL_DAM_OCCUPANCY_RATE</th>\n",
       "    </tr>\n",
       "    <tr>\n",
       "      <th>DATE</th>\n",
       "      <th></th>\n",
       "      <th></th>\n",
       "    </tr>\n",
       "  </thead>\n",
       "  <tbody>\n",
       "    <tr>\n",
       "      <th>2005-01-01</th>\n",
       "      <td>2005-01-01</td>\n",
       "      <td>44.62</td>\n",
       "    </tr>\n",
       "    <tr>\n",
       "      <th>2005-01-02</th>\n",
       "      <td>2005-01-02</td>\n",
       "      <td>44.62</td>\n",
       "    </tr>\n",
       "    <tr>\n",
       "      <th>2005-01-03</th>\n",
       "      <td>2005-01-03</td>\n",
       "      <td>44.47</td>\n",
       "    </tr>\n",
       "    <tr>\n",
       "      <th>2005-01-04</th>\n",
       "      <td>2005-01-04</td>\n",
       "      <td>44.42</td>\n",
       "    </tr>\n",
       "    <tr>\n",
       "      <th>2005-01-05</th>\n",
       "      <td>2005-01-05</td>\n",
       "      <td>44.35</td>\n",
       "    </tr>\n",
       "  </tbody>\n",
       "</table>\n",
       "</div>"
      ],
      "text/plain": [
       "                 DATE  GENERAL_DAM_OCCUPANCY_RATE\n",
       "DATE                                             \n",
       "2005-01-01 2005-01-01                       44.62\n",
       "2005-01-02 2005-01-02                       44.62\n",
       "2005-01-03 2005-01-03                       44.47\n",
       "2005-01-04 2005-01-04                       44.42\n",
       "2005-01-05 2005-01-05                       44.35"
      ]
     },
     "execution_count": 68,
     "metadata": {},
     "output_type": "execute_result"
    }
   ],
   "source": [
    "df3.head()"
   ]
  },
  {
   "cell_type": "code",
   "execution_count": 67,
   "metadata": {},
   "outputs": [
    {
     "data": {
      "text/plain": [
       "<AxesSubplot:xlabel='DATE'>"
      ]
     },
     "execution_count": 67,
     "metadata": {},
     "output_type": "execute_result"
    },
    {
     "data": {
      "image/png": "[encoded data removed]",
      "text/plain": [
       "<Figure size 432x288 with 1 Axes>"
      ]
     },
     "metadata": {
      "needs_background": "light"
     },
     "output_type": "display_data"
    }
   ],
   "source": [
    "df3['GENERAL_DAM_OCCUPANCY_RATE'].plot()"
   ]
  },
  {
   "cell_type": "code",
   "execution_count": 72,
   "metadata": {},
   "outputs": [],
   "source": [
    "##Zooming in\n",
    "gecen_yil = df3[(df3['DATE'] > '2020-01-01') & (df3['DATE'] <= '2020-12-31')].copy()"
   ]
  },
  {
   "cell_type": "code",
   "execution_count": 73,
   "metadata": {},
   "outputs": [
    {
     "data": {
      "text/html": [
       "<div>\n",
       "<style scoped>\n",
       "    .dataframe tbody tr th:only-of-type {\n",
       "        vertical-align: middle;\n",
       "    }\n",
       "\n",
       "    .dataframe tbody tr th {\n",
       "        vertical-align: top;\n",
       "    }\n",
       "\n",
       "    .dataframe thead th {\n",
       "        text-align: right;\n",
       "    }\n",
       "</style>\n",
       "<table border=\"1\" class=\"dataframe\">\n",
       "  <thead>\n",
       "    <tr style=\"text-align: right;\">\n",
       "      <th></th>\n",
       "      <th>DATE</th>\n",
       "      <th>GENERAL_DAM_OCCUPANCY_RATE</th>\n",
       "    </tr>\n",
       "    <tr>\n",
       "      <th>DATE</th>\n",
       "      <th></th>\n",
       "      <th></th>\n",
       "    </tr>\n",
       "  </thead>\n",
       "  <tbody>\n",
       "    <tr>\n",
       "      <th>2020-01-02</th>\n",
       "      <td>2020-01-02</td>\n",
       "      <td>38.08</td>\n",
       "    </tr>\n",
       "    <tr>\n",
       "      <th>2020-01-03</th>\n",
       "      <td>2020-01-03</td>\n",
       "      <td>38.78</td>\n",
       "    </tr>\n",
       "    <tr>\n",
       "      <th>2020-01-04</th>\n",
       "      <td>2020-01-04</td>\n",
       "      <td>39.02</td>\n",
       "    </tr>\n",
       "    <tr>\n",
       "      <th>2020-01-05</th>\n",
       "      <td>2020-01-05</td>\n",
       "      <td>39.03</td>\n",
       "    </tr>\n",
       "    <tr>\n",
       "      <th>2020-01-06</th>\n",
       "      <td>2020-01-06</td>\n",
       "      <td>39.31</td>\n",
       "    </tr>\n",
       "    <tr>\n",
       "      <th>...</th>\n",
       "      <td>...</td>\n",
       "      <td>...</td>\n",
       "    </tr>\n",
       "    <tr>\n",
       "      <th>2020-12-27</th>\n",
       "      <td>2020-12-27</td>\n",
       "      <td>21.11</td>\n",
       "    </tr>\n",
       "    <tr>\n",
       "      <th>2020-12-28</th>\n",
       "      <td>2020-12-28</td>\n",
       "      <td>20.93</td>\n",
       "    </tr>\n",
       "    <tr>\n",
       "      <th>2020-12-29</th>\n",
       "      <td>2020-12-29</td>\n",
       "      <td>20.70</td>\n",
       "    </tr>\n",
       "    <tr>\n",
       "      <th>2020-12-30</th>\n",
       "      <td>2020-12-30</td>\n",
       "      <td>20.49</td>\n",
       "    </tr>\n",
       "    <tr>\n",
       "      <th>2020-12-31</th>\n",
       "      <td>2020-12-31</td>\n",
       "      <td>20.29</td>\n",
       "    </tr>\n",
       "  </tbody>\n",
       "</table>\n",
       "<p>363 rows × 2 columns</p>\n",
       "</div>"
      ],
      "text/plain": [
       "                 DATE  GENERAL_DAM_OCCUPANCY_RATE\n",
       "DATE                                             \n",
       "2020-01-02 2020-01-02                       38.08\n",
       "2020-01-03 2020-01-03                       38.78\n",
       "2020-01-04 2020-01-04                       39.02\n",
       "2020-01-05 2020-01-05                       39.03\n",
       "2020-01-06 2020-01-06                       39.31\n",
       "...               ...                         ...\n",
       "2020-12-27 2020-12-27                       21.11\n",
       "2020-12-28 2020-12-28                       20.93\n",
       "2020-12-29 2020-12-29                       20.70\n",
       "2020-12-30 2020-12-30                       20.49\n",
       "2020-12-31 2020-12-31                       20.29\n",
       "\n",
       "[363 rows x 2 columns]"
      ]
     },
     "execution_count": 73,
     "metadata": {},
     "output_type": "execute_result"
    }
   ],
   "source": [
    "gecen_yil"
   ]
  },
  {
   "cell_type": "code",
   "execution_count": 74,
   "metadata": {},
   "outputs": [
    {
     "data": {
      "text/plain": [
       "<AxesSubplot:xlabel='DATE'>"
      ]
     },
     "execution_count": 74,
     "metadata": {},
     "output_type": "execute_result"
    },
    {
     "data": {
      "image/png": "[encoded data removed]",
      "text/plain": [
       "<Figure size 432x288 with 1 Axes>"
      ]
     },
     "metadata": {
      "needs_background": "light"
     },
     "output_type": "display_data"
    }
   ],
   "source": [
    "gecen_yil['GENERAL_DAM_OCCUPANCY_RATE'].plot()"
   ]
  },
  {
   "cell_type": "code",
   "execution_count": 76,
   "metadata": {},
   "outputs": [],
   "source": [
    "yil_2020 = df3[(df3['DATE'] > '2021-01-01') & (df3['DATE'] <= '2021-02-13')].copy()"
   ]
  },
  {
   "cell_type": "code",
   "execution_count": 77,
   "metadata": {},
   "outputs": [
    {
     "data": {
      "text/plain": [
       "<AxesSubplot:xlabel='DATE'>"
      ]
     },
     "execution_count": 77,
     "metadata": {},
     "output_type": "execute_result"
    },
    {
     "data": {
      "image/png": "[encoded data removed]",
      "text/plain": [
       "<Figure size 432x288 with 1 Axes>"
      ]
     },
     "metadata": {
      "needs_background": "light"
     },
     "output_type": "display_data"
    }
   ],
   "source": [
    "yil_2020['GENERAL_DAM_OCCUPANCY_RATE'].plot()"
   ]
  },
  {
   "cell_type": "code",
   "execution_count": 78,
   "metadata": {},
   "outputs": [],
   "source": [
    "yil_2019 = df3[(df3['DATE'] > '2019-01-01') & (df3['DATE'] <= '2019-12-31')].copy()"
   ]
  },
  {
   "cell_type": "code",
   "execution_count": 79,
   "metadata": {},
   "outputs": [
    {
     "data": {
      "text/plain": [
       "<AxesSubplot:xlabel='DATE'>"
      ]
     },
     "execution_count": 79,
     "metadata": {},
     "output_type": "execute_result"
    },
    {
     "data": {
      "image/png": "[encoded data removed]",
      "text/plain": [
       "<Figure size 432x288 with 1 Axes>"
      ]
     },
     "metadata": {
      "needs_background": "light"
     },
     "output_type": "display_data"
    }
   ],
   "source": [
    "yil_2019['GENERAL_DAM_OCCUPANCY_RATE'].plot()"
   ]
  },
  {
   "cell_type": "code",
   "execution_count": 80,
   "metadata": {},
   "outputs": [],
   "source": [
    "import seaborn as sns"
   ]
  },
  {
   "cell_type": "code",
   "execution_count": 82,
   "metadata": {},
   "outputs": [
    {
     "data": {
      "text/plain": [
       "<AxesSubplot:ylabel='GENERAL_DAM_OCCUPANCY_RATE'>"
      ]
     },
     "execution_count": 82,
     "metadata": {},
     "output_type": "execute_result"
    },
    {
     "data": {
      "image/png": "[encoded data removed]",
      "text/plain": [
       "<Figure size 432x288 with 1 Axes>"
      ]
     },
     "metadata": {
      "needs_background": "light"
     },
     "output_type": "display_data"
    }
   ],
   "source": [
    "sns.regplot(x = df1.index.values, y=df3['GENERAL_DAM_OCCUPANCY_RATE'])\n",
    "##there is no trend"
   ]
  },
  {
   "cell_type": "code",
   "execution_count": 85,
   "metadata": {},
   "outputs": [
    {
     "data": {
      "text/plain": [
       "<AxesSubplot:ylabel='GENERAL_DAM_OCCUPANCY_RATE'>"
      ]
     },
     "execution_count": 85,
     "metadata": {},
     "output_type": "execute_result"
    },
    {
     "data": {
      "image/png": "[encoded data removed]",
      "text/plain": [
       "<Figure size 432x288 with 1 Axes>"
      ]
     },
     "metadata": {
      "needs_background": "light"
     },
     "output_type": "display_data"
    }
   ],
   "source": [
    "sns.regplot(x = df1.index.values, y=df3['GENERAL_DAM_OCCUPANCY_RATE'], order = 2)\n",
    "##quadratic trendline\n",
    "#seasonal pattern var grafikte goruldugu uzere\n",
    "#bu durumu ortadan kaldirmak icin yearly olarak verileri aggregate edicez."
   ]
  },
  {
   "cell_type": "code",
   "execution_count": 88,
   "metadata": {},
   "outputs": [],
   "source": [
    "##Removing Seasonality\n",
    "df3['year'] = df3['DATE'].dt.year"
   ]
  },
  {
   "cell_type": "code",
   "execution_count": 89,
   "metadata": {},
   "outputs": [
    {
     "data": {
      "text/html": [
       "<div>\n",
       "<style scoped>\n",
       "    .dataframe tbody tr th:only-of-type {\n",
       "        vertical-align: middle;\n",
       "    }\n",
       "\n",
       "    .dataframe tbody tr th {\n",
       "        vertical-align: top;\n",
       "    }\n",
       "\n",
       "    .dataframe thead th {\n",
       "        text-align: right;\n",
       "    }\n",
       "</style>\n",
       "<table border=\"1\" class=\"dataframe\">\n",
       "  <thead>\n",
       "    <tr style=\"text-align: right;\">\n",
       "      <th></th>\n",
       "      <th>DATE</th>\n",
       "      <th>GENERAL_DAM_OCCUPANCY_RATE</th>\n",
       "      <th>year</th>\n",
       "    </tr>\n",
       "    <tr>\n",
       "      <th>DATE</th>\n",
       "      <th></th>\n",
       "      <th></th>\n",
       "      <th></th>\n",
       "    </tr>\n",
       "  </thead>\n",
       "  <tbody>\n",
       "    <tr>\n",
       "      <th>2005-01-01</th>\n",
       "      <td>2005-01-01</td>\n",
       "      <td>44.62</td>\n",
       "      <td>2005</td>\n",
       "    </tr>\n",
       "    <tr>\n",
       "      <th>2005-01-02</th>\n",
       "      <td>2005-01-02</td>\n",
       "      <td>44.62</td>\n",
       "      <td>2005</td>\n",
       "    </tr>\n",
       "    <tr>\n",
       "      <th>2005-01-03</th>\n",
       "      <td>2005-01-03</td>\n",
       "      <td>44.47</td>\n",
       "      <td>2005</td>\n",
       "    </tr>\n",
       "    <tr>\n",
       "      <th>2005-01-04</th>\n",
       "      <td>2005-01-04</td>\n",
       "      <td>44.42</td>\n",
       "      <td>2005</td>\n",
       "    </tr>\n",
       "    <tr>\n",
       "      <th>2005-01-05</th>\n",
       "      <td>2005-01-05</td>\n",
       "      <td>44.35</td>\n",
       "      <td>2005</td>\n",
       "    </tr>\n",
       "  </tbody>\n",
       "</table>\n",
       "</div>"
      ],
      "text/plain": [
       "                 DATE  GENERAL_DAM_OCCUPANCY_RATE  year\n",
       "DATE                                                   \n",
       "2005-01-01 2005-01-01                       44.62  2005\n",
       "2005-01-02 2005-01-02                       44.62  2005\n",
       "2005-01-03 2005-01-03                       44.47  2005\n",
       "2005-01-04 2005-01-04                       44.42  2005\n",
       "2005-01-05 2005-01-05                       44.35  2005"
      ]
     },
     "execution_count": 89,
     "metadata": {},
     "output_type": "execute_result"
    }
   ],
   "source": [
    "df3.head()"
   ]
  },
  {
   "cell_type": "code",
   "execution_count": 90,
   "metadata": {},
   "outputs": [
    {
     "data": {
      "text/plain": [
       "year\n",
       "2005    70.648356\n",
       "2006    78.240356\n",
       "2007    35.621233\n",
       "2008    30.666995\n",
       "2009    82.414740\n",
       "2010    84.617781\n",
       "2011    78.900658\n",
       "2012    71.262186\n",
       "2013    68.207178\n",
       "2014    29.591452\n",
       "2015    80.102685\n",
       "2016    64.265082\n",
       "2017    71.840000\n",
       "2018    72.506740\n",
       "2019    70.468795\n",
       "2020    51.253132\n",
       "2021    32.110444\n",
       "Name: GENERAL_DAM_OCCUPANCY_RATE, dtype: float64"
      ]
     },
     "execution_count": 90,
     "metadata": {},
     "output_type": "execute_result"
    }
   ],
   "source": [
    "df3.groupby('year')['GENERAL_DAM_OCCUPANCY_RATE'].mean()"
   ]
  },
  {
   "cell_type": "code",
   "execution_count": 91,
   "metadata": {},
   "outputs": [
    {
     "data": {
      "text/plain": [
       "<AxesSubplot:xlabel='year'>"
      ]
     },
     "execution_count": 91,
     "metadata": {},
     "output_type": "execute_result"
    },
    {
     "data": {
      "image/png": "[encoded data removed]",
      "text/plain": [
       "<Figure size 432x288 with 1 Axes>"
      ]
     },
     "metadata": {
      "needs_background": "light"
     },
     "output_type": "display_data"
    }
   ],
   "source": [
    "df3.groupby('year')['GENERAL_DAM_OCCUPANCY_RATE'].mean().plot()"
   ]
  },
  {
   "cell_type": "code",
   "execution_count": 92,
   "metadata": {},
   "outputs": [],
   "source": [
    "df3['lag1'] = df3['GENERAL_DAM_OCCUPANCY_RATE'].shift(1)"
   ]
  },
  {
   "cell_type": "code",
   "execution_count": 93,
   "metadata": {},
   "outputs": [
    {
     "data": {
      "text/html": [
       "<div>\n",
       "<style scoped>\n",
       "    .dataframe tbody tr th:only-of-type {\n",
       "        vertical-align: middle;\n",
       "    }\n",
       "\n",
       "    .dataframe tbody tr th {\n",
       "        vertical-align: top;\n",
       "    }\n",
       "\n",
       "    .dataframe thead th {\n",
       "        text-align: right;\n",
       "    }\n",
       "</style>\n",
       "<table border=\"1\" class=\"dataframe\">\n",
       "  <thead>\n",
       "    <tr style=\"text-align: right;\">\n",
       "      <th></th>\n",
       "      <th>DATE</th>\n",
       "      <th>GENERAL_DAM_OCCUPANCY_RATE</th>\n",
       "      <th>year</th>\n",
       "      <th>lag1</th>\n",
       "    </tr>\n",
       "    <tr>\n",
       "      <th>DATE</th>\n",
       "      <th></th>\n",
       "      <th></th>\n",
       "      <th></th>\n",
       "      <th></th>\n",
       "    </tr>\n",
       "  </thead>\n",
       "  <tbody>\n",
       "    <tr>\n",
       "      <th>2005-01-01</th>\n",
       "      <td>2005-01-01</td>\n",
       "      <td>44.62</td>\n",
       "      <td>2005</td>\n",
       "      <td>NaN</td>\n",
       "    </tr>\n",
       "    <tr>\n",
       "      <th>2005-01-02</th>\n",
       "      <td>2005-01-02</td>\n",
       "      <td>44.62</td>\n",
       "      <td>2005</td>\n",
       "      <td>44.62</td>\n",
       "    </tr>\n",
       "    <tr>\n",
       "      <th>2005-01-03</th>\n",
       "      <td>2005-01-03</td>\n",
       "      <td>44.47</td>\n",
       "      <td>2005</td>\n",
       "      <td>44.62</td>\n",
       "    </tr>\n",
       "    <tr>\n",
       "      <th>2005-01-04</th>\n",
       "      <td>2005-01-04</td>\n",
       "      <td>44.42</td>\n",
       "      <td>2005</td>\n",
       "      <td>44.47</td>\n",
       "    </tr>\n",
       "    <tr>\n",
       "      <th>2005-01-05</th>\n",
       "      <td>2005-01-05</td>\n",
       "      <td>44.35</td>\n",
       "      <td>2005</td>\n",
       "      <td>44.42</td>\n",
       "    </tr>\n",
       "  </tbody>\n",
       "</table>\n",
       "</div>"
      ],
      "text/plain": [
       "                 DATE  GENERAL_DAM_OCCUPANCY_RATE  year   lag1\n",
       "DATE                                                          \n",
       "2005-01-01 2005-01-01                       44.62  2005    NaN\n",
       "2005-01-02 2005-01-02                       44.62  2005  44.62\n",
       "2005-01-03 2005-01-03                       44.47  2005  44.62\n",
       "2005-01-04 2005-01-04                       44.42  2005  44.47\n",
       "2005-01-05 2005-01-05                       44.35  2005  44.42"
      ]
     },
     "execution_count": 93,
     "metadata": {},
     "output_type": "execute_result"
    }
   ],
   "source": [
    "df3.head()"
   ]
  },
  {
   "cell_type": "code",
   "execution_count": 94,
   "metadata": {},
   "outputs": [
    {
     "data": {
      "text/plain": [
       "<AxesSubplot:xlabel='lag1', ylabel='GENERAL_DAM_OCCUPANCY_RATE'>"
      ]
     },
     "execution_count": 94,
     "metadata": {},
     "output_type": "execute_result"
    },
    {
     "data": {
      "image/png": "[encoded data removed]",
      "text/plain": [
       "<Figure size 432x288 with 1 Axes>"
      ]
     },
     "metadata": {
      "needs_background": "light"
     },
     "output_type": "display_data"
    }
   ],
   "source": [
    "sns.scatterplot(x=df3['lag1'], y=df3['GENERAL_DAM_OCCUPANCY_RATE'])\n",
    "#positive correlation between lag values and feature\n"
   ]
  },
  {
   "cell_type": "code",
   "execution_count": 95,
   "metadata": {},
   "outputs": [],
   "source": [
    "from pandas.plotting import lag_plot"
   ]
  },
  {
   "cell_type": "code",
   "execution_count": 96,
   "metadata": {},
   "outputs": [
    {
     "data": {
      "text/plain": [
       "<AxesSubplot:xlabel='y(t)', ylabel='y(t + 1)'>"
      ]
     },
     "execution_count": 96,
     "metadata": {},
     "output_type": "execute_result"
    },
    {
     "data": {
      "image/png": "[encoded data removed]",
      "text/plain": [
       "<Figure size 432x288 with 1 Axes>"
      ]
     },
     "metadata": {
      "needs_background": "light"
     },
     "output_type": "display_data"
    }
   ],
   "source": [
    "lag_plot(df3['GENERAL_DAM_OCCUPANCY_RATE'])"
   ]
  },
  {
   "cell_type": "code",
   "execution_count": 97,
   "metadata": {},
   "outputs": [],
   "source": [
    "## I want to see correlation of the possible lag values --> Autocorrelation\n",
    "from pandas.plotting import autocorrelation_plot"
   ]
  },
  {
   "cell_type": "code",
   "execution_count": 98,
   "metadata": {},
   "outputs": [
    {
     "data": {
      "text/plain": [
       "<AxesSubplot:xlabel='Lag', ylabel='Autocorrelation'>"
      ]
     },
     "execution_count": 98,
     "metadata": {},
     "output_type": "execute_result"
    },
    {
     "data": {
      "image/png": "[encoded data removed]",
      "text/plain": [
       "<Figure size 432x288 with 1 Axes>"
      ]
     },
     "metadata": {
      "needs_background": "light"
     },
     "output_type": "display_data"
    }
   ],
   "source": [
    "autocorrelation_plot(df3['GENERAL_DAM_OCCUPANCY_RATE'])\n",
    "##what is correlation between the values and lags"
   ]
  },
  {
   "cell_type": "code",
   "execution_count": 100,
   "metadata": {},
   "outputs": [
    {
     "data": {
      "text/html": [
       "<div>\n",
       "<style scoped>\n",
       "    .dataframe tbody tr th:only-of-type {\n",
       "        vertical-align: middle;\n",
       "    }\n",
       "\n",
       "    .dataframe tbody tr th {\n",
       "        vertical-align: top;\n",
       "    }\n",
       "\n",
       "    .dataframe thead th {\n",
       "        text-align: right;\n",
       "    }\n",
       "</style>\n",
       "<table border=\"1\" class=\"dataframe\">\n",
       "  <thead>\n",
       "    <tr style=\"text-align: right;\">\n",
       "      <th></th>\n",
       "      <th>DATE</th>\n",
       "      <th>GENERAL_DAM_OCCUPANCY_RATE</th>\n",
       "    </tr>\n",
       "  </thead>\n",
       "  <tbody>\n",
       "    <tr>\n",
       "      <th>0</th>\n",
       "      <td>2005-01-01</td>\n",
       "      <td>44.62</td>\n",
       "    </tr>\n",
       "    <tr>\n",
       "      <th>1</th>\n",
       "      <td>2005-01-02</td>\n",
       "      <td>44.62</td>\n",
       "    </tr>\n",
       "    <tr>\n",
       "      <th>2</th>\n",
       "      <td>2005-01-03</td>\n",
       "      <td>44.47</td>\n",
       "    </tr>\n",
       "    <tr>\n",
       "      <th>3</th>\n",
       "      <td>2005-01-04</td>\n",
       "      <td>44.42</td>\n",
       "    </tr>\n",
       "    <tr>\n",
       "      <th>4</th>\n",
       "      <td>2005-01-05</td>\n",
       "      <td>44.35</td>\n",
       "    </tr>\n",
       "  </tbody>\n",
       "</table>\n",
       "</div>"
      ],
      "text/plain": [
       "         DATE  GENERAL_DAM_OCCUPANCY_RATE\n",
       "0  2005-01-01                       44.62\n",
       "1  2005-01-02                       44.62\n",
       "2  2005-01-03                       44.47\n",
       "3  2005-01-04                       44.42\n",
       "4  2005-01-05                       44.35"
      ]
     },
     "execution_count": 100,
     "metadata": {},
     "output_type": "execute_result"
    }
   ],
   "source": [
    "df1.head()"
   ]
  },
  {
   "cell_type": "code",
   "execution_count": 101,
   "metadata": {},
   "outputs": [],
   "source": [
    "#DECOMPOSING TIME SERIES\n",
    "from statsmodels.tsa.seasonal import seasonal_decompose"
   ]
  },
  {
   "cell_type": "code",
   "execution_count": 104,
   "metadata": {},
   "outputs": [],
   "source": [
    "df_decomp = pd.read_csv('dam_occupancy.csv', header = 0, parse_dates = [0])"
   ]
  },
  {
   "cell_type": "code",
   "execution_count": 105,
   "metadata": {},
   "outputs": [],
   "source": [
    "df_decomp1 = df_decomp.drop(['GENERAL_DAM_RESERVED_WATER'], axis=1)"
   ]
  },
  {
   "cell_type": "code",
   "execution_count": 109,
   "metadata": {},
   "outputs": [
    {
     "data": {
      "text/html": [
       "<div>\n",
       "<style scoped>\n",
       "    .dataframe tbody tr th:only-of-type {\n",
       "        vertical-align: middle;\n",
       "    }\n",
       "\n",
       "    .dataframe tbody tr th {\n",
       "        vertical-align: top;\n",
       "    }\n",
       "\n",
       "    .dataframe thead th {\n",
       "        text-align: right;\n",
       "    }\n",
       "</style>\n",
       "<table border=\"1\" class=\"dataframe\">\n",
       "  <thead>\n",
       "    <tr style=\"text-align: right;\">\n",
       "      <th></th>\n",
       "      <th>DATE</th>\n",
       "      <th>GENERAL_DAM_OCCUPANCY_RATE</th>\n",
       "    </tr>\n",
       "    <tr>\n",
       "      <th>DATE</th>\n",
       "      <th></th>\n",
       "      <th></th>\n",
       "    </tr>\n",
       "  </thead>\n",
       "  <tbody>\n",
       "    <tr>\n",
       "      <th>2005-01-01</th>\n",
       "      <td>2005-01-01</td>\n",
       "      <td>44.62</td>\n",
       "    </tr>\n",
       "    <tr>\n",
       "      <th>2005-01-02</th>\n",
       "      <td>2005-01-02</td>\n",
       "      <td>44.62</td>\n",
       "    </tr>\n",
       "    <tr>\n",
       "      <th>2005-01-03</th>\n",
       "      <td>2005-01-03</td>\n",
       "      <td>44.47</td>\n",
       "    </tr>\n",
       "    <tr>\n",
       "      <th>2005-01-04</th>\n",
       "      <td>2005-01-04</td>\n",
       "      <td>44.42</td>\n",
       "    </tr>\n",
       "    <tr>\n",
       "      <th>2005-01-05</th>\n",
       "      <td>2005-01-05</td>\n",
       "      <td>44.35</td>\n",
       "    </tr>\n",
       "  </tbody>\n",
       "</table>\n",
       "</div>"
      ],
      "text/plain": [
       "                 DATE  GENERAL_DAM_OCCUPANCY_RATE\n",
       "DATE                                             \n",
       "2005-01-01 2005-01-01                       44.62\n",
       "2005-01-02 2005-01-02                       44.62\n",
       "2005-01-03 2005-01-03                       44.47\n",
       "2005-01-04 2005-01-04                       44.42\n",
       "2005-01-05 2005-01-05                       44.35"
      ]
     },
     "execution_count": 109,
     "metadata": {},
     "output_type": "execute_result"
    }
   ],
   "source": [
    "df_decomp1.head()"
   ]
  },
  {
   "cell_type": "code",
   "execution_count": 111,
   "metadata": {},
   "outputs": [],
   "source": [
    "df_decomp1.index = df_decomp1['DATE']"
   ]
  },
  {
   "cell_type": "code",
   "execution_count": 113,
   "metadata": {},
   "outputs": [
    {
     "data": {
      "text/html": [
       "<div>\n",
       "<style scoped>\n",
       "    .dataframe tbody tr th:only-of-type {\n",
       "        vertical-align: middle;\n",
       "    }\n",
       "\n",
       "    .dataframe tbody tr th {\n",
       "        vertical-align: top;\n",
       "    }\n",
       "\n",
       "    .dataframe thead th {\n",
       "        text-align: right;\n",
       "    }\n",
       "</style>\n",
       "<table border=\"1\" class=\"dataframe\">\n",
       "  <thead>\n",
       "    <tr style=\"text-align: right;\">\n",
       "      <th></th>\n",
       "      <th>DATE</th>\n",
       "      <th>GENERAL_DAM_OCCUPANCY_RATE</th>\n",
       "    </tr>\n",
       "    <tr>\n",
       "      <th>DATE</th>\n",
       "      <th></th>\n",
       "      <th></th>\n",
       "    </tr>\n",
       "  </thead>\n",
       "  <tbody>\n",
       "    <tr>\n",
       "      <th>2005-01-01</th>\n",
       "      <td>2005-01-01</td>\n",
       "      <td>44.62</td>\n",
       "    </tr>\n",
       "    <tr>\n",
       "      <th>2005-01-02</th>\n",
       "      <td>2005-01-02</td>\n",
       "      <td>44.62</td>\n",
       "    </tr>\n",
       "    <tr>\n",
       "      <th>2005-01-03</th>\n",
       "      <td>2005-01-03</td>\n",
       "      <td>44.47</td>\n",
       "    </tr>\n",
       "    <tr>\n",
       "      <th>2005-01-04</th>\n",
       "      <td>2005-01-04</td>\n",
       "      <td>44.42</td>\n",
       "    </tr>\n",
       "    <tr>\n",
       "      <th>2005-01-05</th>\n",
       "      <td>2005-01-05</td>\n",
       "      <td>44.35</td>\n",
       "    </tr>\n",
       "  </tbody>\n",
       "</table>\n",
       "</div>"
      ],
      "text/plain": [
       "                 DATE  GENERAL_DAM_OCCUPANCY_RATE\n",
       "DATE                                             \n",
       "2005-01-01 2005-01-01                       44.62\n",
       "2005-01-02 2005-01-02                       44.62\n",
       "2005-01-03 2005-01-03                       44.47\n",
       "2005-01-04 2005-01-04                       44.42\n",
       "2005-01-05 2005-01-05                       44.35"
      ]
     },
     "execution_count": 113,
     "metadata": {},
     "output_type": "execute_result"
    }
   ],
   "source": [
    "df_decomp1.head()"
   ]
  },
  {
   "cell_type": "code",
   "execution_count": 116,
   "metadata": {},
   "outputs": [],
   "source": [
    "df_decomp2 = df_decomp1.drop(['DATE'], axis=1)"
   ]
  },
  {
   "cell_type": "code",
   "execution_count": 119,
   "metadata": {},
   "outputs": [],
   "source": [
    "df_decomp2.sort_index(inplace=True)"
   ]
  },
  {
   "cell_type": "code",
   "execution_count": 120,
   "metadata": {},
   "outputs": [
    {
     "data": {
      "text/html": [
       "<div>\n",
       "<style scoped>\n",
       "    .dataframe tbody tr th:only-of-type {\n",
       "        vertical-align: middle;\n",
       "    }\n",
       "\n",
       "    .dataframe tbody tr th {\n",
       "        vertical-align: top;\n",
       "    }\n",
       "\n",
       "    .dataframe thead th {\n",
       "        text-align: right;\n",
       "    }\n",
       "</style>\n",
       "<table border=\"1\" class=\"dataframe\">\n",
       "  <thead>\n",
       "    <tr style=\"text-align: right;\">\n",
       "      <th></th>\n",
       "      <th>GENERAL_DAM_OCCUPANCY_RATE</th>\n",
       "    </tr>\n",
       "    <tr>\n",
       "      <th>DATE</th>\n",
       "      <th></th>\n",
       "    </tr>\n",
       "  </thead>\n",
       "  <tbody>\n",
       "    <tr>\n",
       "      <th>2005-01-01</th>\n",
       "      <td>44.62</td>\n",
       "    </tr>\n",
       "    <tr>\n",
       "      <th>2005-01-02</th>\n",
       "      <td>44.62</td>\n",
       "    </tr>\n",
       "    <tr>\n",
       "      <th>2005-01-03</th>\n",
       "      <td>44.47</td>\n",
       "    </tr>\n",
       "    <tr>\n",
       "      <th>2005-01-04</th>\n",
       "      <td>44.42</td>\n",
       "    </tr>\n",
       "    <tr>\n",
       "      <th>2005-01-05</th>\n",
       "      <td>44.35</td>\n",
       "    </tr>\n",
       "  </tbody>\n",
       "</table>\n",
       "</div>"
      ],
      "text/plain": [
       "            GENERAL_DAM_OCCUPANCY_RATE\n",
       "DATE                                  \n",
       "2005-01-01                       44.62\n",
       "2005-01-02                       44.62\n",
       "2005-01-03                       44.47\n",
       "2005-01-04                       44.42\n",
       "2005-01-05                       44.35"
      ]
     },
     "execution_count": 120,
     "metadata": {},
     "output_type": "execute_result"
    }
   ],
   "source": [
    "df_decomp2.head()"
   ]
  },
  {
   "cell_type": "code",
   "execution_count": 128,
   "metadata": {},
   "outputs": [],
   "source": [
    "result = seasonal_decompose(df_decomp2['GENERAL_DAM_OCCUPANCY_RATE'], model = 'additive', period=1)"
   ]
  },
  {
   "cell_type": "code",
   "execution_count": 129,
   "metadata": {},
   "outputs": [
    {
     "data": {
      "image/png": "[encoded data removed]",
      "text/plain": [
       "<Figure size 432x288 with 4 Axes>"
      ]
     },
     "execution_count": 129,
     "metadata": {},
     "output_type": "execute_result"
    },
    {
     "data": {
      "image/png": "[encoded data removed]",
      "text/plain": [
       "<Figure size 432x288 with 4 Axes>"
      ]
     },
     "metadata": {
      "needs_background": "light"
     },
     "output_type": "display_data"
    }
   ],
   "source": [
    "result.plot()"
   ]
  },
  {
   "cell_type": "code",
   "execution_count": 133,
   "metadata": {},
   "outputs": [],
   "source": [
    "result2 = seasonal_decompose(df_decomp2['GENERAL_DAM_OCCUPANCY_RATE'], model = 'multiplicative',period = 1)"
   ]
  },
  {
   "cell_type": "code",
   "execution_count": 134,
   "metadata": {},
   "outputs": [
    {
     "data": {
      "image/png": "[encoded data removed]",
      "text/plain": [
       "<Figure size 432x288 with 4 Axes>"
      ]
     },
     "execution_count": 134,
     "metadata": {},
     "output_type": "execute_result"
    },
    {
     "data": {
      "image/png": "[encoded data removed]",
      "text/plain": [
       "<Figure size 432x288 with 4 Axes>"
      ]
     },
     "metadata": {
      "needs_background": "light"
     },
     "output_type": "display_data"
    }
   ],
   "source": [
    "result2.plot()"
   ]
  },
  {
   "cell_type": "code",
   "execution_count": 138,
   "metadata": {},
   "outputs": [
    {
     "data": {
      "text/html": [
       "<div>\n",
       "<style scoped>\n",
       "    .dataframe tbody tr th:only-of-type {\n",
       "        vertical-align: middle;\n",
       "    }\n",
       "\n",
       "    .dataframe tbody tr th {\n",
       "        vertical-align: top;\n",
       "    }\n",
       "\n",
       "    .dataframe thead th {\n",
       "        text-align: right;\n",
       "    }\n",
       "</style>\n",
       "<table border=\"1\" class=\"dataframe\">\n",
       "  <thead>\n",
       "    <tr style=\"text-align: right;\">\n",
       "      <th></th>\n",
       "      <th>GENERAL_DAM_OCCUPANCY_RATE</th>\n",
       "    </tr>\n",
       "    <tr>\n",
       "      <th>DATE</th>\n",
       "      <th></th>\n",
       "    </tr>\n",
       "  </thead>\n",
       "  <tbody>\n",
       "    <tr>\n",
       "      <th>2005-01-01</th>\n",
       "      <td>44.62</td>\n",
       "    </tr>\n",
       "    <tr>\n",
       "      <th>2005-01-02</th>\n",
       "      <td>44.62</td>\n",
       "    </tr>\n",
       "    <tr>\n",
       "      <th>2005-01-03</th>\n",
       "      <td>44.47</td>\n",
       "    </tr>\n",
       "    <tr>\n",
       "      <th>2005-01-04</th>\n",
       "      <td>44.42</td>\n",
       "    </tr>\n",
       "    <tr>\n",
       "      <th>2005-01-05</th>\n",
       "      <td>44.35</td>\n",
       "    </tr>\n",
       "  </tbody>\n",
       "</table>\n",
       "</div>"
      ],
      "text/plain": [
       "            GENERAL_DAM_OCCUPANCY_RATE\n",
       "DATE                                  \n",
       "2005-01-01                       44.62\n",
       "2005-01-02                       44.62\n",
       "2005-01-03                       44.47\n",
       "2005-01-04                       44.42\n",
       "2005-01-05                       44.35"
      ]
     },
     "execution_count": 138,
     "metadata": {},
     "output_type": "execute_result"
    }
   ],
   "source": [
    "#TRAIN AND SPLIT\n",
    "series1.head()"
   ]
  },
  {
   "cell_type": "code",
   "execution_count": 139,
   "metadata": {},
   "outputs": [
    {
     "data": {
      "text/plain": [
       "4709"
      ]
     },
     "execution_count": 139,
     "metadata": {},
     "output_type": "execute_result"
    }
   ],
   "source": [
    "train_size = int(series1.shape[0]*0.8)\n",
    "train_size"
   ]
  },
  {
   "cell_type": "code",
   "execution_count": 140,
   "metadata": {},
   "outputs": [],
   "source": [
    "train = series1[0:train_size]"
   ]
  },
  {
   "cell_type": "code",
   "execution_count": 142,
   "metadata": {},
   "outputs": [],
   "source": [
    "test = series1[train_size:]"
   ]
  },
  {
   "cell_type": "code",
   "execution_count": 143,
   "metadata": {},
   "outputs": [
    {
     "data": {
      "text/plain": [
       "(4709, 1)"
      ]
     },
     "execution_count": 143,
     "metadata": {},
     "output_type": "execute_result"
    }
   ],
   "source": [
    "train.shape"
   ]
  },
  {
   "cell_type": "code",
   "execution_count": 144,
   "metadata": {},
   "outputs": [
    {
     "data": {
      "text/plain": [
       "(1178, 1)"
      ]
     },
     "execution_count": 144,
     "metadata": {},
     "output_type": "execute_result"
    }
   ],
   "source": [
    "test.shape"
   ]
  },
  {
   "cell_type": "code",
   "execution_count": 145,
   "metadata": {},
   "outputs": [
    {
     "data": {
      "text/html": [
       "<div>\n",
       "<style scoped>\n",
       "    .dataframe tbody tr th:only-of-type {\n",
       "        vertical-align: middle;\n",
       "    }\n",
       "\n",
       "    .dataframe tbody tr th {\n",
       "        vertical-align: top;\n",
       "    }\n",
       "\n",
       "    .dataframe thead th {\n",
       "        text-align: right;\n",
       "    }\n",
       "</style>\n",
       "<table border=\"1\" class=\"dataframe\">\n",
       "  <thead>\n",
       "    <tr style=\"text-align: right;\">\n",
       "      <th></th>\n",
       "      <th>GENERAL_DAM_OCCUPANCY_RATE</th>\n",
       "      <th>t</th>\n",
       "    </tr>\n",
       "    <tr>\n",
       "      <th>DATE</th>\n",
       "      <th></th>\n",
       "      <th></th>\n",
       "    </tr>\n",
       "  </thead>\n",
       "  <tbody>\n",
       "    <tr>\n",
       "      <th>2005-01-01</th>\n",
       "      <td>44.62</td>\n",
       "      <td>NaN</td>\n",
       "    </tr>\n",
       "    <tr>\n",
       "      <th>2005-01-02</th>\n",
       "      <td>44.62</td>\n",
       "      <td>44.62</td>\n",
       "    </tr>\n",
       "    <tr>\n",
       "      <th>2005-01-03</th>\n",
       "      <td>44.47</td>\n",
       "      <td>44.62</td>\n",
       "    </tr>\n",
       "    <tr>\n",
       "      <th>2005-01-04</th>\n",
       "      <td>44.42</td>\n",
       "      <td>44.47</td>\n",
       "    </tr>\n",
       "    <tr>\n",
       "      <th>2005-01-05</th>\n",
       "      <td>44.35</td>\n",
       "      <td>44.42</td>\n",
       "    </tr>\n",
       "  </tbody>\n",
       "</table>\n",
       "</div>"
      ],
      "text/plain": [
       "            GENERAL_DAM_OCCUPANCY_RATE      t\n",
       "DATE                                         \n",
       "2005-01-01                       44.62    NaN\n",
       "2005-01-02                       44.62  44.62\n",
       "2005-01-03                       44.47  44.62\n",
       "2005-01-04                       44.42  44.47\n",
       "2005-01-05                       44.35  44.42"
      ]
     },
     "execution_count": 145,
     "metadata": {},
     "output_type": "execute_result"
    }
   ],
   "source": [
    "#Nâive(persitence) model\n",
    "series1['t'] = series1['GENERAL_DAM_OCCUPANCY_RATE'].shift(1) \n",
    "series1.head()"
   ]
  },
  {
   "cell_type": "code",
   "execution_count": 148,
   "metadata": {},
   "outputs": [],
   "source": [
    "train, test = series1[1:series1.shape[0]-7], series1[series1.shape[0]-7:]"
   ]
  },
  {
   "cell_type": "code",
   "execution_count": 149,
   "metadata": {},
   "outputs": [
    {
     "data": {
      "text/html": [
       "<div>\n",
       "<style scoped>\n",
       "    .dataframe tbody tr th:only-of-type {\n",
       "        vertical-align: middle;\n",
       "    }\n",
       "\n",
       "    .dataframe tbody tr th {\n",
       "        vertical-align: top;\n",
       "    }\n",
       "\n",
       "    .dataframe thead th {\n",
       "        text-align: right;\n",
       "    }\n",
       "</style>\n",
       "<table border=\"1\" class=\"dataframe\">\n",
       "  <thead>\n",
       "    <tr style=\"text-align: right;\">\n",
       "      <th></th>\n",
       "      <th>GENERAL_DAM_OCCUPANCY_RATE</th>\n",
       "      <th>t</th>\n",
       "    </tr>\n",
       "    <tr>\n",
       "      <th>DATE</th>\n",
       "      <th></th>\n",
       "      <th></th>\n",
       "    </tr>\n",
       "  </thead>\n",
       "  <tbody>\n",
       "    <tr>\n",
       "      <th>2005-01-02</th>\n",
       "      <td>44.62</td>\n",
       "      <td>44.62</td>\n",
       "    </tr>\n",
       "    <tr>\n",
       "      <th>2005-01-03</th>\n",
       "      <td>44.47</td>\n",
       "      <td>44.62</td>\n",
       "    </tr>\n",
       "    <tr>\n",
       "      <th>2005-01-04</th>\n",
       "      <td>44.42</td>\n",
       "      <td>44.47</td>\n",
       "    </tr>\n",
       "    <tr>\n",
       "      <th>2005-01-05</th>\n",
       "      <td>44.35</td>\n",
       "      <td>44.42</td>\n",
       "    </tr>\n",
       "    <tr>\n",
       "      <th>2005-01-06</th>\n",
       "      <td>44.26</td>\n",
       "      <td>44.35</td>\n",
       "    </tr>\n",
       "  </tbody>\n",
       "</table>\n",
       "</div>"
      ],
      "text/plain": [
       "            GENERAL_DAM_OCCUPANCY_RATE      t\n",
       "DATE                                         \n",
       "2005-01-02                       44.62  44.62\n",
       "2005-01-03                       44.47  44.62\n",
       "2005-01-04                       44.42  44.47\n",
       "2005-01-05                       44.35  44.42\n",
       "2005-01-06                       44.26  44.35"
      ]
     },
     "execution_count": 149,
     "metadata": {},
     "output_type": "execute_result"
    }
   ],
   "source": [
    "train.head()"
   ]
  },
  {
   "cell_type": "code",
   "execution_count": 150,
   "metadata": {},
   "outputs": [],
   "source": [
    "train_X, train_y = train['t'], train['GENERAL_DAM_OCCUPANCY_RATE']\n",
    "test_X, test_y = test['t'], test['GENERAL_DAM_OCCUPANCY_RATE']"
   ]
  },
  {
   "cell_type": "code",
   "execution_count": null,
   "metadata": {},
   "outputs": [],
   "source": [
    "#walk Forward Validation"
   ]
  },
  {
   "cell_type": "code",
   "execution_count": 151,
   "metadata": {},
   "outputs": [],
   "source": [
    "predictions = test_X.copy()"
   ]
  },
  {
   "cell_type": "code",
   "execution_count": 152,
   "metadata": {},
   "outputs": [
    {
     "name": "stdout",
     "output_type": "stream",
     "text": [
      "DATE\n",
      "2021-02-07    44.34\n",
      "2021-02-08    44.55\n",
      "2021-02-09    44.70\n",
      "2021-02-10    44.78\n",
      "2021-02-11    44.99\n",
      "2021-02-12    45.09\n",
      "2021-02-13    45.48\n",
      "Name: t, dtype: float64\n"
     ]
    }
   ],
   "source": [
    "print(predictions)"
   ]
  },
  {
   "cell_type": "code",
   "execution_count": 153,
   "metadata": {},
   "outputs": [
    {
     "name": "stdout",
     "output_type": "stream",
     "text": [
      "DATE\n",
      "2021-02-07    44.55\n",
      "2021-02-08    44.70\n",
      "2021-02-09    44.78\n",
      "2021-02-10    44.99\n",
      "2021-02-11    45.09\n",
      "2021-02-12    45.48\n",
      "2021-02-13    46.11\n",
      "Name: GENERAL_DAM_OCCUPANCY_RATE, dtype: float64\n"
     ]
    }
   ],
   "source": [
    "print(test_y)"
   ]
  },
  {
   "cell_type": "code",
   "execution_count": 154,
   "metadata": {},
   "outputs": [],
   "source": [
    "from sklearn.metrics import mean_squared_error"
   ]
  },
  {
   "cell_type": "code",
   "execution_count": 155,
   "metadata": {},
   "outputs": [],
   "source": [
    "mse = mean_squared_error(test_y,predictions)"
   ]
  },
  {
   "cell_type": "code",
   "execution_count": 156,
   "metadata": {},
   "outputs": [
    {
     "data": {
      "text/plain": [
       "0.09658571428571394"
      ]
     },
     "execution_count": 156,
     "metadata": {},
     "output_type": "execute_result"
    }
   ],
   "source": [
    "mse"
   ]
  },
  {
   "cell_type": "code",
   "execution_count": 159,
   "metadata": {},
   "outputs": [
    {
     "data": {
      "text/plain": [
       "[<matplotlib.lines.Line2D at 0x7f839f6e8890>]"
      ]
     },
     "execution_count": 159,
     "metadata": {},
     "output_type": "execute_result"
    },
    {
     "data": {
      "image/png": "[encoded data removed]",
      "text/plain": [
       "<Figure size 432x288 with 1 Axes>"
      ]
     },
     "metadata": {
      "needs_background": "light"
     },
     "output_type": "display_data"
    }
   ],
   "source": [
    "plt.plot(test_y)\n",
    "plt.plot(predictions, color = 'red')\n",
    "#blue; actual values\n",
    "#red: predict values"
   ]
  },
  {
   "cell_type": "code",
   "execution_count": 218,
   "metadata": {},
   "outputs": [],
   "source": [
    "newseries = series1.drop(['t'], axis=1)"
   ]
  },
  {
   "cell_type": "code",
   "execution_count": 220,
   "metadata": {},
   "outputs": [
    {
     "data": {
      "text/html": [
       "<div>\n",
       "<style scoped>\n",
       "    .dataframe tbody tr th:only-of-type {\n",
       "        vertical-align: middle;\n",
       "    }\n",
       "\n",
       "    .dataframe tbody tr th {\n",
       "        vertical-align: top;\n",
       "    }\n",
       "\n",
       "    .dataframe thead th {\n",
       "        text-align: right;\n",
       "    }\n",
       "</style>\n",
       "<table border=\"1\" class=\"dataframe\">\n",
       "  <thead>\n",
       "    <tr style=\"text-align: right;\">\n",
       "      <th></th>\n",
       "      <th>GENERAL_DAM_OCCUPANCY_RATE</th>\n",
       "    </tr>\n",
       "    <tr>\n",
       "      <th>DATE</th>\n",
       "      <th></th>\n",
       "    </tr>\n",
       "  </thead>\n",
       "  <tbody>\n",
       "    <tr>\n",
       "      <th>2005-01-01</th>\n",
       "      <td>44.62</td>\n",
       "    </tr>\n",
       "    <tr>\n",
       "      <th>2005-01-02</th>\n",
       "      <td>44.62</td>\n",
       "    </tr>\n",
       "    <tr>\n",
       "      <th>2005-01-03</th>\n",
       "      <td>44.47</td>\n",
       "    </tr>\n",
       "    <tr>\n",
       "      <th>2005-01-04</th>\n",
       "      <td>44.42</td>\n",
       "    </tr>\n",
       "    <tr>\n",
       "      <th>2005-01-05</th>\n",
       "      <td>44.35</td>\n",
       "    </tr>\n",
       "  </tbody>\n",
       "</table>\n",
       "</div>"
      ],
      "text/plain": [
       "            GENERAL_DAM_OCCUPANCY_RATE\n",
       "DATE                                  \n",
       "2005-01-01                       44.62\n",
       "2005-01-02                       44.62\n",
       "2005-01-03                       44.47\n",
       "2005-01-04                       44.42\n",
       "2005-01-05                       44.35"
      ]
     },
     "execution_count": 220,
     "metadata": {},
     "output_type": "execute_result"
    }
   ],
   "source": [
    "newseries.head()"
   ]
  },
  {
   "cell_type": "code",
   "execution_count": 221,
   "metadata": {},
   "outputs": [],
   "source": [
    "train, test = newseries.GENERAL_DAM_OCCUPANCY_RATE[1:newseries.shape[0]-7], newseries.GENERAL_DAM_OCCUPANCY_RATE[newseries.shape[0]-7:]"
   ]
  },
  {
   "cell_type": "code",
   "execution_count": 222,
   "metadata": {},
   "outputs": [
    {
     "data": {
      "text/plain": [
       "DATE\n",
       "2005-01-02    44.62\n",
       "2005-01-03    44.47\n",
       "2005-01-04    44.42\n",
       "2005-01-05    44.35\n",
       "2005-01-06    44.26\n",
       "Name: GENERAL_DAM_OCCUPANCY_RATE, dtype: float64"
      ]
     },
     "execution_count": 222,
     "metadata": {},
     "output_type": "execute_result"
    }
   ],
   "source": [
    "train.head()"
   ]
  },
  {
   "cell_type": "code",
   "execution_count": 223,
   "metadata": {},
   "outputs": [],
   "source": [
    "#Auto Regression model --> if you dont have seasonality or trend you can usee it.\n",
    "from statsmodels.tsa.ar_model import AR"
   ]
  },
  {
   "cell_type": "code",
   "execution_count": 224,
   "metadata": {},
   "outputs": [
    {
     "name": "stderr",
     "output_type": "stream",
     "text": [
      "/Users/ahsenkaraman/opt/anaconda3/lib/python3.7/site-packages/statsmodels/tsa/ar_model.py:691: FutureWarning: \n",
      "statsmodels.tsa.AR has been deprecated in favor of statsmodels.tsa.AutoReg and\n",
      "statsmodels.tsa.SARIMAX.\n",
      "\n",
      "AutoReg adds the ability to specify exogenous variables, include time trends,\n",
      "and add seasonal dummies. The AutoReg API differs from AR since the model is\n",
      "treated as immutable, and so the entire specification including the lag\n",
      "length must be specified when creating the model. This change is too\n",
      "substantial to incorporate into the existing AR api. The function\n",
      "ar_select_order performs lag length selection for AutoReg models.\n",
      "\n",
      "AutoReg only estimates parameters using conditional MLE (OLS). Use SARIMAX to\n",
      "estimate ARX and related models using full MLE via the Kalman Filter.\n",
      "\n",
      "To silence this warning and continue using AR until it is removed, use:\n",
      "\n",
      "import warnings\n",
      "warnings.filterwarnings('ignore', 'statsmodels.tsa.ar_model.AR', FutureWarning)\n",
      "\n",
      "  warnings.warn(AR_DEPRECATION_WARN, FutureWarning)\n",
      "/Users/ahsenkaraman/opt/anaconda3/lib/python3.7/site-packages/statsmodels/tsa/base/tsa_model.py:218: ValueWarning: A date index has been provided, but it has no associated frequency information and so will be ignored when e.g. forecasting.\n",
      "  ' ignored when e.g. forecasting.', ValueWarning)\n"
     ]
    }
   ],
   "source": [
    "model = AR(train)\n",
    "model_fit = model.fit()"
   ]
  },
  {
   "cell_type": "code",
   "execution_count": 225,
   "metadata": {},
   "outputs": [
    {
     "data": {
      "text/plain": [
       "33"
      ]
     },
     "execution_count": 225,
     "metadata": {},
     "output_type": "execute_result"
    }
   ],
   "source": [
    "#autoregression means regression on the lag values\n",
    "#number of lag variables\n",
    "model_fit.k_ar"
   ]
  },
  {
   "cell_type": "code",
   "execution_count": 226,
   "metadata": {},
   "outputs": [
    {
     "data": {
      "text/plain": [
       "const                             0.082524\n",
       "L1.GENERAL_DAM_OCCUPANCY_RATE     1.519863\n",
       "L2.GENERAL_DAM_OCCUPANCY_RATE    -0.592790\n",
       "L3.GENERAL_DAM_OCCUPANCY_RATE     0.132230\n",
       "L4.GENERAL_DAM_OCCUPANCY_RATE    -0.023348\n",
       "L5.GENERAL_DAM_OCCUPANCY_RATE    -0.028776\n",
       "L6.GENERAL_DAM_OCCUPANCY_RATE     0.050729\n",
       "L7.GENERAL_DAM_OCCUPANCY_RATE    -0.039421\n",
       "L8.GENERAL_DAM_OCCUPANCY_RATE     0.005640\n",
       "L9.GENERAL_DAM_OCCUPANCY_RATE    -0.030320\n",
       "L10.GENERAL_DAM_OCCUPANCY_RATE    0.002700\n",
       "L11.GENERAL_DAM_OCCUPANCY_RATE    0.015278\n",
       "L12.GENERAL_DAM_OCCUPANCY_RATE    0.031875\n",
       "L13.GENERAL_DAM_OCCUPANCY_RATE   -0.048885\n",
       "L14.GENERAL_DAM_OCCUPANCY_RATE    0.044504\n",
       "L15.GENERAL_DAM_OCCUPANCY_RATE   -0.059851\n",
       "L16.GENERAL_DAM_OCCUPANCY_RATE    0.044349\n",
       "L17.GENERAL_DAM_OCCUPANCY_RATE   -0.011173\n",
       "L18.GENERAL_DAM_OCCUPANCY_RATE   -0.026927\n",
       "L19.GENERAL_DAM_OCCUPANCY_RATE    0.025512\n",
       "L20.GENERAL_DAM_OCCUPANCY_RATE    0.004377\n",
       "L21.GENERAL_DAM_OCCUPANCY_RATE   -0.023038\n",
       "L22.GENERAL_DAM_OCCUPANCY_RATE    0.009472\n",
       "L23.GENERAL_DAM_OCCUPANCY_RATE    0.009436\n",
       "L24.GENERAL_DAM_OCCUPANCY_RATE   -0.005598\n",
       "L25.GENERAL_DAM_OCCUPANCY_RATE   -0.003606\n",
       "L26.GENERAL_DAM_OCCUPANCY_RATE    0.001982\n",
       "L27.GENERAL_DAM_OCCUPANCY_RATE    0.010096\n",
       "L28.GENERAL_DAM_OCCUPANCY_RATE   -0.014738\n",
       "L29.GENERAL_DAM_OCCUPANCY_RATE    0.026606\n",
       "L30.GENERAL_DAM_OCCUPANCY_RATE   -0.013191\n",
       "L31.GENERAL_DAM_OCCUPANCY_RATE    0.007476\n",
       "L32.GENERAL_DAM_OCCUPANCY_RATE   -0.021367\n",
       "L33.GENERAL_DAM_OCCUPANCY_RATE   -0.000372\n",
       "dtype: float64"
      ]
     },
     "execution_count": 226,
     "metadata": {},
     "output_type": "execute_result"
    }
   ],
   "source": [
    "#Coef. of lag variables\n",
    "model_fit.params\n",
    "#sadece 33 lag value onemli bizim icin"
   ]
  },
  {
   "cell_type": "code",
   "execution_count": 227,
   "metadata": {},
   "outputs": [
    {
     "name": "stderr",
     "output_type": "stream",
     "text": [
      "/Users/ahsenkaraman/opt/anaconda3/lib/python3.7/site-packages/statsmodels/tsa/base/tsa_model.py:583: ValueWarning: No supported index is available. Prediction results will be given with an integer index beginning at `start`.\n",
      "  ValueWarning)\n"
     ]
    }
   ],
   "source": [
    "predictions = model_fit.predict(start = len(train), end= len(train)+len(test)-1)"
   ]
  },
  {
   "cell_type": "code",
   "execution_count": 228,
   "metadata": {},
   "outputs": [
    {
     "data": {
      "text/plain": [
       "5879    44.727536\n",
       "5880    45.274656\n",
       "5881    45.965821\n",
       "5882    46.624697\n",
       "5883    47.343082\n",
       "5884    48.039008\n",
       "5885    48.748401\n",
       "dtype: float64"
      ]
     },
     "execution_count": 228,
     "metadata": {},
     "output_type": "execute_result"
    }
   ],
   "source": [
    "predictions"
   ]
  },
  {
   "cell_type": "code",
   "execution_count": 229,
   "metadata": {},
   "outputs": [
    {
     "data": {
      "text/plain": [
       "44.727535920514725"
      ]
     },
     "execution_count": 229,
     "metadata": {},
     "output_type": "execute_result"
    }
   ],
   "source": [
    "predictions.iloc[0]"
   ]
  },
  {
   "cell_type": "code",
   "execution_count": 230,
   "metadata": {},
   "outputs": [],
   "source": [
    "mse = mean_squared_error(test_y,predictions1)"
   ]
  },
  {
   "cell_type": "code",
   "execution_count": 231,
   "metadata": {},
   "outputs": [
    {
     "data": {
      "text/plain": [
       "3.2894598151243812"
      ]
     },
     "execution_count": 231,
     "metadata": {},
     "output_type": "execute_result"
    }
   ],
   "source": [
    "mse"
   ]
  },
  {
   "cell_type": "code",
   "execution_count": 232,
   "metadata": {},
   "outputs": [
    {
     "data": {
      "text/plain": [
       "[<matplotlib.lines.Line2D at 0x7f8383c40a90>]"
      ]
     },
     "execution_count": 232,
     "metadata": {},
     "output_type": "execute_result"
    },
    {
     "data": {
      "image/png": "[encoded data removed]",
      "text/plain": [
       "<Figure size 432x288 with 1 Axes>"
      ]
     },
     "metadata": {
      "needs_background": "light"
     },
     "output_type": "display_data"
    }
   ],
   "source": [
    "plt.plot(test_y)\n",
    "plt.plot(predictions, color = 'red')"
   ]
  },
  {
   "cell_type": "code",
   "execution_count": 236,
   "metadata": {},
   "outputs": [],
   "source": [
    "import numpy as np"
   ]
  },
  {
   "cell_type": "code",
   "execution_count": 259,
   "metadata": {},
   "outputs": [
    {
     "name": "stderr",
     "output_type": "stream",
     "text": [
      "/Users/ahsenkaraman/opt/anaconda3/lib/python3.7/site-packages/statsmodels/tsa/ar_model.py:691: FutureWarning: \n",
      "statsmodels.tsa.AR has been deprecated in favor of statsmodels.tsa.AutoReg and\n",
      "statsmodels.tsa.SARIMAX.\n",
      "\n",
      "AutoReg adds the ability to specify exogenous variables, include time trends,\n",
      "and add seasonal dummies. The AutoReg API differs from AR since the model is\n",
      "treated as immutable, and so the entire specification including the lag\n",
      "length must be specified when creating the model. This change is too\n",
      "substantial to incorporate into the existing AR api. The function\n",
      "ar_select_order performs lag length selection for AutoReg models.\n",
      "\n",
      "AutoReg only estimates parameters using conditional MLE (OLS). Use SARIMAX to\n",
      "estimate ARX and related models using full MLE via the Kalman Filter.\n",
      "\n",
      "To silence this warning and continue using AR until it is removed, use:\n",
      "\n",
      "import warnings\n",
      "warnings.filterwarnings('ignore', 'statsmodels.tsa.ar_model.AR', FutureWarning)\n",
      "\n",
      "  warnings.warn(AR_DEPRECATION_WARN, FutureWarning)\n",
      "/Users/ahsenkaraman/opt/anaconda3/lib/python3.7/site-packages/statsmodels/tsa/base/tsa_model.py:218: ValueWarning: A date index has been provided, but it has no associated frequency information and so will be ignored when e.g. forecasting.\n",
      "  ' ignored when e.g. forecasting.', ValueWarning)\n",
      "/Users/ahsenkaraman/opt/anaconda3/lib/python3.7/site-packages/statsmodels/tsa/base/tsa_model.py:583: ValueWarning: No supported index is available. Prediction results will be given with an integer index beginning at `start`.\n",
      "  ValueWarning)\n"
     ]
    },
    {
     "name": "stdout",
     "output_type": "stream",
     "text": [
      "0.34849679297962544\n",
      "0.41245009026965135\n",
      "0.45120256364279465\n",
      "0.3079080400292863\n",
      "0.44477080089133963\n",
      "0.29511405009810765\n",
      "0.47829630739844126\n"
     ]
    }
   ],
   "source": [
    "##Walk Forward\n",
    "data = train\n",
    "predict = []\n",
    "for t in test:\n",
    "    model = AR(data)\n",
    "    model_fit = model.fit()\n",
    "    y = model_fit.predict(start=len(data), end=len(train)+len(test)-1)\n",
    "    print(y.values[0])\n",
    "    predict.append(y.values[0])\n",
    "    data = np.append(data, t)\n",
    "    data = pd.Series(data)"
   ]
  },
  {
   "cell_type": "code",
   "execution_count": 260,
   "metadata": {},
   "outputs": [
    {
     "data": {
      "text/plain": [
       "[0.34849679297962544,\n",
       " 0.41245009026965135,\n",
       " 0.45120256364279465,\n",
       " 0.3079080400292863,\n",
       " 0.44477080089133963,\n",
       " 0.29511405009810765,\n",
       " 0.47829630739844126]"
      ]
     },
     "execution_count": 260,
     "metadata": {},
     "output_type": "execute_result"
    }
   ],
   "source": [
    "predict"
   ]
  },
  {
   "cell_type": "code",
   "execution_count": 261,
   "metadata": {},
   "outputs": [
    {
     "data": {
      "text/plain": [
       "0.05518899972721936"
      ]
     },
     "execution_count": 261,
     "metadata": {},
     "output_type": "execute_result"
    }
   ],
   "source": [
    "from sklearn.metrics import mean_squared_error\n",
    "mse = mean_squared_error(test.values, predict)\n",
    "mse"
   ]
  },
  {
   "cell_type": "code",
   "execution_count": 262,
   "metadata": {},
   "outputs": [
    {
     "data": {
      "text/plain": [
       "[<matplotlib.lines.Line2D at 0x7f8384555910>]"
      ]
     },
     "execution_count": 262,
     "metadata": {},
     "output_type": "execute_result"
    },
    {
     "data": {
      "image/png": "[encoded data removed]",
      "text/plain": [
       "<Figure size 432x288 with 1 Axes>"
      ]
     },
     "metadata": {
      "needs_background": "light"
     },
     "output_type": "display_data"
    }
   ],
   "source": [
    "plt.plot(test.values)\n",
    "plt.plot(predict, color = 'red')"
   ]
  },
  {
   "cell_type": "code",
   "execution_count": 263,
   "metadata": {},
   "outputs": [],
   "source": [
    "##ARIMA MODEL"
   ]
  },
  {
   "cell_type": "code",
   "execution_count": 264,
   "metadata": {},
   "outputs": [
    {
     "data": {
      "text/html": [
       "<div>\n",
       "<style scoped>\n",
       "    .dataframe tbody tr th:only-of-type {\n",
       "        vertical-align: middle;\n",
       "    }\n",
       "\n",
       "    .dataframe tbody tr th {\n",
       "        vertical-align: top;\n",
       "    }\n",
       "\n",
       "    .dataframe thead th {\n",
       "        text-align: right;\n",
       "    }\n",
       "</style>\n",
       "<table border=\"1\" class=\"dataframe\">\n",
       "  <thead>\n",
       "    <tr style=\"text-align: right;\">\n",
       "      <th></th>\n",
       "      <th>GENERAL_DAM_OCCUPANCY_RATE</th>\n",
       "    </tr>\n",
       "    <tr>\n",
       "      <th>DATE</th>\n",
       "      <th></th>\n",
       "    </tr>\n",
       "  </thead>\n",
       "  <tbody>\n",
       "    <tr>\n",
       "      <th>2005-01-01</th>\n",
       "      <td>44.62</td>\n",
       "    </tr>\n",
       "    <tr>\n",
       "      <th>2005-01-02</th>\n",
       "      <td>44.62</td>\n",
       "    </tr>\n",
       "    <tr>\n",
       "      <th>2005-01-03</th>\n",
       "      <td>44.47</td>\n",
       "    </tr>\n",
       "    <tr>\n",
       "      <th>2005-01-04</th>\n",
       "      <td>44.42</td>\n",
       "    </tr>\n",
       "    <tr>\n",
       "      <th>2005-01-05</th>\n",
       "      <td>44.35</td>\n",
       "    </tr>\n",
       "  </tbody>\n",
       "</table>\n",
       "</div>"
      ],
      "text/plain": [
       "            GENERAL_DAM_OCCUPANCY_RATE\n",
       "DATE                                  \n",
       "2005-01-01                       44.62\n",
       "2005-01-02                       44.62\n",
       "2005-01-03                       44.47\n",
       "2005-01-04                       44.42\n",
       "2005-01-05                       44.35"
      ]
     },
     "execution_count": 264,
     "metadata": {},
     "output_type": "execute_result"
    }
   ],
   "source": [
    "newseries.head()"
   ]
  },
  {
   "cell_type": "code",
   "execution_count": 265,
   "metadata": {},
   "outputs": [
    {
     "data": {
      "text/plain": [
       "<AxesSubplot:xlabel='DATE'>"
      ]
     },
     "execution_count": 265,
     "metadata": {},
     "output_type": "execute_result"
    },
    {
     "data": {
      "image/png": "[encoded data removed]",
      "text/plain": [
       "<Figure size 432x288 with 1 Axes>"
      ]
     },
     "metadata": {
      "needs_background": "light"
     },
     "output_type": "display_data"
    }
   ],
   "source": [
    "newseries.plot()"
   ]
  },
  {
   "cell_type": "code",
   "execution_count": 267,
   "metadata": {},
   "outputs": [
    {
     "data": {
      "text/plain": [
       "<AxesSubplot:xlabel='Lag', ylabel='Autocorrelation'>"
      ]
     },
     "execution_count": 267,
     "metadata": {},
     "output_type": "execute_result"
    },
    {
     "data": {
      "image/png": "[encoded data removed]",
      "text/plain": [
       "<Figure size 432x288 with 1 Axes>"
      ]
     },
     "metadata": {
      "needs_background": "light"
     },
     "output_type": "display_data"
    }
   ],
   "source": [
    "##Autocorrelation plot\n",
    "autocorrelation_plot(newseries)"
   ]
  },
  {
   "cell_type": "code",
   "execution_count": 271,
   "metadata": {},
   "outputs": [
    {
     "data": {
      "image/png": "[encoded data removed]",
      "text/plain": [
       "<Figure size 432x288 with 1 Axes>"
      ]
     },
     "execution_count": 271,
     "metadata": {},
     "output_type": "execute_result"
    },
    {
     "data": {
      "image/png": "[encoded data removed]",
      "text/plain": [
       "<Figure size 432x288 with 1 Axes>"
      ]
     },
     "metadata": {
      "needs_background": "light"
     },
     "output_type": "display_data"
    }
   ],
   "source": [
    "##Partial autocorrelation plot\n",
    "from statsmodels.graphics.tsaplots import plot_pacf\n",
    "plot_pacf(newseries,lags =15)"
   ]
  },
  {
   "cell_type": "code",
   "execution_count": 272,
   "metadata": {},
   "outputs": [],
   "source": [
    "from statsmodels.tsa.arima_model import ARIMA"
   ]
  },
  {
   "cell_type": "code",
   "execution_count": 273,
   "metadata": {},
   "outputs": [
    {
     "name": "stderr",
     "output_type": "stream",
     "text": [
      "/Users/ahsenkaraman/opt/anaconda3/lib/python3.7/site-packages/statsmodels/tsa/base/tsa_model.py:218: ValueWarning: A date index has been provided, but it has no associated frequency information and so will be ignored when e.g. forecasting.\n",
      "  ' ignored when e.g. forecasting.', ValueWarning)\n",
      "/Users/ahsenkaraman/opt/anaconda3/lib/python3.7/site-packages/statsmodels/tsa/base/tsa_model.py:218: ValueWarning: A date index has been provided, but it has no associated frequency information and so will be ignored when e.g. forecasting.\n",
      "  ' ignored when e.g. forecasting.', ValueWarning)\n"
     ]
    }
   ],
   "source": [
    "model = ARIMA(newseries, order = (5,2,3))"
   ]
  },
  {
   "cell_type": "code",
   "execution_count": 274,
   "metadata": {},
   "outputs": [
    {
     "name": "stderr",
     "output_type": "stream",
     "text": [
      "/Users/ahsenkaraman/opt/anaconda3/lib/python3.7/site-packages/statsmodels/base/model.py:548: HessianInversionWarning: Inverting hessian failed, no bse or cov_params available\n",
      "  'available', HessianInversionWarning)\n"
     ]
    }
   ],
   "source": [
    "model_fit = model.fit()"
   ]
  },
  {
   "cell_type": "code",
   "execution_count": 275,
   "metadata": {},
   "outputs": [
    {
     "data": {
      "text/html": [
       "<table class=\"simpletable\">\n",
       "<caption>ARIMA Model Results</caption>\n",
       "<tr>\n",
       "  <th>Dep. Variable:</th> <td>D2.GENERAL_DAM_OCCUPANCY_RATE</td> <th>  No. Observations:  </th>   <td>5885</td>   \n",
       "</tr>\n",
       "<tr>\n",
       "  <th>Model:</th>                <td>ARIMA(5, 2, 3)</td>         <th>  Log Likelihood     </th> <td>-3177.449</td>\n",
       "</tr>\n",
       "<tr>\n",
       "  <th>Method:</th>                   <td>css-mle</td>            <th>  S.D. of innovations</th>   <td>0.415</td>  \n",
       "</tr>\n",
       "<tr>\n",
       "  <th>Date:</th>                <td>Fri, 07 May 2021</td>        <th>  AIC                </th> <td>6374.897</td> \n",
       "</tr>\n",
       "<tr>\n",
       "  <th>Time:</th>                    <td>02:44:40</td>            <th>  BIC                </th> <td>6441.699</td> \n",
       "</tr>\n",
       "<tr>\n",
       "  <th>Sample:</th>                      <td>2</td>               <th>  HQIC               </th> <td>6398.118</td> \n",
       "</tr>\n",
       "<tr>\n",
       "  <th></th>                             <td> </td>               <th>                     </th>     <td> </td>    \n",
       "</tr>\n",
       "</table>\n",
       "<table class=\"simpletable\">\n",
       "<tr>\n",
       "                   <td></td>                      <th>coef</th>     <th>std err</th>      <th>z</th>      <th>P>|z|</th>  <th>[0.025</th>    <th>0.975]</th>  \n",
       "</tr>\n",
       "<tr>\n",
       "  <th>const</th>                               <td> 4.333e-05</td> <td>    0.001</td> <td>    0.075</td> <td> 0.940</td> <td>   -0.001</td> <td>    0.001</td>\n",
       "</tr>\n",
       "<tr>\n",
       "  <th>ar.L1.D2.GENERAL_DAM_OCCUPANCY_RATE</th> <td>   -1.4961</td> <td>    0.014</td> <td> -103.884</td> <td> 0.000</td> <td>   -1.524</td> <td>   -1.468</td>\n",
       "</tr>\n",
       "<tr>\n",
       "  <th>ar.L2.D2.GENERAL_DAM_OCCUPANCY_RATE</th> <td>   -0.1597</td> <td>    0.028</td> <td>   -5.721</td> <td> 0.000</td> <td>   -0.214</td> <td>   -0.105</td>\n",
       "</tr>\n",
       "<tr>\n",
       "  <th>ar.L3.D2.GENERAL_DAM_OCCUPANCY_RATE</th> <td>    0.3127</td> <td>    0.029</td> <td>   10.800</td> <td> 0.000</td> <td>    0.256</td> <td>    0.369</td>\n",
       "</tr>\n",
       "<tr>\n",
       "  <th>ar.L4.D2.GENERAL_DAM_OCCUPANCY_RATE</th> <td>   -0.0271</td> <td>    0.027</td> <td>   -0.997</td> <td> 0.319</td> <td>   -0.080</td> <td>    0.026</td>\n",
       "</tr>\n",
       "<tr>\n",
       "  <th>ar.L5.D2.GENERAL_DAM_OCCUPANCY_RATE</th> <td>    0.0371</td> <td>    0.014</td> <td>    2.622</td> <td> 0.009</td> <td>    0.009</td> <td>    0.065</td>\n",
       "</tr>\n",
       "<tr>\n",
       "  <th>ma.L1.D2.GENERAL_DAM_OCCUPANCY_RATE</th> <td>    1.0372</td> <td>    0.006</td> <td>  162.454</td> <td> 0.000</td> <td>    1.025</td> <td>    1.050</td>\n",
       "</tr>\n",
       "<tr>\n",
       "  <th>ma.L2.D2.GENERAL_DAM_OCCUPANCY_RATE</th> <td>   -0.8504</td> <td>    0.013</td> <td>  -66.634</td> <td> 0.000</td> <td>   -0.875</td> <td>   -0.825</td>\n",
       "</tr>\n",
       "<tr>\n",
       "  <th>ma.L3.D2.GENERAL_DAM_OCCUPANCY_RATE</th> <td>   -0.9372</td> <td>    0.006</td> <td> -145.988</td> <td> 0.000</td> <td>   -0.950</td> <td>   -0.925</td>\n",
       "</tr>\n",
       "</table>\n",
       "<table class=\"simpletable\">\n",
       "<caption>Roots</caption>\n",
       "<tr>\n",
       "    <td></td>   <th>            Real</th>  <th>         Imaginary</th> <th>         Modulus</th>  <th>        Frequency</th>\n",
       "</tr>\n",
       "<tr>\n",
       "  <th>AR.1</th> <td>          -0.9890</td> <td>          -0.1582j</td> <td>           1.0016</td> <td>          -0.4748</td>\n",
       "</tr>\n",
       "<tr>\n",
       "  <th>AR.2</th> <td>          -0.9890</td> <td>          +0.1582j</td> <td>           1.0016</td> <td>           0.4748</td>\n",
       "</tr>\n",
       "<tr>\n",
       "  <th>AR.3</th> <td>           2.2768</td> <td>          -0.0000j</td> <td>           2.2768</td> <td>          -0.0000</td>\n",
       "</tr>\n",
       "<tr>\n",
       "  <th>AR.4</th> <td>           0.2151</td> <td>          -3.4277j</td> <td>           3.4344</td> <td>          -0.2400</td>\n",
       "</tr>\n",
       "<tr>\n",
       "  <th>AR.5</th> <td>           0.2151</td> <td>          +3.4277j</td> <td>           3.4344</td> <td>           0.2400</td>\n",
       "</tr>\n",
       "<tr>\n",
       "  <th>MA.1</th> <td>           1.0670</td> <td>          -0.0000j</td> <td>           1.0670</td> <td>          -0.0000</td>\n",
       "</tr>\n",
       "<tr>\n",
       "  <th>MA.2</th> <td>          -0.9872</td> <td>          -0.1596j</td> <td>           1.0000</td> <td>          -0.4745</td>\n",
       "</tr>\n",
       "<tr>\n",
       "  <th>MA.3</th> <td>          -0.9872</td> <td>          +0.1596j</td> <td>           1.0000</td> <td>           0.4745</td>\n",
       "</tr>\n",
       "</table>"
      ],
      "text/plain": [
       "<class 'statsmodels.iolib.summary.Summary'>\n",
       "\"\"\"\n",
       "                                   ARIMA Model Results                                   \n",
       "=========================================================================================\n",
       "Dep. Variable:     D2.GENERAL_DAM_OCCUPANCY_RATE   No. Observations:                 5885\n",
       "Model:                            ARIMA(5, 2, 3)   Log Likelihood               -3177.449\n",
       "Method:                                  css-mle   S.D. of innovations              0.415\n",
       "Date:                           Fri, 07 May 2021   AIC                           6374.897\n",
       "Time:                                   02:44:40   BIC                           6441.699\n",
       "Sample:                                        2   HQIC                          6398.118\n",
       "                                                                                         \n",
       "=======================================================================================================\n",
       "                                          coef    std err          z      P>|z|      [0.025      0.975]\n",
       "-------------------------------------------------------------------------------------------------------\n",
       "const                                4.333e-05      0.001      0.075      0.940      -0.001       0.001\n",
       "ar.L1.D2.GENERAL_DAM_OCCUPANCY_RATE    -1.4961      0.014   -103.884      0.000      -1.524      -1.468\n",
       "ar.L2.D2.GENERAL_DAM_OCCUPANCY_RATE    -0.1597      0.028     -5.721      0.000      -0.214      -0.105\n",
       "ar.L3.D2.GENERAL_DAM_OCCUPANCY_RATE     0.3127      0.029     10.800      0.000       0.256       0.369\n",
       "ar.L4.D2.GENERAL_DAM_OCCUPANCY_RATE    -0.0271      0.027     -0.997      0.319      -0.080       0.026\n",
       "ar.L5.D2.GENERAL_DAM_OCCUPANCY_RATE     0.0371      0.014      2.622      0.009       0.009       0.065\n",
       "ma.L1.D2.GENERAL_DAM_OCCUPANCY_RATE     1.0372      0.006    162.454      0.000       1.025       1.050\n",
       "ma.L2.D2.GENERAL_DAM_OCCUPANCY_RATE    -0.8504      0.013    -66.634      0.000      -0.875      -0.825\n",
       "ma.L3.D2.GENERAL_DAM_OCCUPANCY_RATE    -0.9372      0.006   -145.988      0.000      -0.950      -0.925\n",
       "                                    Roots                                    \n",
       "=============================================================================\n",
       "                  Real          Imaginary           Modulus         Frequency\n",
       "-----------------------------------------------------------------------------\n",
       "AR.1           -0.9890           -0.1582j            1.0016           -0.4748\n",
       "AR.2           -0.9890           +0.1582j            1.0016            0.4748\n",
       "AR.3            2.2768           -0.0000j            2.2768           -0.0000\n",
       "AR.4            0.2151           -3.4277j            3.4344           -0.2400\n",
       "AR.5            0.2151           +3.4277j            3.4344            0.2400\n",
       "MA.1            1.0670           -0.0000j            1.0670           -0.0000\n",
       "MA.2           -0.9872           -0.1596j            1.0000           -0.4745\n",
       "MA.3           -0.9872           +0.1596j            1.0000            0.4745\n",
       "-----------------------------------------------------------------------------\n",
       "\"\"\""
      ]
     },
     "execution_count": 275,
     "metadata": {},
     "output_type": "execute_result"
    }
   ],
   "source": [
    "model_fit.summary()"
   ]
  },
  {
   "cell_type": "code",
   "execution_count": 276,
   "metadata": {},
   "outputs": [],
   "source": [
    "residuals = model_fit.resid"
   ]
  },
  {
   "cell_type": "code",
   "execution_count": 277,
   "metadata": {},
   "outputs": [
    {
     "data": {
      "text/plain": [
       "<AxesSubplot:xlabel='DATE'>"
      ]
     },
     "execution_count": 277,
     "metadata": {},
     "output_type": "execute_result"
    },
    {
     "data": {
      "image/png": "[encoded data removed]",
      "text/plain": [
       "<Figure size 432x288 with 1 Axes>"
      ]
     },
     "metadata": {
      "needs_background": "light"
     },
     "output_type": "display_data"
    }
   ],
   "source": [
    "residuals.plot()#residualsda belli bir pattern var bu iyiye isaret "
   ]
  },
  {
   "cell_type": "code",
   "execution_count": 278,
   "metadata": {},
   "outputs": [
    {
     "data": {
      "text/plain": [
       "count    5885.000000\n",
       "mean        0.000408\n",
       "std         0.415226\n",
       "min        -4.485708\n",
       "25%        -0.110279\n",
       "50%        -0.033738\n",
       "75%         0.031255\n",
       "max         9.635284\n",
       "dtype: float64"
      ]
     },
     "execution_count": 278,
     "metadata": {},
     "output_type": "execute_result"
    }
   ],
   "source": [
    "residuals.describe()#residualslarin mean'nden de anlasilacagi uzere iyi bir model oldu"
   ]
  },
  {
   "cell_type": "code",
   "execution_count": 279,
   "metadata": {},
   "outputs": [],
   "source": [
    "output = model_fit.forecast()"
   ]
  },
  {
   "cell_type": "code",
   "execution_count": 280,
   "metadata": {},
   "outputs": [
    {
     "data": {
      "text/plain": [
       "(array([46.67028599]),\n",
       " array([0.41497733]),\n",
       " array([[45.85694536, 47.48362662]]))"
      ]
     },
     "execution_count": 280,
     "metadata": {},
     "output_type": "execute_result"
    }
   ],
   "source": [
    "output"
   ]
  },
  {
   "cell_type": "code",
   "execution_count": 281,
   "metadata": {},
   "outputs": [
    {
     "data": {
      "text/plain": [
       "(array([46.67028599, 47.21626514, 47.741538  , 48.28264894, 48.80979384]),\n",
       " array([0.41497733, 0.76233798, 1.05533563, 1.31955319, 1.56796497]),\n",
       " array([[45.85694536, 47.48362662],\n",
       "        [45.72211015, 48.71042013],\n",
       "        [45.67311816, 49.80995783],\n",
       "        [45.69637222, 50.86892567],\n",
       "        [45.73663898, 51.88294871]]))"
      ]
     },
     "execution_count": 281,
     "metadata": {},
     "output_type": "execute_result"
    }
   ],
   "source": [
    "model_fit.forecast(5)"
   ]
  },
  {
   "cell_type": "code",
   "execution_count": 282,
   "metadata": {},
   "outputs": [],
   "source": [
    "##WALK FORWARD ARIMA"
   ]
  },
  {
   "cell_type": "code",
   "execution_count": 283,
   "metadata": {},
   "outputs": [
    {
     "data": {
      "text/html": [
       "<div>\n",
       "<style scoped>\n",
       "    .dataframe tbody tr th:only-of-type {\n",
       "        vertical-align: middle;\n",
       "    }\n",
       "\n",
       "    .dataframe tbody tr th {\n",
       "        vertical-align: top;\n",
       "    }\n",
       "\n",
       "    .dataframe thead th {\n",
       "        text-align: right;\n",
       "    }\n",
       "</style>\n",
       "<table border=\"1\" class=\"dataframe\">\n",
       "  <thead>\n",
       "    <tr style=\"text-align: right;\">\n",
       "      <th></th>\n",
       "      <th>GENERAL_DAM_OCCUPANCY_RATE</th>\n",
       "    </tr>\n",
       "    <tr>\n",
       "      <th>DATE</th>\n",
       "      <th></th>\n",
       "    </tr>\n",
       "  </thead>\n",
       "  <tbody>\n",
       "    <tr>\n",
       "      <th>2005-01-01</th>\n",
       "      <td>44.62</td>\n",
       "    </tr>\n",
       "    <tr>\n",
       "      <th>2005-01-02</th>\n",
       "      <td>44.62</td>\n",
       "    </tr>\n",
       "    <tr>\n",
       "      <th>2005-01-03</th>\n",
       "      <td>44.47</td>\n",
       "    </tr>\n",
       "    <tr>\n",
       "      <th>2005-01-04</th>\n",
       "      <td>44.42</td>\n",
       "    </tr>\n",
       "    <tr>\n",
       "      <th>2005-01-05</th>\n",
       "      <td>44.35</td>\n",
       "    </tr>\n",
       "  </tbody>\n",
       "</table>\n",
       "</div>"
      ],
      "text/plain": [
       "            GENERAL_DAM_OCCUPANCY_RATE\n",
       "DATE                                  \n",
       "2005-01-01                       44.62\n",
       "2005-01-02                       44.62\n",
       "2005-01-03                       44.47\n",
       "2005-01-04                       44.42\n",
       "2005-01-05                       44.35"
      ]
     },
     "execution_count": 283,
     "metadata": {},
     "output_type": "execute_result"
    }
   ],
   "source": [
    "newseries.head()"
   ]
  },
  {
   "cell_type": "code",
   "execution_count": 284,
   "metadata": {},
   "outputs": [],
   "source": [
    "train_size = int(newseries.shape[0]*0.7)"
   ]
  },
  {
   "cell_type": "code",
   "execution_count": 285,
   "metadata": {},
   "outputs": [],
   "source": [
    "train, test = newseries.GENERAL_DAM_OCCUPANCY_RATE[0:train_size], newseries.GENERAL_DAM_OCCUPANCY_RATE[train_size:]"
   ]
  },
  {
   "cell_type": "code",
   "execution_count": 286,
   "metadata": {},
   "outputs": [
    {
     "data": {
      "text/plain": [
       "(4120,)"
      ]
     },
     "execution_count": 286,
     "metadata": {},
     "output_type": "execute_result"
    }
   ],
   "source": [
    "train.shape"
   ]
  },
  {
   "cell_type": "code",
   "execution_count": 287,
   "metadata": {},
   "outputs": [
    {
     "name": "stderr",
     "output_type": "stream",
     "text": [
      "/Users/ahsenkaraman/opt/anaconda3/lib/python3.7/site-packages/statsmodels/tsa/base/tsa_model.py:162: ValueWarning: No frequency information was provided, so inferred frequency D will be used.\n",
      "  % freq, ValueWarning)\n",
      "/Users/ahsenkaraman/opt/anaconda3/lib/python3.7/site-packages/statsmodels/tsa/base/tsa_model.py:162: ValueWarning: No frequency information was provided, so inferred frequency D will be used.\n",
      "  % freq, ValueWarning)\n"
     ]
    },
    {
     "name": "stdout",
     "output_type": "stream",
     "text": [
      "86.96852151754842\n",
      "86.78710097066565\n",
      "86.68717688276433\n",
      "86.64179861194715\n",
      "86.49488254102033\n",
      "86.20551231774442\n",
      "86.07461603324775\n",
      "85.87515195574494\n",
      "85.81529790026752\n",
      "85.44220156584846\n",
      "85.13209742213414\n",
      "84.9832326471787\n",
      "84.753787229221\n",
      "84.72535888464073\n",
      "84.62963017233989\n",
      "84.6189528492541\n",
      "84.47927919281406\n",
      "84.3078046439097\n",
      "84.11704329598743\n",
      "83.90274421826557\n",
      "83.58740681892704\n",
      "83.42376601910847\n",
      "83.48860547302743\n",
      "83.38069631820973\n",
      "83.39016204920209\n",
      "83.19763963771592\n",
      "83.13995147564249\n",
      "82.90285686161556\n",
      "82.74399879821421\n",
      "82.43728138257534\n",
      "82.11472217954261\n",
      "82.11478546050895\n",
      "81.74684143422344\n",
      "81.6917397691344\n",
      "81.30537184342131\n",
      "81.08740345806302\n",
      "80.93105636618466\n",
      "80.57908644986557\n",
      "80.37149414534555\n",
      "80.17125435834552\n",
      "80.0252136566121\n",
      "79.83471447740318\n",
      "79.54034545154244\n",
      "79.27339447880877\n",
      "79.1537446015158\n",
      "78.92513978938598\n",
      "78.79143661215143\n",
      "78.64619411496031\n",
      "78.38087585160021\n",
      "78.12604182894073\n",
      "77.8582262595159\n",
      "77.4391831848353\n",
      "77.1707963257686\n",
      "76.87167834674727\n",
      "76.96636873177319\n",
      "76.64462840248825\n",
      "76.44123071456866\n",
      "76.21152080683096\n",
      "76.09639401265025\n",
      "75.77992874822839\n",
      "75.66398579504616\n",
      "75.46917432864001\n",
      "75.23516004382498\n",
      "74.96844954576028\n",
      "75.13891086435393\n",
      "74.76536451482934\n",
      "74.78078679518043\n",
      "74.55002492187454\n",
      "74.3255406384106\n",
      "73.98377114487135\n",
      "73.82233934057096\n",
      "73.53105957002965\n",
      "73.22164199443374\n",
      "72.91459413563226\n",
      "72.58432077098533\n",
      "72.30614060291379\n",
      "72.05543387124818\n",
      "71.70165675546787\n",
      "71.60451369534317\n",
      "71.52198831876655\n",
      "71.31046952217453\n",
      "71.20602505968263\n",
      "70.88547235775226\n",
      "70.59158000539254\n",
      "70.4446877758442\n",
      "70.33473120786688\n",
      "70.0605794499906\n",
      "69.80844046083239\n",
      "69.47000343340241\n",
      "69.14525720069389\n",
      "68.76642624545536\n",
      "68.3195186628616\n",
      "67.96778618421624\n",
      "67.61852979310284\n",
      "67.1727321198205\n",
      "66.84343539597549\n",
      "66.47877282447442\n",
      "66.0749796749035\n",
      "65.77797736384878\n",
      "65.44494149218241\n",
      "65.16489459983025\n",
      "64.81763361972818\n",
      "64.46545955366533\n",
      "64.23925144136554\n",
      "63.731112901701074\n",
      "63.556283377906134\n",
      "63.21994531983963\n",
      "62.83995861642395\n",
      "62.46309020888134\n",
      "62.14374537011307\n",
      "61.90375674838408\n",
      "61.45714854175687\n",
      "61.07573868137474\n",
      "60.806117366895\n",
      "60.55095416166689\n",
      "60.33886523802457\n",
      "59.866092719276374\n",
      "59.57484442717218\n",
      "59.114375161595554\n",
      "58.69210618048627\n",
      "58.242487297653874\n",
      "57.951070075933686\n",
      "57.69159793121539\n",
      "57.25982613412343\n",
      "56.8800671909153\n",
      "56.69229360017607\n",
      "56.28289708503525\n",
      "55.94244112978905\n",
      "55.77610849983834\n",
      "55.403707369274684\n",
      "55.155421844583856\n",
      "54.90218806127759\n",
      "54.61718041405112\n",
      "54.39775424344813\n",
      "54.09548306965178\n",
      "53.976392434011935\n",
      "53.92620012886019\n",
      "53.654464513981644\n",
      "53.41616783498717\n",
      "53.17939229399113\n",
      "52.874942941745175\n",
      "52.60286662537179\n",
      "52.372922725467035\n",
      "52.00611448920271\n",
      "51.73790918276041\n",
      "51.48758618423118\n",
      "51.16433458297209\n",
      "50.89633796636307\n",
      "50.646129372034835\n",
      "50.38657222856945\n",
      "50.06471870498057\n",
      "49.893350757855785\n",
      "49.37250035973044\n",
      "49.05681526370151\n",
      "48.9255452483678\n",
      "48.498887116292394\n",
      "48.387414645110454\n",
      "47.97725391811721\n",
      "47.68722107266713\n",
      "47.538055964871205\n",
      "46.99429694310357\n",
      "46.86835136171496\n",
      "46.80540405961278\n",
      "46.48340696671425\n",
      "46.78850037636806\n",
      "46.45625123246088\n",
      "45.84172955877285\n",
      "46.052256203301255\n",
      "45.85772007148979\n",
      "45.94116017202254\n",
      "45.59832101574528\n",
      "45.33318022506424\n",
      "45.19412184832887\n",
      "44.89034389717463\n",
      "44.57242731918046\n",
      "44.35633437099471\n",
      "44.174827066107426\n",
      "43.907742635441075\n",
      "43.565430429658704\n",
      "43.37019577305927\n",
      "43.16661863747152\n",
      "42.92339239733193\n",
      "42.60328428828178\n",
      "42.46097699276008\n",
      "42.250992032291215\n",
      "41.94614823442745\n",
      "41.71197704852584\n",
      "41.44547484722812\n",
      "41.1687049965782\n",
      "40.98720682076549\n",
      "40.696102752974525\n",
      "40.505131859016124\n",
      "40.265144393987796\n",
      "40.040932478864526\n",
      "39.824021965644185\n",
      "39.605689771410454\n",
      "39.35493200498155\n",
      "39.07036065024992\n",
      "38.801205437788795\n",
      "38.589287071979456\n",
      "38.415500525948715\n",
      "38.30156761142648\n",
      "38.117637496035925\n",
      "37.897113638169884\n",
      "37.67705869486475\n",
      "37.56430841251652\n",
      "37.543745999960784\n",
      "37.40350359551616\n",
      "37.183996313544306\n",
      "36.849930116152166\n",
      "36.841191251877376\n",
      "36.54851914622917\n",
      "36.33430991535635\n",
      "36.293903583127566\n",
      "36.37834926706843\n",
      "36.19269608108871\n",
      "36.23083683780217\n",
      "35.92104403786937\n",
      "35.76220733771416\n",
      "35.68904209645916\n",
      "35.51943988299731\n",
      "35.39355785070684\n",
      "35.26556810347068\n",
      "35.202571234075215\n",
      "35.092221315706986\n",
      "34.85802782851068\n",
      "34.56683602983858\n",
      "34.41385504983062\n",
      "34.1459033099201\n",
      "33.83720965191044\n",
      "33.864604794113085\n",
      "35.593883093645545\n",
      "36.986739624228576\n",
      "37.345740998377025\n",
      "37.29178468430787\n",
      "37.648153700903734\n",
      "37.40577721428878\n",
      "37.35593133699306\n",
      "37.24428891107717\n",
      "37.26519081842444\n",
      "37.3206344469957\n",
      "37.32434999937622\n",
      "37.242407372937734\n",
      "37.16884212674381\n",
      "37.111415653052994\n",
      "37.22878632831127\n",
      "37.56973035560195\n",
      "37.70881105610718\n",
      "38.08721084477324\n",
      "38.320593210670836\n",
      "38.51530998664921\n",
      "38.623081869535405\n",
      "38.73734342463253\n",
      "39.00258907333436\n",
      "39.810919677621634\n",
      "41.06460249166174\n",
      "41.712739513420466\n",
      "42.621757417993585\n",
      "43.054964523229\n",
      "43.28528198317538\n",
      "43.50306801000968\n",
      "43.97679378853954\n",
      "50.748476178850225\n",
      "52.43878189887673\n",
      "53.40948450782371\n",
      "53.95594135435632\n",
      "54.026642963391204\n",
      "53.90751365774041\n",
      "54.030329511609324\n",
      "56.60226918037266\n",
      "59.48290209231013\n",
      "59.20553919338511\n",
      "59.7738537078691\n",
      "59.97954850393554\n",
      "60.28999936687522\n",
      "61.5047398318548\n",
      "65.83656972204749\n",
      "65.442489533986\n",
      "69.65409408175255\n",
      "73.75334483427876\n",
      "76.47873850588768\n",
      "78.49339639158734\n",
      "81.87353539369825\n",
      "83.75045602329621\n",
      "85.19022596948828\n",
      "84.40039986939689\n",
      "84.43728532783292\n",
      "84.70410655397038\n",
      "84.72170778248973\n",
      "84.63525950364499\n",
      "84.70547447919171\n",
      "84.88759643126846\n",
      "84.88345526430295\n",
      "84.9754908463327\n",
      "84.8471237728365\n",
      "84.91724922457381\n",
      "84.8227957406461\n",
      "84.86580381595341\n",
      "85.01725171648036\n",
      "85.22104891569512\n",
      "85.67511860660453\n",
      "85.63815334944452\n",
      "85.88947503675573\n",
      "85.81188162744942\n",
      "85.75457647408165\n",
      "85.75266069166366\n",
      "85.85135330773613\n",
      "85.82891736155494\n",
      "85.85610314998046\n",
      "85.75323217322328\n",
      "85.76312498497856\n",
      "85.66742800896846\n",
      "85.62516463572754\n",
      "85.55158124087272\n",
      "85.97715727713835\n",
      "87.32685288022464\n",
      "87.12627251658685\n",
      "87.49849991135216\n",
      "87.52622532332637\n",
      "87.6600458117336\n",
      "87.89277178546175\n",
      "88.03158023871448\n",
      "88.07600264655143\n",
      "88.01723968748213\n",
      "88.02707001063906\n",
      "88.0560779336496\n",
      "88.01132930577772\n",
      "87.90636751663676\n",
      "87.96339966764167\n",
      "87.88517788336681\n",
      "87.91204751726929\n",
      "87.70207403443696\n",
      "87.58709496184191\n",
      "87.64632825616523\n",
      "87.46313007724622\n",
      "87.70534971926017\n",
      "87.76688623681792\n",
      "88.55208873665873\n",
      "88.75032939813373\n",
      "88.86537330134527\n",
      "89.62170748780981\n",
      "89.60310538803851\n",
      "89.81070796331358\n",
      "89.70153561250146\n",
      "89.7160379067245\n",
      "89.64522050586281\n",
      "89.53848349311076\n",
      "89.44153263801579\n",
      "89.37150044182223\n",
      "89.35838937013723\n",
      "89.27595833382794\n",
      "89.12772215022031\n",
      "89.19846887764767\n",
      "88.93755374164087\n",
      "88.8088680748483\n",
      "88.72332385496672\n",
      "88.69967581353008\n",
      "88.45308978115989\n",
      "88.42298433744057\n",
      "88.22966545793224\n",
      "88.24411738908732\n",
      "88.0219648650412\n",
      "87.95234123337097\n",
      "87.87820611326538\n",
      "87.55278714798801\n",
      "87.49173488548257\n",
      "87.37589017276102\n",
      "87.37788879121116\n",
      "87.3293242924079\n",
      "87.14868613422412\n",
      "87.05100097276143\n",
      "87.58025325823094\n",
      "87.47684441846056\n",
      "87.52137380379739\n",
      "87.8561013376645\n",
      "87.73533354517127\n",
      "87.68569626017207\n",
      "87.6041197262483\n",
      "87.49841489621278\n",
      "87.3907213051513\n",
      "87.30972134786064\n",
      "87.25733911410562\n",
      "86.99225017309121\n",
      "86.73474495612611\n",
      "86.4098422750061\n",
      "86.37833962219406\n",
      "86.04436700363915\n",
      "86.16405155666395\n",
      "85.78144777891465\n",
      "85.75272450088943\n",
      "85.86316445824079\n",
      "85.90737998258749\n",
      "85.74989936616163\n",
      "85.71548560646272\n",
      "85.51995949981021\n",
      "85.51055192411347\n",
      "85.41378186408475\n",
      "85.13184732321274\n",
      "85.02189454063772\n",
      "84.73673388742726\n",
      "84.55622966664949\n",
      "84.21536412694567\n",
      "83.92778665777446\n",
      "83.86065922298492\n",
      "83.50597056593092\n",
      "83.42284531067877\n",
      "83.32884190563438\n",
      "82.9494768282508\n",
      "82.74925762885033\n",
      "82.57808701088125\n",
      "82.4620699352897\n",
      "82.18837166217439\n",
      "82.01510850237388\n",
      "81.81265688679672\n",
      "81.76991516829796\n",
      "81.56542529129348\n",
      "81.40406985004239\n",
      "81.23420166955931\n",
      "81.12981359493043\n",
      "80.89900458296843\n",
      "80.66888355323296\n",
      "80.54078590719307\n",
      "80.35861999846603\n",
      "80.28238503632862\n",
      "80.27765134965215\n",
      "80.41396945007708\n",
      "80.0026213230493\n",
      "79.93992778964308\n",
      "79.7355156762351\n",
      "79.55181968203767\n",
      "79.43075956080136\n",
      "79.17751920434998\n",
      "79.08417619685737\n",
      "79.10574489097354\n",
      "79.4177184519949\n",
      "79.32122615532965\n",
      "79.29494753955771\n",
      "79.18263702716777\n",
      "78.9422143249184\n",
      "78.81641167624318\n",
      "78.59581232959064\n",
      "78.41426940116253\n",
      "78.2103496941511\n",
      "77.99138838146519\n",
      "77.68532700655507\n",
      "77.47906802759229\n",
      "77.20823476039004\n",
      "76.943083389086\n",
      "76.58603115273915\n",
      "76.39539173910656\n",
      "76.08067270233673\n",
      "75.85345039670597\n",
      "75.55084045134485\n",
      "75.35708880924018\n",
      "75.13544195750931\n",
      "74.84206844194253\n",
      "74.6854947932267\n",
      "74.34040054969458\n",
      "74.20082950344121\n",
      "73.75314723549222\n",
      "73.46790962494877\n",
      "73.06806295051985\n",
      "72.97721329623214\n",
      "74.5250935205948\n",
      "73.68064545278932\n",
      "73.65634164350524\n",
      "73.54424059019517\n",
      "73.21095513079946\n",
      "72.76627802684484\n",
      "72.55918704433726\n",
      "72.21695812368783\n",
      "71.85161150581649\n",
      "71.72704544490917\n",
      "71.59664699775257\n",
      "71.20140615575967\n",
      "71.0033433219312\n",
      "70.35810807340295\n",
      "70.20183076181164\n",
      "69.86754827762951\n",
      "69.55739307692137\n",
      "69.27212930283308\n",
      "69.00976760634816\n",
      "68.69878862071886\n",
      "68.3692867739521\n",
      "68.14409475755804\n",
      "67.69130406107362\n",
      "67.50866463125763\n",
      "67.06046084228524\n",
      "67.03370227886822\n",
      "66.56759294954378\n",
      "66.05837593853147\n",
      "65.86290016400059\n",
      "66.24177899819672\n",
      "65.67603595200069\n",
      "65.45274420524042\n",
      "65.3756513898597\n",
      "65.27360083042947\n",
      "64.8523241668908\n",
      "64.47961410496086\n",
      "64.32101713302241\n",
      "64.11745264056569\n",
      "63.74007854415007\n",
      "63.34823145661003\n",
      "63.200872691922406\n",
      "62.859943609692834\n",
      "62.74684381627126\n",
      "62.479332385342396\n",
      "62.191611474421606\n",
      "61.958012554069256\n",
      "61.55121345344227\n",
      "61.42211194712259\n",
      "61.020853331006755\n",
      "60.67078685880225\n",
      "60.468153639202576\n",
      "60.38525108594862\n",
      "60.004426201973445\n",
      "59.736490726108336\n",
      "59.4922386750753\n",
      "59.15291396358744\n",
      "58.682046587916744\n",
      "58.39975510592521\n",
      "58.05534188477329\n",
      "57.77074907148827\n",
      "57.40331331282087\n",
      "57.10541881158738\n",
      "56.67292085639095\n",
      "56.44501044460824\n",
      "56.03146818056221\n",
      "55.91655441033859\n",
      "55.45712595781371\n",
      "55.13929965868909\n",
      "54.808571611325036\n",
      "54.49714362879518\n",
      "54.61988865166489\n",
      "54.5747088107534\n",
      "54.58869802205541\n",
      "54.16257889480246\n",
      "56.38790271660066\n",
      "56.32073012178835\n",
      "56.19160054330821\n",
      "56.00429802515408\n",
      "55.64913257847758\n",
      "55.450945537305806\n",
      "55.112084447386046\n",
      "54.83884134869112\n",
      "54.60023140921104\n",
      "54.30049017585225\n",
      "54.05056011689236\n",
      "53.84754647171645\n",
      "53.50172448103251\n",
      "53.161609443421824\n",
      "53.01650063500132\n",
      "52.77972104114585\n",
      "52.45493242630953\n",
      "52.21885479377739\n",
      "51.958766654867986\n",
      "51.79071230996765\n",
      "51.505608444522146\n",
      "51.250685614915405\n",
      "50.94299335968516\n",
      "50.57781050455262\n",
      "50.56113014498795\n",
      "57.938115275523806\n",
      "56.38461596656843\n",
      "57.24031795240585\n",
      "56.98041248758503\n",
      "56.998465384078244\n",
      "56.62236316688316\n",
      "56.65110789649672\n",
      "56.468204267274345\n",
      "56.33513673047526\n",
      "56.33676948870068\n",
      "56.19636339779455\n",
      "56.17335789874939\n",
      "56.36444452318304\n",
      "56.27150344233987\n",
      "56.14680356023868\n",
      "55.83473581616813\n",
      "55.49171718847194\n",
      "55.19087637893064\n",
      "55.15960000505962\n",
      "54.78022476689878\n",
      "54.607941233407594\n",
      "54.335462752021144\n",
      "54.28197212745068\n",
      "54.04106368645558\n",
      "53.88225133417998\n",
      "54.21154707521658\n",
      "55.55838268749457\n",
      "55.44879977682195\n",
      "55.4991879082707\n",
      "55.39676781440668\n",
      "55.237154808093216\n",
      "55.042940166195805\n",
      "54.83907173771483\n",
      "54.70024364126515\n",
      "54.70644343892909\n",
      "54.52184070712131\n",
      "54.46622005327365\n",
      "54.55862566979875\n",
      "54.51071217907347\n",
      "54.437505855534916\n",
      "54.67857815048749\n",
      "54.75437652384216\n",
      "54.85142220886224\n",
      "55.00815229587229\n",
      "54.89932815349616\n",
      "54.785872537962135\n",
      "55.399003370732885\n",
      "55.160572980379825\n",
      "55.314504990992155\n",
      "55.25930539653023\n",
      "55.3450833810444\n",
      "55.307553944112996\n",
      "55.52540345689657\n",
      "56.13295352164965\n",
      "57.19855255232843\n",
      "58.24461222565131\n",
      "58.47774631212875\n",
      "58.909812102864436\n",
      "60.89036251779397\n",
      "62.63494644377024\n",
      "62.365883721767\n",
      "62.62851209861341\n",
      "62.879290877564614\n",
      "62.9244106171997\n",
      "62.94535574437578\n",
      "63.336930751098485\n",
      "63.848898492114515\n",
      "64.09756903161166\n",
      "64.22718549518976\n",
      "64.43900275015842\n",
      "65.37896991176139\n",
      "65.5203914205078\n",
      "65.68363648736896\n",
      "65.76645050021781\n",
      "65.89501552834186\n",
      "66.05455837945502\n",
      "65.97383122316836\n",
      "66.20231573655029\n",
      "66.27259312689722\n",
      "66.3144925492345\n",
      "66.80382008459682\n",
      "67.33268868070323\n",
      "67.39617360417571\n",
      "67.67992971872857\n",
      "68.32969999465135\n",
      "68.92126006880189\n",
      "68.51695079925334\n",
      "69.38199988649389\n",
      "70.91914917880818\n",
      "71.87915050800169\n",
      "72.87111016139959\n",
      "73.4071687543093\n",
      "73.66110269374043\n",
      "73.62081245906174\n",
      "73.81437746412962\n",
      "73.75486124234212\n",
      "73.72725535387899\n",
      "73.75715397429573\n",
      "73.60427485406568\n",
      "73.59917844886067\n",
      "73.64638725398588\n",
      "73.6261571657631\n",
      "75.3021277460646\n",
      "75.42689485152295\n",
      "75.54512502448796\n",
      "75.42568437631273\n",
      "75.93580994568903\n",
      "75.80073446643848\n",
      "76.0278479641085\n",
      "78.89052607256205\n",
      "78.96548095819725\n",
      "79.30158348034217\n",
      "79.63334551984798\n",
      "79.65241396204578\n",
      "79.6073460993222\n",
      "79.58225922690002\n",
      "79.73110700892562\n",
      "79.71790413426226\n",
      "80.0535848323414\n",
      "79.86629596348021\n",
      "80.03925049364918\n",
      "80.21835654623742\n",
      "80.69327253478745\n",
      "81.61025911401838\n",
      "82.64428430092731\n",
      "82.81148842013165\n",
      "86.94392633269925\n",
      "85.83614270395165\n",
      "86.33504558006149\n",
      "87.27020024504515\n",
      "88.82071566515573\n",
      "88.59042979807164\n",
      "89.88939256417845\n",
      "89.63051542211353\n",
      "90.88564328270417\n",
      "90.95277653664907\n",
      "90.64221183952175\n",
      "90.56331921146258\n",
      "90.31440882667874\n",
      "90.25056904475647\n",
      "90.1944186310174\n",
      "90.27608259180742\n",
      "90.15994505765737\n",
      "90.12011796074621\n",
      "90.21244326010616\n",
      "89.65948251759667\n",
      "90.08236406744368\n",
      "89.8303695300202\n",
      "89.44994259222537\n",
      "89.45024777545333\n",
      "89.57411776596732\n",
      "89.54538352309491\n",
      "89.6278851514858\n",
      "90.26607079077645\n",
      "89.72095996012331\n",
      "90.63450856207257\n",
      "90.4773342754847\n",
      "90.44122491007613\n",
      "90.67286771715337\n",
      "91.25551894024512\n",
      "91.06866679138061\n",
      "91.25442866504642\n",
      "91.26298691556518\n",
      "91.47394873896951\n",
      "91.17369579255555\n",
      "91.32391767611853\n",
      "91.31817131878259\n",
      "91.30869905668897\n",
      "91.31481048773513\n",
      "91.4248321090462\n",
      "91.41319423890795\n",
      "91.06860397216066\n",
      "91.18445911374751\n",
      "90.92820560954638\n",
      "90.7254009713704\n",
      "90.68985622166161\n",
      "90.45331349260834\n",
      "90.43062293142526\n",
      "90.18556826673985\n",
      "89.91329969683758\n",
      "89.91913115359408\n",
      "89.56345305006559\n",
      "89.49605366891673\n",
      "89.21642309618045\n",
      "89.12070511755351\n",
      "88.73815836001661\n",
      "88.58803926831607\n",
      "88.46822775792407\n",
      "88.19001337229022\n",
      "88.02703713405495\n",
      "87.82096685728018\n",
      "87.76397774615539\n",
      "87.56736196577403\n",
      "87.60530126440972\n",
      "87.65183213467185\n",
      "87.66742048587335\n",
      "88.04149935959097\n",
      "88.23438908729257\n",
      "88.28419727192437\n",
      "88.25009347332082\n",
      "88.16552434700931\n",
      "88.09212093547067\n",
      "87.99835802597113\n",
      "87.78040694294768\n",
      "87.69709874522759\n",
      "87.56076134534385\n",
      "87.44011470119742\n",
      "87.34663246402889\n",
      "87.15583297897628\n",
      "87.09254908920299\n",
      "86.59914936040883\n",
      "86.38847293255603\n",
      "86.2616774745363\n",
      "86.57292479280598\n",
      "86.4108198759241\n",
      "86.24873750933688\n",
      "86.15807671239432\n",
      "85.97625909296262\n",
      "85.77100003423983\n",
      "85.58253405848815\n",
      "85.44703715543069\n",
      "85.24537466543525\n",
      "84.97538881347899\n",
      "84.93817690687706\n",
      "84.78605184596594\n",
      "84.64767164310727\n",
      "84.3702040194859\n",
      "84.04345088118146\n",
      "83.73709731974402\n",
      "83.518140924982\n",
      "83.15705870728317\n",
      "82.95908820460019\n",
      "82.60454454746896\n",
      "82.42807308855946\n",
      "82.35690111499186\n",
      "82.27042125320105\n",
      "82.1012776154253\n",
      "81.81236668656936\n",
      "81.63334577436407\n",
      "81.2876841011283\n",
      "81.07355909966904\n",
      "80.80389446081034\n",
      "80.41812385017242\n",
      "80.23336296948055\n",
      "79.99888833369084\n",
      "80.6678281205768\n",
      "80.20135552296867\n",
      "80.17086880974882\n",
      "79.98035671469644\n",
      "79.69786321350685\n",
      "79.61700162782903\n",
      "79.31325112034222\n",
      "78.8767948430161\n",
      "78.5820553209373\n",
      "78.40488312609746\n",
      "77.92201655702323\n",
      "77.72159138632523\n",
      "77.36372914836926\n",
      "77.03861138793867\n",
      "76.56051744611584\n",
      "76.33432254172652\n",
      "76.01655402499932\n",
      "75.78330266022549\n",
      "75.39795309506661\n",
      "75.13541394121127\n",
      "74.81312509398539\n",
      "74.61370220213355\n",
      "74.2887546247528\n",
      "74.16404133245808\n",
      "73.82876519284237\n",
      "73.5331259715742\n",
      "73.52172519927277\n",
      "73.55723072757807\n",
      "73.4744191147593\n",
      "73.24904260790879\n",
      "73.38259314387558\n",
      "73.1761234972238\n",
      "72.89924178599152\n",
      "72.68064537471855\n",
      "72.42570224504952\n",
      "72.20355839739818\n",
      "71.9274110792873\n",
      "71.60296056509225\n",
      "71.33335857511958\n",
      "71.06319212868057\n",
      "70.7896683748794\n",
      "70.45633731441221\n",
      "70.15018323570176\n",
      "69.80643285155168\n",
      "69.33613915110435\n",
      "68.83870768688777\n",
      "68.42394825196743\n",
      "68.08951132504184\n",
      "67.67427681680384\n",
      "67.25962471522965\n",
      "66.96265026159178\n",
      "66.5588307838344\n",
      "66.1991837866106\n",
      "65.76571558027797\n",
      "65.46936973257854\n",
      "65.08926792378755\n",
      "64.68850750446875\n",
      "64.37646776398627\n",
      "64.01966294294274\n",
      "63.656040198609425\n",
      "63.249865253406995\n",
      "63.03335222486548\n",
      "62.55861374740225\n",
      "62.202676974045765\n",
      "61.876819775528\n",
      "61.429521416345885\n",
      "61.03462206386719\n",
      "60.64694474450577\n",
      "60.24081934506483\n",
      "59.8378247532087\n",
      "59.60817490453872\n",
      "59.251107699024764\n",
      "59.009284631827285\n",
      "58.76017470562354\n",
      "58.52449560476471\n",
      "58.15201419795061\n",
      "58.155916340233745\n",
      "58.00512675211809\n",
      "58.33866907792274\n",
      "58.64409463929989\n",
      "58.28953893298599\n",
      "58.18921767984025\n",
      "57.84186646212025\n",
      "57.547365638211524\n",
      "57.1668290398189\n",
      "56.85753897831972\n",
      "56.56556126580802\n",
      "56.27258572230095\n",
      "55.997540323475114\n",
      "55.76517943863491\n",
      "55.43867094875385\n",
      "55.17517042563942\n",
      "55.062141465554994\n",
      "54.980668954004244\n",
      "54.79772841521195\n",
      "55.750279115889334\n",
      "55.31399923305938\n",
      "55.50782544295244\n",
      "55.04401202577743\n",
      "55.03056171500562\n",
      "54.59786219867857\n",
      "54.312611290996344\n",
      "53.99610474244501\n",
      "53.737652678916376\n",
      "53.3784707729227\n",
      "53.26282442726736\n",
      "53.44966759076075\n",
      "53.53860653485691\n",
      "54.40047543417247\n",
      "53.827650423080925\n",
      "53.800577775158544\n",
      "53.56074947879509\n",
      "53.3635368669569\n",
      "53.15183431524827\n",
      "52.794455302423714\n",
      "52.61677924152471\n",
      "52.41425375758189\n",
      "52.30698219030726\n",
      "51.94499682469346\n",
      "51.68282111838005\n",
      "51.53431657904532\n",
      "51.274735593768355\n",
      "51.075702324558314\n",
      "50.788856588661105\n",
      "50.61429461567056\n",
      "50.27221341058778\n",
      "50.11267419288423\n",
      "49.78293583998036\n",
      "49.574163778041985\n",
      "49.4176661409009\n",
      "49.00819555968734\n",
      "48.842432725856604\n",
      "48.58512919974052\n",
      "48.39668254747561\n",
      "48.040316817920775\n",
      "47.861766048492264\n",
      "47.636949606998414\n",
      "47.46611344901825\n",
      "47.14947606311214\n",
      "46.968552133972146\n",
      "46.80331377477037\n",
      "47.38075570485572\n",
      "47.68355726664785\n",
      "47.60326050580917\n",
      "47.739217383995246\n",
      "48.82104335326402\n",
      "48.725604193681626\n",
      "48.71491131340151\n",
      "49.79925444840567\n",
      "49.59689371947525\n",
      "49.56291290603633\n",
      "49.527636643010084\n",
      "49.78450921530603\n",
      "50.089495783657455\n",
      "54.28885281620089\n",
      "56.22185319175235\n",
      "57.56054785683397\n",
      "57.83041475515103\n",
      "57.98173470096228\n",
      "58.06822549525243\n",
      "58.163114048478754\n",
      "61.176630193054415\n",
      "62.27289334066284\n",
      "62.0420050042558\n",
      "62.26781777461439\n",
      "62.48350928516381\n",
      "65.46729854792335\n",
      "69.34048299554324\n",
      "69.0644134156754\n",
      "69.5854101863731\n",
      "69.6560885014194\n",
      "69.65191205174933\n",
      "69.2441718049053\n",
      "69.26956725187549\n",
      "73.64964463943446\n",
      "78.70112996705166\n",
      "77.75975790838402\n",
      "78.31243439169627\n",
      "78.27661273368152\n",
      "78.33961282701912\n",
      "78.69335011686933\n",
      "81.57849548852957\n",
      "81.09038032052088\n",
      "81.32374461786506\n",
      "81.34664664453162\n",
      "81.76280615711634\n",
      "81.99227466006079\n",
      "81.78175305554704\n",
      "81.84308915122986\n",
      "81.96001235551796\n",
      "84.04241488988158\n",
      "86.80627566297737\n",
      "87.55874144907364\n",
      "87.50884497954013\n",
      "87.68458369241519\n",
      "87.28965581975073\n",
      "86.94753711485025\n",
      "88.19618304991478\n",
      "91.41719986546079\n",
      "90.75965381259891\n",
      "90.70718726761632\n",
      "90.64133698881\n",
      "90.97415393453983\n",
      "91.04256626614502\n",
      "91.00966566435865\n",
      "91.00625357087841\n",
      "90.81293369542493\n",
      "91.13393043758711\n",
      "90.92060080474863\n",
      "90.755672445879\n",
      "90.73099410999393\n",
      "90.56234813481389\n",
      "90.64050920516495\n",
      "90.69481998004282\n",
      "90.66368725263344\n",
      "90.44383566489292\n",
      "90.43527732456576\n",
      "90.28641438211753\n",
      "90.3922687261009\n",
      "90.38721823198269\n",
      "90.15926373456648\n",
      "90.0537556731052\n",
      "89.8720907258142\n",
      "89.53526511500424\n",
      "89.7555693368182\n",
      "89.91663600898865\n",
      "90.6624908813288\n",
      "90.50294938269518\n",
      "90.3546024456855\n",
      "90.34601397780953\n",
      "90.40823831125766\n",
      "91.95281173061345\n",
      "91.62035528293136\n",
      "91.81005652852113\n",
      "91.65186713949247\n",
      "91.68053347126327\n",
      "91.53247569329436\n",
      "91.54837317335189\n",
      "91.40756432112784\n",
      "91.3226015016162\n",
      "91.22731016779477\n",
      "91.35469993734793\n",
      "91.5760106335926\n",
      "92.40378987033422\n",
      "92.67294464117029\n",
      "92.8160979645165\n",
      "93.14072790798188\n",
      "93.20113594442431\n",
      "93.33500160060056\n",
      "93.27943124766237\n",
      "93.20741941994388\n",
      "93.1525943727232\n",
      "93.38263465288672\n",
      "93.26556491327551\n",
      "93.28996560578014\n",
      "93.33216495481078\n",
      "93.30603674488961\n",
      "93.30506984476406\n",
      "94.25361053608937\n",
      "93.97023341279268\n",
      "93.95714026896985\n",
      "94.01640269535237\n",
      "94.13398507632941\n",
      "94.10550478767871\n",
      "94.10081660887754\n",
      "94.10177125237539\n",
      "94.11753232100975\n",
      "94.10584052471583\n",
      "94.11999023268623\n",
      "94.1126323182406\n",
      "94.05210679938484\n",
      "94.18477439696103\n",
      "94.13586312203672\n",
      "94.02210875069615\n",
      "94.06790813821881\n",
      "93.82801702245716\n",
      "93.71573627198529\n",
      "93.64720963846479\n",
      "93.59611753107164\n",
      "93.41896466537577\n",
      "93.28342487141822\n",
      "93.12755630507621\n",
      "93.10017364528933\n",
      "92.86249107070628\n",
      "92.92220440514248\n",
      "92.78469815127539\n",
      "92.7117716255337\n",
      "92.7556440339311\n",
      "92.69608083541044\n",
      "92.67688534409886\n",
      "92.88088616661413\n",
      "92.98212287388358\n",
      "92.9312791702016\n",
      "92.80511834475388\n",
      "92.75417296525393\n",
      "92.70041779926012\n",
      "92.52865468391676\n",
      "92.47073205114384\n",
      "92.10454892848892\n",
      "92.05980715625346\n",
      "91.96522558136941\n",
      "91.7224162965669\n",
      "91.62726573212677\n",
      "91.54421306844239\n",
      "91.50807857760992\n",
      "91.25605806960333\n",
      "91.13985191732372\n",
      "90.96665594974628\n",
      "90.86951792033516\n",
      "90.6133903128345\n",
      "90.43920754356917\n",
      "90.33644218121118\n",
      "90.04712610131419\n",
      "89.74454015553424\n",
      "90.05485189273837\n",
      "89.84665367950743\n",
      "89.73702871182047\n",
      "89.61868387020169\n",
      "89.75075961246617\n",
      "89.52143731006744\n",
      "89.37341526127214\n",
      "89.09529434911164\n",
      "88.96596910996313\n",
      "88.72530606577297\n",
      "88.54150445883185\n",
      "88.51617911139753\n",
      "88.26220065657094\n",
      "88.03960750840733\n",
      "87.84947733733947\n",
      "87.57132409447833\n",
      "87.75197324942081\n",
      "87.79010320929545\n",
      "87.65908668491578\n",
      "87.28680244963715\n",
      "87.2030608990577\n",
      "86.92685326092361\n",
      "86.6056326575224\n",
      "86.57921956340175\n",
      "86.00829000861661\n",
      "85.86729116645175\n",
      "85.68043980236644\n",
      "85.45223193510867\n",
      "85.11403779206877\n",
      "84.93423545745839\n",
      "84.82259621831238\n",
      "84.5422607945374\n",
      "84.32121100813691\n",
      "83.98410417779668\n",
      "83.7221356465923\n",
      "83.47529426315005\n",
      "82.9724650238809\n",
      "83.09986304824015\n",
      "82.84261167641374\n",
      "82.90456502284766\n",
      "82.61803968814087\n",
      "82.33052031714551\n",
      "81.8703646600742\n",
      "81.80989668868932\n",
      "81.57566082576885\n",
      "81.28231454865922\n",
      "80.98037686738216\n",
      "80.54693623020171\n",
      "80.28099995046401\n",
      "79.96611598260554\n",
      "79.47799806084568\n",
      "79.04646830007864\n",
      "78.6450231728693\n",
      "78.11883015156963\n",
      "77.82160663840706\n",
      "77.27703704096467\n",
      "76.91557417076305\n",
      "76.47716103854397\n",
      "76.00478217762658\n",
      "75.77411939680682\n",
      "75.5648712706897\n",
      "75.00321507399534\n",
      "74.88769183127773\n",
      "74.51405654012174\n",
      "74.28855273710657\n",
      "74.23600919737702\n",
      "73.98347122035408\n",
      "73.7572627778041\n",
      "73.78146685776076\n",
      "73.70763723608495\n",
      "73.20667454496638\n",
      "72.89565580839817\n",
      "72.34176930455693\n",
      "71.8202689811875\n",
      "71.30457194335274\n",
      "70.85261570979503\n",
      "70.23935429407446\n",
      "70.19409934889205\n",
      "70.2351026874075\n",
      "69.91236108658421\n",
      "69.48460713210262\n",
      "69.13282756816447\n",
      "68.79300718246621\n",
      "68.4496753949207\n",
      "68.20233193048963\n",
      "67.82266605159579\n",
      "67.41749049367716\n",
      "67.21615404259643\n",
      "66.84245824996377\n",
      "66.34675921369893\n",
      "66.08163642598258\n",
      "65.61764287918687\n",
      "65.42981180173605\n",
      "64.87592524061128\n",
      "64.66577071510198\n",
      "64.33371526099812\n",
      "63.944219951637\n",
      "63.601613072610846\n",
      "63.39605023358785\n",
      "63.02017264643935\n",
      "62.72934161025322\n",
      "62.43374474500063\n",
      "62.82435356874566\n",
      "62.294562626126066\n",
      "62.12017278285869\n",
      "61.76305037044394\n",
      "61.738898380814916\n",
      "61.41097492041063\n",
      "61.18392978230708\n",
      "60.753394393352124\n",
      "60.4871454190348\n",
      "60.14058062785274\n",
      "59.75638087116802\n",
      "59.54653236753191\n",
      "59.140302902830044\n",
      "58.75471598446454\n",
      "58.4329081523426\n",
      "58.153917904258456\n",
      "57.75256222025171\n",
      "57.49261683981359\n",
      "57.033194412098254\n",
      "56.800498261690656\n",
      "56.468391499212665\n",
      "55.99595825894787\n",
      "55.65652733447499\n",
      "55.25057345034633\n",
      "54.906547202422054\n",
      "54.53651702461525\n",
      "54.228844235330335\n",
      "53.865651346267136\n",
      "53.490637195191646\n",
      "53.18394559642017\n",
      "52.897984692711425\n",
      "52.503387523569145\n",
      "52.13431258569748\n",
      "52.01390306795466\n",
      "51.85508299128164\n",
      "51.62845244357748\n",
      "51.197510956933485\n",
      "50.95173563485338\n",
      "50.761324859841785\n",
      "50.32827601607271\n",
      "49.87463463780094\n",
      "49.45666935217595\n",
      "49.280212180201374\n",
      "48.87171887282965\n",
      "48.59119887846126\n",
      "48.40511030896654\n",
      "48.04151991052062\n",
      "47.75991850852242\n",
      "47.66003798881383\n",
      "47.54819092518581\n",
      "47.34248108185402\n",
      "47.145743232758186\n",
      "47.32930213506868\n",
      "46.96408581625436\n",
      "46.753471416802576\n",
      "46.544838765615964\n",
      "46.30795612711887\n",
      "45.981643315496626\n",
      "45.655585073574066\n",
      "45.37497581026997\n",
      "45.26415045571983\n",
      "44.864750579055666\n",
      "44.79020558763269\n",
      "44.451435145533274\n",
      "44.18666606749734\n",
      "43.9410487435365\n",
      "43.64805193480393\n",
      "43.28585408257107\n",
      "43.081696660265166\n",
      "42.83910538890497\n",
      "42.522425084663965\n",
      "42.127059397739416\n",
      "41.929934110046524\n",
      "41.68740449895089\n",
      "41.41595970200778\n",
      "41.73480278946084\n",
      "41.96991669543423\n",
      "41.83792223842578\n",
      "41.50323637857152\n",
      "41.26609173783766\n",
      "40.9840622405192\n",
      "40.740460384886816\n",
      "40.427888396329024\n",
      "40.16204326571193\n",
      "39.905694993586536\n",
      "39.645536939998955\n",
      "39.33634815433833\n",
      "39.12659410094682\n",
      "38.85061240719272\n",
      "38.61016786604384\n",
      "38.279916684251845\n",
      "38.01805636489597\n",
      "37.79379505790364\n",
      "37.47343867831286\n",
      "37.09324364423233\n",
      "36.98007443068004\n",
      "36.54835507194685\n",
      "36.44082880026919\n",
      "36.30083233108546\n",
      "36.08701636453289\n",
      "36.0612633322605\n",
      "36.00532401820774\n",
      "35.913861242012466\n",
      "35.563108821962075\n",
      "35.74259320567948\n",
      "35.48852396482622\n",
      "35.713488952797455\n",
      "35.59536932661176\n",
      "35.62087153859112\n",
      "35.87013645815723\n",
      "35.98574284179406\n",
      "35.90615362104677\n",
      "35.74035354982696\n",
      "35.72188135798634\n",
      "35.49928282778099\n",
      "35.45216301927794\n",
      "35.16722551602507\n",
      "35.04325726213872\n",
      "34.913534432767264\n",
      "34.738110507168244\n",
      "34.7617336745237\n",
      "34.56073001559802\n",
      "34.37559571834239\n",
      "34.286539416777316\n",
      "34.10197690264973\n",
      "33.814686084935175\n",
      "33.45114933582419\n",
      "33.31919309540186\n",
      "33.48760362049281\n",
      "33.39738561500621\n",
      "33.54872550277877\n",
      "33.81497253200517\n",
      "34.178414148918755\n",
      "34.67359241672718\n",
      "36.15290909906269\n",
      "37.80555350483985\n",
      "38.2068007155329\n",
      "38.435473559371395\n",
      "39.37468418431708\n",
      "39.2949493338528\n",
      "39.15733551088928\n",
      "39.547962292136226\n",
      "50.60182728056012\n",
      "51.363105118808924\n",
      "52.71358409541624\n",
      "53.2136658673517\n",
      "53.39598669705652\n",
      "53.155970961584664\n",
      "53.05493139869153\n",
      "52.4278488974438\n",
      "53.09910174973792\n",
      "52.86307039392141\n",
      "52.9882846623572\n",
      "53.17200869321253\n",
      "53.20686251543952\n",
      "53.6627721248324\n",
      "54.43461348557627\n",
      "54.59368735029279\n",
      "54.68072909914936\n",
      "55.107050197695\n",
      "55.16720676882188\n",
      "55.2396373116725\n",
      "55.35036473730669\n",
      "55.6272402926912\n",
      "55.7812047091515\n",
      "56.39821067153097\n",
      "57.094809520952914\n",
      "57.141870306168265\n",
      "57.44415090105843\n",
      "57.489218194228336\n",
      "57.580145602931175\n",
      "57.62593295275947\n",
      "59.26659059296007\n",
      "59.475651273741114\n",
      "60.264832656559626\n",
      "60.30041928339536\n",
      "60.36649346384054\n",
      "60.41872580709538\n",
      "61.08156225219845\n",
      "61.54854363520915\n",
      "61.42119829163523\n",
      "61.66799527726814\n",
      "61.74324351302341\n",
      "61.88989546628389\n",
      "61.83894038563757\n",
      "62.0303876752338\n",
      "62.144579080825565\n",
      "62.26364768157012\n",
      "62.59893339764991\n",
      "62.84138545212651\n",
      "62.775812306319196\n",
      "62.927029874885136\n",
      "62.876790979093066\n",
      "62.79220715241274\n",
      "63.472444489399614\n",
      "63.44911596572528\n",
      "64.16771458997037\n",
      "64.05972728556723\n",
      "64.15882958384896\n",
      "64.31230405366355\n",
      "64.18544640583431\n",
      "64.18653512225991\n",
      "64.13916337523615\n",
      "63.99597523661069\n",
      "63.79376521272524\n",
      "63.83456551885251\n",
      "64.1913600125906\n",
      "64.03368532474916\n",
      "64.26300665505781\n",
      "64.28575619220202\n",
      "64.13465412234717\n",
      "64.4410449862236\n",
      "64.71545486647324\n",
      "64.56481762328254\n",
      "64.54660181188274\n",
      "64.4588318311251\n",
      "64.18043456110848\n",
      "64.11908293722068\n",
      "63.874548974699444\n",
      "63.69770312663544\n",
      "63.95752786966124\n",
      "64.08554778669243\n",
      "64.02919691424229\n",
      "64.05290072092578\n",
      "64.08170131099415\n",
      "64.77130201071554\n",
      "64.70345444389508\n",
      "64.58639929712925\n",
      "64.52016871878878\n",
      "65.51234611633792\n",
      "66.23421613929759\n",
      "66.35762026879848\n",
      "70.17075384042047\n",
      "70.4717035702587\n",
      "70.50986602932933\n",
      "70.64954049410879\n",
      "70.5731276243258\n",
      "70.4934800908501\n",
      "70.34771974914935\n",
      "70.22484226718267\n",
      "70.03757938158695\n",
      "70.05280846764681\n",
      "70.21239768773717\n",
      "70.04020298118053\n",
      "70.0695643763877\n",
      "70.00065406979326\n",
      "70.00587762954504\n",
      "69.83070949011396\n",
      "69.45064592587937\n",
      "69.47417891902585\n",
      "69.27792635401447\n",
      "69.1102885697926\n",
      "68.9585570941687\n",
      "68.97520668254081\n",
      "68.82192310736487\n",
      "68.69138939771153\n",
      "68.42317324380757\n",
      "68.56969157098901\n",
      "68.36648174538864\n",
      "68.57210354879656\n",
      "68.7287951748366\n",
      "69.25105032280797\n",
      "69.08324111212531\n",
      "69.48088024249071\n",
      "69.59398843655401\n",
      "69.3805112166752\n",
      "69.28387407517951\n",
      "69.2786718032945\n",
      "69.08774268510652\n",
      "68.97314717556058\n",
      "68.70245357279971\n",
      "68.63945544004812\n",
      "68.65516682734324\n",
      "68.38358228238069\n",
      "68.15535779817947\n",
      "68.02985704559676\n",
      "67.73856942636563\n",
      "67.66490425535939\n",
      "67.53732815958857\n",
      "67.62889922423219\n",
      "67.50676058841012\n",
      "67.32101696336588\n",
      "67.26018859727016\n",
      "67.0310548142843\n",
      "67.05233028853436\n",
      "66.95299955824987\n",
      "66.94228592586258\n",
      "66.80559524302188\n",
      "66.61173783245933\n",
      "66.54973823343255\n",
      "66.56389132113848\n",
      "66.70811458686751\n",
      "66.11133283892417\n",
      "65.99199189577637\n",
      "65.91739716156022\n",
      "65.75070347034654\n",
      "65.39139246727183\n",
      "65.26620789315459\n",
      "65.00654689988664\n",
      "64.82341846123792\n",
      "64.56544454446352\n",
      "64.71750978885495\n",
      "64.6627836941646\n",
      "64.54052284987877\n",
      "64.45206932229941\n",
      "64.92314482872887\n",
      "65.04707077750837\n",
      "64.85967029074602\n",
      "64.62982130017268\n",
      "64.57466956546924\n",
      "65.64619391591388\n",
      "65.50408804627159\n",
      "65.39126125518689\n",
      "65.28871905763431\n",
      "65.11458623192006\n",
      "64.95173007591232\n",
      "64.79358700149155\n",
      "64.48875624053545\n",
      "64.36087873897077\n",
      "64.1490062250388\n",
      "63.91380572335896\n",
      "63.68873462789454\n",
      "63.42405292192625\n",
      "63.20388071861671\n",
      "62.96790307947478\n",
      "62.66022446182059\n",
      "62.42844428669399\n",
      "62.15858404398553\n",
      "61.883587513710495\n",
      "61.70429159279305\n",
      "61.336159612436695\n",
      "61.19125462229738\n",
      "60.969397650897236\n",
      "60.76736455143571\n",
      "60.46103304716867\n",
      "60.295713475437005\n",
      "60.04616697640548\n",
      "59.865987060389344\n",
      "59.58300984647277\n",
      "59.35762930573326\n",
      "59.066142148162854\n",
      "58.86084580289785\n",
      "58.7471660850593\n",
      "58.283763246277836\n",
      "57.88924441604175\n",
      "57.66343751914779\n",
      "57.354635519603875\n",
      "56.496145375616365\n",
      "56.44445793663454\n",
      "56.16825051264016\n",
      "55.788291289183825\n",
      "55.49264264179248\n",
      "55.09492025750018\n",
      "54.7971819442915\n",
      "54.49963791353903\n",
      "54.16975486768094\n",
      "53.81918587949895\n",
      "53.45292280716702\n",
      "53.14048101685509\n",
      "52.788953107991276\n",
      "52.41827953173297\n",
      "52.04292050437997\n",
      "52.016202073071305\n",
      "51.555053555599685\n",
      "51.242047032988076\n",
      "50.86529327950459\n",
      "50.561036671447916\n",
      "50.524108733324816\n",
      "50.05705836513512\n",
      "49.77666649778183\n",
      "49.38813018355444\n",
      "49.00629422575963\n",
      "48.686475058107966\n",
      "48.382651424935794\n",
      "48.071454524153594\n",
      "47.68611078037711\n",
      "47.36501947849772\n",
      "47.005722148227285\n",
      "46.62431485014929\n",
      "46.3139515532376\n",
      "45.96547293448069\n",
      "45.596400228354014\n",
      "45.23709667590387\n",
      "44.86249895459669\n",
      "44.50684285448299\n",
      "44.20612009092687\n",
      "43.96196561168091\n",
      "43.5207713582408\n",
      "43.29410284213164\n",
      "42.88643757015173\n",
      "42.660941410611215\n",
      "42.35074453269419\n",
      "41.99366135552298\n",
      "41.638556615973464\n",
      "41.384219090512616\n",
      "40.94651596464036\n",
      "40.52547263867373\n",
      "40.29878610532598\n",
      "39.98408130447228\n",
      "39.670379772595616\n",
      "39.37923084292875\n",
      "39.00890411099724\n",
      "38.75473435828635\n",
      "38.347831017455256\n",
      "38.057392926496824\n",
      "37.68159222508494\n",
      "37.33786435261283\n",
      "37.12196888615096\n",
      "36.780569744396296\n",
      "36.49405252954081\n",
      "36.17819744189944\n",
      "35.82748648699473\n",
      "35.484912343349734\n",
      "35.11155920726378\n",
      "34.828276491081105\n",
      "34.49577948703056\n",
      "34.66222764519745\n",
      "34.46313443540459\n",
      "34.11374392505015\n",
      "33.8856808865616\n",
      "33.51994869216744\n",
      "33.241648865375694\n",
      "33.04061619006969\n",
      "32.77206269914104\n",
      "32.494846847505315\n",
      "32.26126387407684\n",
      "32.13707623345552\n",
      "31.851739648499713\n",
      "32.05779763941941\n",
      "31.67655656315204\n",
      "31.57531964278505\n",
      "31.218004169594067\n",
      "31.019997640417696\n",
      "30.703828720341384\n",
      "30.45291808809252\n",
      "30.198712850791907\n",
      "30.38665261170486\n",
      "30.072493521064775\n",
      "30.209195827170017\n",
      "29.86920329520732\n",
      "29.666649161897386\n",
      "29.459519107266562\n",
      "29.322255379639508\n",
      "29.34727464046422\n",
      "29.15729509612347\n",
      "28.95464922688501\n",
      "28.753865201267704\n",
      "28.50809928835579\n",
      "28.205825973424822\n",
      "28.05497321738893\n",
      "27.854803367792794\n",
      "27.65145898525091\n",
      "27.57739169050373\n",
      "27.676299894324888\n",
      "27.33621347715655\n",
      "27.15409609542254\n",
      "26.922814322869097\n",
      "26.67191996144435\n",
      "26.445193217329408\n",
      "26.299750764192236\n",
      "26.251317424428645\n",
      "26.238110876684296\n",
      "25.910015630666575\n",
      "25.734074386471338\n",
      "25.54720453773914\n",
      "25.305532504177645\n",
      "25.09042819705138\n",
      "24.81765029859465\n",
      "24.60199442563197\n",
      "24.31894165703834\n",
      "24.15454042138955\n",
      "23.85300575303451\n",
      "23.601469621403652\n",
      "23.36824979500027\n",
      "23.128862831689236\n",
      "22.88574955011157\n",
      "22.740161126839478\n",
      "22.4960003216375\n",
      "22.205359592379242\n",
      "21.984599652134293\n",
      "21.75708265973604\n",
      "21.756923439309713\n",
      "21.49537279147729\n",
      "21.716210840118972\n",
      "21.854480690567957\n",
      "21.982496572351256\n",
      "21.97711505183071\n",
      "21.893460141304885\n",
      "21.72726482506652\n",
      "21.666969237090854\n",
      "21.6298447783527\n",
      "21.50322569675766\n",
      "21.494183912925774\n",
      "21.344122601984296\n",
      "21.180645653908275\n",
      "21.010110210467612\n",
      "20.816723878455093\n",
      "20.55165542192508\n",
      "20.35034680012033\n",
      "20.148861413084884\n",
      "20.00816172848668\n",
      "19.92158712853537\n",
      "19.81408900491552\n",
      "19.695399852966652\n",
      "19.503738185302105\n",
      "19.370870295183565\n",
      "19.26182140197344\n",
      "19.325356858465383\n",
      "19.177831612797604\n",
      "19.090363152785\n",
      "19.770471408517466\n",
      "21.96886885676652\n",
      "22.570392823036332\n",
      "26.17471774082155\n",
      "28.228840871508183\n",
      "28.905138870540583\n",
      "29.335996478286198\n",
      "30.304255892655654\n",
      "30.681652941440845\n",
      "30.903810941316387\n",
      "31.02549035561257\n",
      "31.304690282780598\n",
      "31.659102053963373\n",
      "32.2164888598443\n",
      "32.68690527206314\n",
      "33.05498538650928\n",
      "33.76920409977869\n",
      "34.75791173676404\n",
      "38.555021974273295\n",
      "39.011497461848414\n",
      "39.418368491027266\n",
      "41.52640066695529\n",
      "42.04894636623508\n",
      "43.585266482000506\n",
      "44.02988995871932\n",
      "44.28898574162498\n",
      "44.50622929995828\n",
      "44.60586836675788\n",
      "44.76626889671742\n",
      "44.833745587354315\n",
      "44.8675725207508\n",
      "45.14072298749413\n",
      "45.16468846415172\n",
      "45.726082257271734\n"
     ]
    }
   ],
   "source": [
    "data = train\n",
    "predict = []\n",
    "for t in test:\n",
    "    model = ARIMA(data, order = (5,1,0))\n",
    "    model_fit = model.fit()\n",
    "    y = model_fit.forecast()\n",
    "    print(y[0][0])\n",
    "    predict.append(y[0][0])\n",
    "    data = np.append(data, t)\n",
    "    data = pd.Series(data)"
   ]
  },
  {
   "cell_type": "code",
   "execution_count": 288,
   "metadata": {},
   "outputs": [
    {
     "data": {
      "text/plain": [
       "[86.96852151754842,\n",
       " 86.78710097066565,\n",
       " 86.68717688276433,\n",
       " 86.64179861194715,\n",
       " 86.49488254102033,\n",
       " 86.20551231774442,\n",
       " 86.07461603324775,\n",
       " 85.87515195574494,\n",
       " 85.81529790026752,\n",
       " 85.44220156584846,\n",
       " 85.13209742213414,\n",
       " 84.9832326471787,\n",
       " 84.753787229221,\n",
       " 84.72535888464073,\n",
       " 84.62963017233989,\n",
       " 84.6189528492541,\n",
       " 84.47927919281406,\n",
       " 84.3078046439097,\n",
       " 84.11704329598743,\n",
       " 83.90274421826557,\n",
       " 83.58740681892704,\n",
       " 83.42376601910847,\n",
       " 83.48860547302743,\n",
       " 83.38069631820973,\n",
       " 83.39016204920209,\n",
       " 83.19763963771592,\n",
       " 83.13995147564249,\n",
       " 82.90285686161556,\n",
       " 82.74399879821421,\n",
       " 82.43728138257534,\n",
       " 82.11472217954261,\n",
       " 82.11478546050895,\n",
       " 81.74684143422344,\n",
       " 81.6917397691344,\n",
       " 81.30537184342131,\n",
       " 81.08740345806302,\n",
       " 80.93105636618466,\n",
       " 80.57908644986557,\n",
       " 80.37149414534555,\n",
       " 80.17125435834552,\n",
       " 80.0252136566121,\n",
       " 79.83471447740318,\n",
       " 79.54034545154244,\n",
       " 79.27339447880877,\n",
       " 79.1537446015158,\n",
       " 78.92513978938598,\n",
       " 78.79143661215143,\n",
       " 78.64619411496031,\n",
       " 78.38087585160021,\n",
       " 78.12604182894073,\n",
       " 77.8582262595159,\n",
       " 77.4391831848353,\n",
       " 77.1707963257686,\n",
       " 76.87167834674727,\n",
       " 76.96636873177319,\n",
       " 76.64462840248825,\n",
       " 76.44123071456866,\n",
       " 76.21152080683096,\n",
       " 76.09639401265025,\n",
       " 75.77992874822839,\n",
       " 75.66398579504616,\n",
       " 75.46917432864001,\n",
       " 75.23516004382498,\n",
       " 74.96844954576028,\n",
       " 75.13891086435393,\n",
       " 74.76536451482934,\n",
       " 74.78078679518043,\n",
       " 74.55002492187454,\n",
       " 74.3255406384106,\n",
       " 73.98377114487135,\n",
       " 73.82233934057096,\n",
       " 73.53105957002965,\n",
       " 73.22164199443374,\n",
       " 72.91459413563226,\n",
       " 72.58432077098533,\n",
       " 72.30614060291379,\n",
       " 72.05543387124818,\n",
       " 71.70165675546787,\n",
       " 71.60451369534317,\n",
       " 71.52198831876655,\n",
       " 71.31046952217453,\n",
       " 71.20602505968263,\n",
       " 70.88547235775226,\n",
       " 70.59158000539254,\n",
       " 70.4446877758442,\n",
       " 70.33473120786688,\n",
       " 70.0605794499906,\n",
       " 69.80844046083239,\n",
       " 69.47000343340241,\n",
       " 69.14525720069389,\n",
       " 68.76642624545536,\n",
       " 68.3195186628616,\n",
       " 67.96778618421624,\n",
       " 67.61852979310284,\n",
       " 67.1727321198205,\n",
       " 66.84343539597549,\n",
       " 66.47877282447442,\n",
       " 66.0749796749035,\n",
       " 65.77797736384878,\n",
       " 65.44494149218241,\n",
       " 65.16489459983025,\n",
       " 64.81763361972818,\n",
       " 64.46545955366533,\n",
       " 64.23925144136554,\n",
       " 63.731112901701074,\n",
       " 63.556283377906134,\n",
       " 63.21994531983963,\n",
       " 62.83995861642395,\n",
       " 62.46309020888134,\n",
       " 62.14374537011307,\n",
       " 61.90375674838408,\n",
       " 61.45714854175687,\n",
       " 61.07573868137474,\n",
       " 60.806117366895,\n",
       " 60.55095416166689,\n",
       " 60.33886523802457,\n",
       " 59.866092719276374,\n",
       " 59.57484442717218,\n",
       " 59.114375161595554,\n",
       " 58.69210618048627,\n",
       " 58.242487297653874,\n",
       " 57.951070075933686,\n",
       " 57.69159793121539,\n",
       " 57.25982613412343,\n",
       " 56.8800671909153,\n",
       " 56.69229360017607,\n",
       " 56.28289708503525,\n",
       " 55.94244112978905,\n",
       " 55.77610849983834,\n",
       " 55.403707369274684,\n",
       " 55.155421844583856,\n",
       " 54.90218806127759,\n",
       " 54.61718041405112,\n",
       " 54.39775424344813,\n",
       " 54.09548306965178,\n",
       " 53.976392434011935,\n",
       " 53.92620012886019,\n",
       " 53.654464513981644,\n",
       " 53.41616783498717,\n",
       " 53.17939229399113,\n",
       " 52.874942941745175,\n",
       " 52.60286662537179,\n",
       " 52.372922725467035,\n",
       " 52.00611448920271,\n",
       " 51.73790918276041,\n",
       " 51.48758618423118,\n",
       " 51.16433458297209,\n",
       " 50.89633796636307,\n",
       " 50.646129372034835,\n",
       " 50.38657222856945,\n",
       " 50.06471870498057,\n",
       " 49.893350757855785,\n",
       " 49.37250035973044,\n",
       " 49.05681526370151,\n",
       " 48.9255452483678,\n",
       " 48.498887116292394,\n",
       " 48.387414645110454,\n",
       " 47.97725391811721,\n",
       " 47.68722107266713,\n",
       " 47.538055964871205,\n",
       " 46.99429694310357,\n",
       " 46.86835136171496,\n",
       " 46.80540405961278,\n",
       " 46.48340696671425,\n",
       " 46.78850037636806,\n",
       " 46.45625123246088,\n",
       " 45.84172955877285,\n",
       " 46.052256203301255,\n",
       " 45.85772007148979,\n",
       " 45.94116017202254,\n",
       " 45.59832101574528,\n",
       " 45.33318022506424,\n",
       " 45.19412184832887,\n",
       " 44.89034389717463,\n",
       " 44.57242731918046,\n",
       " 44.35633437099471,\n",
       " 44.174827066107426,\n",
       " 43.907742635441075,\n",
       " 43.565430429658704,\n",
       " 43.37019577305927,\n",
       " 43.16661863747152,\n",
       " 42.92339239733193,\n",
       " 42.60328428828178,\n",
       " 42.46097699276008,\n",
       " 42.250992032291215,\n",
       " 41.94614823442745,\n",
       " 41.71197704852584,\n",
       " 41.44547484722812,\n",
       " 41.1687049965782,\n",
       " 40.98720682076549,\n",
       " 40.696102752974525,\n",
       " 40.505131859016124,\n",
       " 40.265144393987796,\n",
       " 40.040932478864526,\n",
       " 39.824021965644185,\n",
       " 39.605689771410454,\n",
       " 39.35493200498155,\n",
       " 39.07036065024992,\n",
       " 38.801205437788795,\n",
       " 38.589287071979456,\n",
       " 38.415500525948715,\n",
       " 38.30156761142648,\n",
       " 38.117637496035925,\n",
       " 37.897113638169884,\n",
       " 37.67705869486475,\n",
       " 37.56430841251652,\n",
       " 37.543745999960784,\n",
       " 37.40350359551616,\n",
       " 37.183996313544306,\n",
       " 36.849930116152166,\n",
       " 36.841191251877376,\n",
       " 36.54851914622917,\n",
       " 36.33430991535635,\n",
       " 36.293903583127566,\n",
       " 36.37834926706843,\n",
       " 36.19269608108871,\n",
       " 36.23083683780217,\n",
       " 35.92104403786937,\n",
       " 35.76220733771416,\n",
       " 35.68904209645916,\n",
       " 35.51943988299731,\n",
       " 35.39355785070684,\n",
       " 35.26556810347068,\n",
       " 35.202571234075215,\n",
       " 35.092221315706986,\n",
       " 34.85802782851068,\n",
       " 34.56683602983858,\n",
       " 34.41385504983062,\n",
       " 34.1459033099201,\n",
       " 33.83720965191044,\n",
       " 33.864604794113085,\n",
       " 35.593883093645545,\n",
       " 36.986739624228576,\n",
       " 37.345740998377025,\n",
       " 37.29178468430787,\n",
       " 37.648153700903734,\n",
       " 37.40577721428878,\n",
       " 37.35593133699306,\n",
       " 37.24428891107717,\n",
       " 37.26519081842444,\n",
       " 37.3206344469957,\n",
       " 37.32434999937622,\n",
       " 37.242407372937734,\n",
       " 37.16884212674381,\n",
       " 37.111415653052994,\n",
       " 37.22878632831127,\n",
       " 37.56973035560195,\n",
       " 37.70881105610718,\n",
       " 38.08721084477324,\n",
       " 38.320593210670836,\n",
       " 38.51530998664921,\n",
       " 38.623081869535405,\n",
       " 38.73734342463253,\n",
       " 39.00258907333436,\n",
       " 39.810919677621634,\n",
       " 41.06460249166174,\n",
       " 41.712739513420466,\n",
       " 42.621757417993585,\n",
       " 43.054964523229,\n",
       " 43.28528198317538,\n",
       " 43.50306801000968,\n",
       " 43.97679378853954,\n",
       " 50.748476178850225,\n",
       " 52.43878189887673,\n",
       " 53.40948450782371,\n",
       " 53.95594135435632,\n",
       " 54.026642963391204,\n",
       " 53.90751365774041,\n",
       " 54.030329511609324,\n",
       " 56.60226918037266,\n",
       " 59.48290209231013,\n",
       " 59.20553919338511,\n",
       " 59.7738537078691,\n",
       " 59.97954850393554,\n",
       " 60.28999936687522,\n",
       " 61.5047398318548,\n",
       " 65.83656972204749,\n",
       " 65.442489533986,\n",
       " 69.65409408175255,\n",
       " 73.75334483427876,\n",
       " 76.47873850588768,\n",
       " 78.49339639158734,\n",
       " 81.87353539369825,\n",
       " 83.75045602329621,\n",
       " 85.19022596948828,\n",
       " 84.40039986939689,\n",
       " 84.43728532783292,\n",
       " 84.70410655397038,\n",
       " 84.72170778248973,\n",
       " 84.63525950364499,\n",
       " 84.70547447919171,\n",
       " 84.88759643126846,\n",
       " 84.88345526430295,\n",
       " 84.9754908463327,\n",
       " 84.8471237728365,\n",
       " 84.91724922457381,\n",
       " 84.8227957406461,\n",
       " 84.86580381595341,\n",
       " 85.01725171648036,\n",
       " 85.22104891569512,\n",
       " 85.67511860660453,\n",
       " 85.63815334944452,\n",
       " 85.88947503675573,\n",
       " 85.81188162744942,\n",
       " 85.75457647408165,\n",
       " 85.75266069166366,\n",
       " 85.85135330773613,\n",
       " 85.82891736155494,\n",
       " 85.85610314998046,\n",
       " 85.75323217322328,\n",
       " 85.76312498497856,\n",
       " 85.66742800896846,\n",
       " 85.62516463572754,\n",
       " 85.55158124087272,\n",
       " 85.97715727713835,\n",
       " 87.32685288022464,\n",
       " 87.12627251658685,\n",
       " 87.49849991135216,\n",
       " 87.52622532332637,\n",
       " 87.6600458117336,\n",
       " 87.89277178546175,\n",
       " 88.03158023871448,\n",
       " 88.07600264655143,\n",
       " 88.01723968748213,\n",
       " 88.02707001063906,\n",
       " 88.0560779336496,\n",
       " 88.01132930577772,\n",
       " 87.90636751663676,\n",
       " 87.96339966764167,\n",
       " 87.88517788336681,\n",
       " 87.91204751726929,\n",
       " 87.70207403443696,\n",
       " 87.58709496184191,\n",
       " 87.64632825616523,\n",
       " 87.46313007724622,\n",
       " 87.70534971926017,\n",
       " 87.76688623681792,\n",
       " 88.55208873665873,\n",
       " 88.75032939813373,\n",
       " 88.86537330134527,\n",
       " 89.62170748780981,\n",
       " 89.60310538803851,\n",
       " 89.81070796331358,\n",
       " 89.70153561250146,\n",
       " 89.7160379067245,\n",
       " 89.64522050586281,\n",
       " 89.53848349311076,\n",
       " 89.44153263801579,\n",
       " 89.37150044182223,\n",
       " 89.35838937013723,\n",
       " 89.27595833382794,\n",
       " 89.12772215022031,\n",
       " 89.19846887764767,\n",
       " 88.93755374164087,\n",
       " 88.8088680748483,\n",
       " 88.72332385496672,\n",
       " 88.69967581353008,\n",
       " 88.45308978115989,\n",
       " 88.42298433744057,\n",
       " 88.22966545793224,\n",
       " 88.24411738908732,\n",
       " 88.0219648650412,\n",
       " 87.95234123337097,\n",
       " 87.87820611326538,\n",
       " 87.55278714798801,\n",
       " 87.49173488548257,\n",
       " 87.37589017276102,\n",
       " 87.37788879121116,\n",
       " 87.3293242924079,\n",
       " 87.14868613422412,\n",
       " 87.05100097276143,\n",
       " 87.58025325823094,\n",
       " 87.47684441846056,\n",
       " 87.52137380379739,\n",
       " 87.8561013376645,\n",
       " 87.73533354517127,\n",
       " 87.68569626017207,\n",
       " 87.6041197262483,\n",
       " 87.49841489621278,\n",
       " 87.3907213051513,\n",
       " 87.30972134786064,\n",
       " 87.25733911410562,\n",
       " 86.99225017309121,\n",
       " 86.73474495612611,\n",
       " 86.4098422750061,\n",
       " 86.37833962219406,\n",
       " 86.04436700363915,\n",
       " 86.16405155666395,\n",
       " 85.78144777891465,\n",
       " 85.75272450088943,\n",
       " 85.86316445824079,\n",
       " 85.90737998258749,\n",
       " 85.74989936616163,\n",
       " 85.71548560646272,\n",
       " 85.51995949981021,\n",
       " 85.51055192411347,\n",
       " 85.41378186408475,\n",
       " 85.13184732321274,\n",
       " 85.02189454063772,\n",
       " 84.73673388742726,\n",
       " 84.55622966664949,\n",
       " 84.21536412694567,\n",
       " 83.92778665777446,\n",
       " 83.86065922298492,\n",
       " 83.50597056593092,\n",
       " 83.42284531067877,\n",
       " 83.32884190563438,\n",
       " 82.9494768282508,\n",
       " 82.74925762885033,\n",
       " 82.57808701088125,\n",
       " 82.4620699352897,\n",
       " 82.18837166217439,\n",
       " 82.01510850237388,\n",
       " 81.81265688679672,\n",
       " 81.76991516829796,\n",
       " 81.56542529129348,\n",
       " 81.40406985004239,\n",
       " 81.23420166955931,\n",
       " 81.12981359493043,\n",
       " 80.89900458296843,\n",
       " 80.66888355323296,\n",
       " 80.54078590719307,\n",
       " 80.35861999846603,\n",
       " 80.28238503632862,\n",
       " 80.27765134965215,\n",
       " 80.41396945007708,\n",
       " 80.0026213230493,\n",
       " 79.93992778964308,\n",
       " 79.7355156762351,\n",
       " 79.55181968203767,\n",
       " 79.43075956080136,\n",
       " 79.17751920434998,\n",
       " 79.08417619685737,\n",
       " 79.10574489097354,\n",
       " 79.4177184519949,\n",
       " 79.32122615532965,\n",
       " 79.29494753955771,\n",
       " 79.18263702716777,\n",
       " 78.9422143249184,\n",
       " 78.81641167624318,\n",
       " 78.59581232959064,\n",
       " 78.41426940116253,\n",
       " 78.2103496941511,\n",
       " 77.99138838146519,\n",
       " 77.68532700655507,\n",
       " 77.47906802759229,\n",
       " 77.20823476039004,\n",
       " 76.943083389086,\n",
       " 76.58603115273915,\n",
       " 76.39539173910656,\n",
       " 76.08067270233673,\n",
       " 75.85345039670597,\n",
       " 75.55084045134485,\n",
       " 75.35708880924018,\n",
       " 75.13544195750931,\n",
       " 74.84206844194253,\n",
       " 74.6854947932267,\n",
       " 74.34040054969458,\n",
       " 74.20082950344121,\n",
       " 73.75314723549222,\n",
       " 73.46790962494877,\n",
       " 73.06806295051985,\n",
       " 72.97721329623214,\n",
       " 74.5250935205948,\n",
       " 73.68064545278932,\n",
       " 73.65634164350524,\n",
       " 73.54424059019517,\n",
       " 73.21095513079946,\n",
       " 72.76627802684484,\n",
       " 72.55918704433726,\n",
       " 72.21695812368783,\n",
       " 71.85161150581649,\n",
       " 71.72704544490917,\n",
       " 71.59664699775257,\n",
       " 71.20140615575967,\n",
       " 71.0033433219312,\n",
       " 70.35810807340295,\n",
       " 70.20183076181164,\n",
       " 69.86754827762951,\n",
       " 69.55739307692137,\n",
       " 69.27212930283308,\n",
       " 69.00976760634816,\n",
       " 68.69878862071886,\n",
       " 68.3692867739521,\n",
       " 68.14409475755804,\n",
       " 67.69130406107362,\n",
       " 67.50866463125763,\n",
       " 67.06046084228524,\n",
       " 67.03370227886822,\n",
       " 66.56759294954378,\n",
       " 66.05837593853147,\n",
       " 65.86290016400059,\n",
       " 66.24177899819672,\n",
       " 65.67603595200069,\n",
       " 65.45274420524042,\n",
       " 65.3756513898597,\n",
       " 65.27360083042947,\n",
       " 64.8523241668908,\n",
       " 64.47961410496086,\n",
       " 64.32101713302241,\n",
       " 64.11745264056569,\n",
       " 63.74007854415007,\n",
       " 63.34823145661003,\n",
       " 63.200872691922406,\n",
       " 62.859943609692834,\n",
       " 62.74684381627126,\n",
       " 62.479332385342396,\n",
       " 62.191611474421606,\n",
       " 61.958012554069256,\n",
       " 61.55121345344227,\n",
       " 61.42211194712259,\n",
       " 61.020853331006755,\n",
       " 60.67078685880225,\n",
       " 60.468153639202576,\n",
       " 60.38525108594862,\n",
       " 60.004426201973445,\n",
       " 59.736490726108336,\n",
       " 59.4922386750753,\n",
       " 59.15291396358744,\n",
       " 58.682046587916744,\n",
       " 58.39975510592521,\n",
       " 58.05534188477329,\n",
       " 57.77074907148827,\n",
       " 57.40331331282087,\n",
       " 57.10541881158738,\n",
       " 56.67292085639095,\n",
       " 56.44501044460824,\n",
       " 56.03146818056221,\n",
       " 55.91655441033859,\n",
       " 55.45712595781371,\n",
       " 55.13929965868909,\n",
       " 54.808571611325036,\n",
       " 54.49714362879518,\n",
       " 54.61988865166489,\n",
       " 54.5747088107534,\n",
       " 54.58869802205541,\n",
       " 54.16257889480246,\n",
       " 56.38790271660066,\n",
       " 56.32073012178835,\n",
       " 56.19160054330821,\n",
       " 56.00429802515408,\n",
       " 55.64913257847758,\n",
       " 55.450945537305806,\n",
       " 55.112084447386046,\n",
       " 54.83884134869112,\n",
       " 54.60023140921104,\n",
       " 54.30049017585225,\n",
       " 54.05056011689236,\n",
       " 53.84754647171645,\n",
       " 53.50172448103251,\n",
       " 53.161609443421824,\n",
       " 53.01650063500132,\n",
       " 52.77972104114585,\n",
       " 52.45493242630953,\n",
       " 52.21885479377739,\n",
       " 51.958766654867986,\n",
       " 51.79071230996765,\n",
       " 51.505608444522146,\n",
       " 51.250685614915405,\n",
       " 50.94299335968516,\n",
       " 50.57781050455262,\n",
       " 50.56113014498795,\n",
       " 57.938115275523806,\n",
       " 56.38461596656843,\n",
       " 57.24031795240585,\n",
       " 56.98041248758503,\n",
       " 56.998465384078244,\n",
       " 56.62236316688316,\n",
       " 56.65110789649672,\n",
       " 56.468204267274345,\n",
       " 56.33513673047526,\n",
       " 56.33676948870068,\n",
       " 56.19636339779455,\n",
       " 56.17335789874939,\n",
       " 56.36444452318304,\n",
       " 56.27150344233987,\n",
       " 56.14680356023868,\n",
       " 55.83473581616813,\n",
       " 55.49171718847194,\n",
       " 55.19087637893064,\n",
       " 55.15960000505962,\n",
       " 54.78022476689878,\n",
       " 54.607941233407594,\n",
       " 54.335462752021144,\n",
       " 54.28197212745068,\n",
       " 54.04106368645558,\n",
       " 53.88225133417998,\n",
       " 54.21154707521658,\n",
       " 55.55838268749457,\n",
       " 55.44879977682195,\n",
       " 55.4991879082707,\n",
       " 55.39676781440668,\n",
       " 55.237154808093216,\n",
       " 55.042940166195805,\n",
       " 54.83907173771483,\n",
       " 54.70024364126515,\n",
       " 54.70644343892909,\n",
       " 54.52184070712131,\n",
       " 54.46622005327365,\n",
       " 54.55862566979875,\n",
       " 54.51071217907347,\n",
       " 54.437505855534916,\n",
       " 54.67857815048749,\n",
       " 54.75437652384216,\n",
       " 54.85142220886224,\n",
       " 55.00815229587229,\n",
       " 54.89932815349616,\n",
       " 54.785872537962135,\n",
       " 55.399003370732885,\n",
       " 55.160572980379825,\n",
       " 55.314504990992155,\n",
       " 55.25930539653023,\n",
       " 55.3450833810444,\n",
       " 55.307553944112996,\n",
       " 55.52540345689657,\n",
       " 56.13295352164965,\n",
       " 57.19855255232843,\n",
       " 58.24461222565131,\n",
       " 58.47774631212875,\n",
       " 58.909812102864436,\n",
       " 60.89036251779397,\n",
       " 62.63494644377024,\n",
       " 62.365883721767,\n",
       " 62.62851209861341,\n",
       " 62.879290877564614,\n",
       " 62.9244106171997,\n",
       " 62.94535574437578,\n",
       " 63.336930751098485,\n",
       " 63.848898492114515,\n",
       " 64.09756903161166,\n",
       " 64.22718549518976,\n",
       " 64.43900275015842,\n",
       " 65.37896991176139,\n",
       " 65.5203914205078,\n",
       " 65.68363648736896,\n",
       " 65.76645050021781,\n",
       " 65.89501552834186,\n",
       " 66.05455837945502,\n",
       " 65.97383122316836,\n",
       " 66.20231573655029,\n",
       " 66.27259312689722,\n",
       " 66.3144925492345,\n",
       " 66.80382008459682,\n",
       " 67.33268868070323,\n",
       " 67.39617360417571,\n",
       " 67.67992971872857,\n",
       " 68.32969999465135,\n",
       " 68.92126006880189,\n",
       " 68.51695079925334,\n",
       " 69.38199988649389,\n",
       " 70.91914917880818,\n",
       " 71.87915050800169,\n",
       " 72.87111016139959,\n",
       " 73.4071687543093,\n",
       " 73.66110269374043,\n",
       " 73.62081245906174,\n",
       " 73.81437746412962,\n",
       " 73.75486124234212,\n",
       " 73.72725535387899,\n",
       " 73.75715397429573,\n",
       " 73.60427485406568,\n",
       " 73.59917844886067,\n",
       " 73.64638725398588,\n",
       " 73.6261571657631,\n",
       " 75.3021277460646,\n",
       " 75.42689485152295,\n",
       " 75.54512502448796,\n",
       " 75.42568437631273,\n",
       " 75.93580994568903,\n",
       " 75.80073446643848,\n",
       " 76.0278479641085,\n",
       " 78.89052607256205,\n",
       " 78.96548095819725,\n",
       " 79.30158348034217,\n",
       " 79.63334551984798,\n",
       " 79.65241396204578,\n",
       " 79.6073460993222,\n",
       " 79.58225922690002,\n",
       " 79.73110700892562,\n",
       " 79.71790413426226,\n",
       " 80.0535848323414,\n",
       " 79.86629596348021,\n",
       " 80.03925049364918,\n",
       " 80.21835654623742,\n",
       " 80.69327253478745,\n",
       " 81.61025911401838,\n",
       " 82.64428430092731,\n",
       " 82.81148842013165,\n",
       " 86.94392633269925,\n",
       " 85.83614270395165,\n",
       " 86.33504558006149,\n",
       " 87.27020024504515,\n",
       " 88.82071566515573,\n",
       " 88.59042979807164,\n",
       " 89.88939256417845,\n",
       " 89.63051542211353,\n",
       " 90.88564328270417,\n",
       " 90.95277653664907,\n",
       " 90.64221183952175,\n",
       " 90.56331921146258,\n",
       " 90.31440882667874,\n",
       " 90.25056904475647,\n",
       " 90.1944186310174,\n",
       " 90.27608259180742,\n",
       " 90.15994505765737,\n",
       " 90.12011796074621,\n",
       " 90.21244326010616,\n",
       " 89.65948251759667,\n",
       " 90.08236406744368,\n",
       " 89.8303695300202,\n",
       " 89.44994259222537,\n",
       " 89.45024777545333,\n",
       " 89.57411776596732,\n",
       " 89.54538352309491,\n",
       " 89.6278851514858,\n",
       " 90.26607079077645,\n",
       " 89.72095996012331,\n",
       " 90.63450856207257,\n",
       " 90.4773342754847,\n",
       " 90.44122491007613,\n",
       " 90.67286771715337,\n",
       " 91.25551894024512,\n",
       " 91.06866679138061,\n",
       " 91.25442866504642,\n",
       " 91.26298691556518,\n",
       " 91.47394873896951,\n",
       " 91.17369579255555,\n",
       " 91.32391767611853,\n",
       " 91.31817131878259,\n",
       " 91.30869905668897,\n",
       " 91.31481048773513,\n",
       " 91.4248321090462,\n",
       " 91.41319423890795,\n",
       " 91.06860397216066,\n",
       " 91.18445911374751,\n",
       " 90.92820560954638,\n",
       " 90.7254009713704,\n",
       " 90.68985622166161,\n",
       " 90.45331349260834,\n",
       " 90.43062293142526,\n",
       " 90.18556826673985,\n",
       " 89.91329969683758,\n",
       " 89.91913115359408,\n",
       " 89.56345305006559,\n",
       " 89.49605366891673,\n",
       " 89.21642309618045,\n",
       " 89.12070511755351,\n",
       " 88.73815836001661,\n",
       " 88.58803926831607,\n",
       " 88.46822775792407,\n",
       " 88.19001337229022,\n",
       " 88.02703713405495,\n",
       " 87.82096685728018,\n",
       " 87.76397774615539,\n",
       " 87.56736196577403,\n",
       " 87.60530126440972,\n",
       " 87.65183213467185,\n",
       " 87.66742048587335,\n",
       " 88.04149935959097,\n",
       " 88.23438908729257,\n",
       " 88.28419727192437,\n",
       " 88.25009347332082,\n",
       " 88.16552434700931,\n",
       " 88.09212093547067,\n",
       " 87.99835802597113,\n",
       " 87.78040694294768,\n",
       " 87.69709874522759,\n",
       " 87.56076134534385,\n",
       " 87.44011470119742,\n",
       " 87.34663246402889,\n",
       " 87.15583297897628,\n",
       " 87.09254908920299,\n",
       " 86.59914936040883,\n",
       " 86.38847293255603,\n",
       " 86.2616774745363,\n",
       " 86.57292479280598,\n",
       " 86.4108198759241,\n",
       " 86.24873750933688,\n",
       " 86.15807671239432,\n",
       " 85.97625909296262,\n",
       " 85.77100003423983,\n",
       " 85.58253405848815,\n",
       " 85.44703715543069,\n",
       " 85.24537466543525,\n",
       " 84.97538881347899,\n",
       " 84.93817690687706,\n",
       " 84.78605184596594,\n",
       " 84.64767164310727,\n",
       " 84.3702040194859,\n",
       " 84.04345088118146,\n",
       " 83.73709731974402,\n",
       " 83.518140924982,\n",
       " 83.15705870728317,\n",
       " 82.95908820460019,\n",
       " 82.60454454746896,\n",
       " 82.42807308855946,\n",
       " 82.35690111499186,\n",
       " 82.27042125320105,\n",
       " 82.1012776154253,\n",
       " 81.81236668656936,\n",
       " 81.63334577436407,\n",
       " 81.2876841011283,\n",
       " 81.07355909966904,\n",
       " 80.80389446081034,\n",
       " 80.41812385017242,\n",
       " 80.23336296948055,\n",
       " 79.99888833369084,\n",
       " 80.6678281205768,\n",
       " 80.20135552296867,\n",
       " 80.17086880974882,\n",
       " 79.98035671469644,\n",
       " 79.69786321350685,\n",
       " 79.61700162782903,\n",
       " 79.31325112034222,\n",
       " 78.8767948430161,\n",
       " 78.5820553209373,\n",
       " 78.40488312609746,\n",
       " 77.92201655702323,\n",
       " 77.72159138632523,\n",
       " 77.36372914836926,\n",
       " 77.03861138793867,\n",
       " 76.56051744611584,\n",
       " 76.33432254172652,\n",
       " 76.01655402499932,\n",
       " 75.78330266022549,\n",
       " 75.39795309506661,\n",
       " 75.13541394121127,\n",
       " 74.81312509398539,\n",
       " 74.61370220213355,\n",
       " 74.2887546247528,\n",
       " 74.16404133245808,\n",
       " 73.82876519284237,\n",
       " 73.5331259715742,\n",
       " 73.52172519927277,\n",
       " 73.55723072757807,\n",
       " 73.4744191147593,\n",
       " 73.24904260790879,\n",
       " 73.38259314387558,\n",
       " 73.1761234972238,\n",
       " 72.89924178599152,\n",
       " 72.68064537471855,\n",
       " 72.42570224504952,\n",
       " 72.20355839739818,\n",
       " 71.9274110792873,\n",
       " 71.60296056509225,\n",
       " 71.33335857511958,\n",
       " 71.06319212868057,\n",
       " 70.7896683748794,\n",
       " 70.45633731441221,\n",
       " 70.15018323570176,\n",
       " 69.80643285155168,\n",
       " 69.33613915110435,\n",
       " 68.83870768688777,\n",
       " 68.42394825196743,\n",
       " 68.08951132504184,\n",
       " 67.67427681680384,\n",
       " 67.25962471522965,\n",
       " 66.96265026159178,\n",
       " 66.5588307838344,\n",
       " 66.1991837866106,\n",
       " 65.76571558027797,\n",
       " 65.46936973257854,\n",
       " 65.08926792378755,\n",
       " 64.68850750446875,\n",
       " 64.37646776398627,\n",
       " 64.01966294294274,\n",
       " 63.656040198609425,\n",
       " 63.249865253406995,\n",
       " 63.03335222486548,\n",
       " 62.55861374740225,\n",
       " 62.202676974045765,\n",
       " 61.876819775528,\n",
       " 61.429521416345885,\n",
       " 61.03462206386719,\n",
       " 60.64694474450577,\n",
       " 60.24081934506483,\n",
       " 59.8378247532087,\n",
       " 59.60817490453872,\n",
       " 59.251107699024764,\n",
       " 59.009284631827285,\n",
       " 58.76017470562354,\n",
       " 58.52449560476471,\n",
       " 58.15201419795061,\n",
       " 58.155916340233745,\n",
       " 58.00512675211809,\n",
       " 58.33866907792274,\n",
       " 58.64409463929989,\n",
       " 58.28953893298599,\n",
       " 58.18921767984025,\n",
       " 57.84186646212025,\n",
       " 57.547365638211524,\n",
       " 57.1668290398189,\n",
       " 56.85753897831972,\n",
       " 56.56556126580802,\n",
       " 56.27258572230095,\n",
       " 55.997540323475114,\n",
       " 55.76517943863491,\n",
       " 55.43867094875385,\n",
       " 55.17517042563942,\n",
       " 55.062141465554994,\n",
       " 54.980668954004244,\n",
       " 54.79772841521195,\n",
       " 55.750279115889334,\n",
       " 55.31399923305938,\n",
       " 55.50782544295244,\n",
       " 55.04401202577743,\n",
       " 55.03056171500562,\n",
       " 54.59786219867857,\n",
       " 54.312611290996344,\n",
       " 53.99610474244501,\n",
       " 53.737652678916376,\n",
       " 53.3784707729227,\n",
       " 53.26282442726736,\n",
       " 53.44966759076075,\n",
       " 53.53860653485691,\n",
       " 54.40047543417247,\n",
       " 53.827650423080925,\n",
       " 53.800577775158544,\n",
       " 53.56074947879509,\n",
       " 53.3635368669569,\n",
       " 53.15183431524827,\n",
       " 52.794455302423714,\n",
       " 52.61677924152471,\n",
       " 52.41425375758189,\n",
       " 52.30698219030726,\n",
       " 51.94499682469346,\n",
       " 51.68282111838005,\n",
       " 51.53431657904532,\n",
       " 51.274735593768355,\n",
       " 51.075702324558314,\n",
       " 50.788856588661105,\n",
       " 50.61429461567056,\n",
       " 50.27221341058778,\n",
       " 50.11267419288423,\n",
       " 49.78293583998036,\n",
       " 49.574163778041985,\n",
       " 49.4176661409009,\n",
       " 49.00819555968734,\n",
       " 48.842432725856604,\n",
       " 48.58512919974052,\n",
       " 48.39668254747561,\n",
       " 48.040316817920775,\n",
       " 47.861766048492264,\n",
       " 47.636949606998414,\n",
       " 47.46611344901825,\n",
       " 47.14947606311214,\n",
       " 46.968552133972146,\n",
       " 46.80331377477037,\n",
       " 47.38075570485572,\n",
       " 47.68355726664785,\n",
       " 47.60326050580917,\n",
       " 47.739217383995246,\n",
       " 48.82104335326402,\n",
       " 48.725604193681626,\n",
       " 48.71491131340151,\n",
       " 49.79925444840567,\n",
       " 49.59689371947525,\n",
       " 49.56291290603633,\n",
       " 49.527636643010084,\n",
       " 49.78450921530603,\n",
       " 50.089495783657455,\n",
       " 54.28885281620089,\n",
       " 56.22185319175235,\n",
       " 57.56054785683397,\n",
       " 57.83041475515103,\n",
       " 57.98173470096228,\n",
       " 58.06822549525243,\n",
       " 58.163114048478754,\n",
       " 61.176630193054415,\n",
       " 62.27289334066284,\n",
       " 62.0420050042558,\n",
       " 62.26781777461439,\n",
       " 62.48350928516381,\n",
       " 65.46729854792335,\n",
       " 69.34048299554324,\n",
       " 69.0644134156754,\n",
       " 69.5854101863731,\n",
       " 69.6560885014194,\n",
       " 69.65191205174933,\n",
       " 69.2441718049053,\n",
       " 69.26956725187549,\n",
       " 73.64964463943446,\n",
       " 78.70112996705166,\n",
       " 77.75975790838402,\n",
       " 78.31243439169627,\n",
       " 78.27661273368152,\n",
       " 78.33961282701912,\n",
       " 78.69335011686933,\n",
       " 81.57849548852957,\n",
       " 81.09038032052088,\n",
       " 81.32374461786506,\n",
       " 81.34664664453162,\n",
       " 81.76280615711634,\n",
       " 81.99227466006079,\n",
       " 81.78175305554704,\n",
       " 81.84308915122986,\n",
       " 81.96001235551796,\n",
       " 84.04241488988158,\n",
       " 86.80627566297737,\n",
       " 87.55874144907364,\n",
       " ...]"
      ]
     },
     "execution_count": 288,
     "metadata": {},
     "output_type": "execute_result"
    }
   ],
   "source": [
    "predict"
   ]
  },
  {
   "cell_type": "code",
   "execution_count": 289,
   "metadata": {},
   "outputs": [
    {
     "data": {
      "text/plain": [
       "0.1435603946503534"
      ]
     },
     "execution_count": 289,
     "metadata": {},
     "output_type": "execute_result"
    }
   ],
   "source": [
    "mse = mean_squared_error(test.values, predict)\n",
    "mse"
   ]
  },
  {
   "cell_type": "code",
   "execution_count": 290,
   "metadata": {},
   "outputs": [],
   "source": [
    "##SARIMA MODEL"
   ]
  },
  {
   "cell_type": "code",
   "execution_count": 292,
   "metadata": {},
   "outputs": [],
   "source": [
    "from statsmodels.tsa.statespace.sarimax import SARIMAX"
   ]
  },
  {
   "cell_type": "code",
   "execution_count": 291,
   "metadata": {},
   "outputs": [
    {
     "data": {
      "text/html": [
       "<div>\n",
       "<style scoped>\n",
       "    .dataframe tbody tr th:only-of-type {\n",
       "        vertical-align: middle;\n",
       "    }\n",
       "\n",
       "    .dataframe tbody tr th {\n",
       "        vertical-align: top;\n",
       "    }\n",
       "\n",
       "    .dataframe thead th {\n",
       "        text-align: right;\n",
       "    }\n",
       "</style>\n",
       "<table border=\"1\" class=\"dataframe\">\n",
       "  <thead>\n",
       "    <tr style=\"text-align: right;\">\n",
       "      <th></th>\n",
       "      <th>GENERAL_DAM_OCCUPANCY_RATE</th>\n",
       "    </tr>\n",
       "    <tr>\n",
       "      <th>DATE</th>\n",
       "      <th></th>\n",
       "    </tr>\n",
       "  </thead>\n",
       "  <tbody>\n",
       "    <tr>\n",
       "      <th>2005-01-01</th>\n",
       "      <td>44.62</td>\n",
       "    </tr>\n",
       "    <tr>\n",
       "      <th>2005-01-02</th>\n",
       "      <td>44.62</td>\n",
       "    </tr>\n",
       "    <tr>\n",
       "      <th>2005-01-03</th>\n",
       "      <td>44.47</td>\n",
       "    </tr>\n",
       "    <tr>\n",
       "      <th>2005-01-04</th>\n",
       "      <td>44.42</td>\n",
       "    </tr>\n",
       "    <tr>\n",
       "      <th>2005-01-05</th>\n",
       "      <td>44.35</td>\n",
       "    </tr>\n",
       "  </tbody>\n",
       "</table>\n",
       "</div>"
      ],
      "text/plain": [
       "            GENERAL_DAM_OCCUPANCY_RATE\n",
       "DATE                                  \n",
       "2005-01-01                       44.62\n",
       "2005-01-02                       44.62\n",
       "2005-01-03                       44.47\n",
       "2005-01-04                       44.42\n",
       "2005-01-05                       44.35"
      ]
     },
     "execution_count": 291,
     "metadata": {},
     "output_type": "execute_result"
    }
   ],
   "source": [
    "newseries.head()"
   ]
  },
  {
   "cell_type": "code",
   "execution_count": 294,
   "metadata": {},
   "outputs": [
    {
     "ename": "ValueError",
     "evalue": "You must specify a period or x must be a pandas object with a DatetimeIndex with a freq not set to None",
     "output_type": "error",
     "traceback": [
      "\u001b[0;31m---------------------------------------------------------------------------\u001b[0m",
      "\u001b[0;31mValueError\u001b[0m                                Traceback (most recent call last)",
      "\u001b[0;32m<ipython-input-294-dfe26b6166ed>\u001b[0m in \u001b[0;36m<module>\u001b[0;34m\u001b[0m\n\u001b[0;32m----> 1\u001b[0;31m \u001b[0mresult_a\u001b[0m \u001b[0;34m=\u001b[0m \u001b[0mseasonal_decompose\u001b[0m\u001b[0;34m(\u001b[0m\u001b[0mnewseries\u001b[0m\u001b[0;34m[\u001b[0m\u001b[0;34m'GENERAL_DAM_OCCUPANCY_RATE'\u001b[0m\u001b[0;34m]\u001b[0m\u001b[0;34m,\u001b[0m \u001b[0mmodel\u001b[0m \u001b[0;34m=\u001b[0m \u001b[0;34m'multiplicative'\u001b[0m\u001b[0;34m)\u001b[0m\u001b[0;34m\u001b[0m\u001b[0;34m\u001b[0m\u001b[0m\n\u001b[0m\u001b[1;32m      2\u001b[0m \u001b[0mresult_a\u001b[0m\u001b[0;34m.\u001b[0m\u001b[0mplot\u001b[0m\u001b[0;34m(\u001b[0m\u001b[0;34m)\u001b[0m\u001b[0;34m\u001b[0m\u001b[0;34m\u001b[0m\u001b[0m\n",
      "\u001b[0;32m~/opt/anaconda3/lib/python3.7/site-packages/pandas/util/_decorators.py\u001b[0m in \u001b[0;36mwrapper\u001b[0;34m(*args, **kwargs)\u001b[0m\n\u001b[1;32m    197\u001b[0m                 \u001b[0;32melse\u001b[0m\u001b[0;34m:\u001b[0m\u001b[0;34m\u001b[0m\u001b[0;34m\u001b[0m\u001b[0m\n\u001b[1;32m    198\u001b[0m                     \u001b[0mkwargs\u001b[0m\u001b[0;34m[\u001b[0m\u001b[0mnew_arg_name\u001b[0m\u001b[0;34m]\u001b[0m \u001b[0;34m=\u001b[0m \u001b[0mnew_arg_value\u001b[0m\u001b[0;34m\u001b[0m\u001b[0;34m\u001b[0m\u001b[0m\n\u001b[0;32m--> 199\u001b[0;31m             \u001b[0;32mreturn\u001b[0m \u001b[0mfunc\u001b[0m\u001b[0;34m(\u001b[0m\u001b[0;34m*\u001b[0m\u001b[0margs\u001b[0m\u001b[0;34m,\u001b[0m \u001b[0;34m**\u001b[0m\u001b[0mkwargs\u001b[0m\u001b[0;34m)\u001b[0m\u001b[0;34m\u001b[0m\u001b[0;34m\u001b[0m\u001b[0m\n\u001b[0m\u001b[1;32m    200\u001b[0m \u001b[0;34m\u001b[0m\u001b[0m\n\u001b[1;32m    201\u001b[0m         \u001b[0;32mreturn\u001b[0m \u001b[0mcast\u001b[0m\u001b[0;34m(\u001b[0m\u001b[0mF\u001b[0m\u001b[0;34m,\u001b[0m \u001b[0mwrapper\u001b[0m\u001b[0;34m)\u001b[0m\u001b[0;34m\u001b[0m\u001b[0;34m\u001b[0m\u001b[0m\n",
      "\u001b[0;32m~/opt/anaconda3/lib/python3.7/site-packages/statsmodels/tsa/seasonal.py\u001b[0m in \u001b[0;36mseasonal_decompose\u001b[0;34m(x, model, filt, period, two_sided, extrapolate_trend)\u001b[0m\n\u001b[1;32m    140\u001b[0m             \u001b[0mperiod\u001b[0m \u001b[0;34m=\u001b[0m \u001b[0mpfreq\u001b[0m\u001b[0;34m\u001b[0m\u001b[0;34m\u001b[0m\u001b[0m\n\u001b[1;32m    141\u001b[0m         \u001b[0;32melse\u001b[0m\u001b[0;34m:\u001b[0m\u001b[0;34m\u001b[0m\u001b[0;34m\u001b[0m\u001b[0m\n\u001b[0;32m--> 142\u001b[0;31m             raise ValueError(\"You must specify a period or x must be a \"\n\u001b[0m\u001b[1;32m    143\u001b[0m                              \u001b[0;34m\"pandas object with a DatetimeIndex with \"\u001b[0m\u001b[0;34m\u001b[0m\u001b[0;34m\u001b[0m\u001b[0m\n\u001b[1;32m    144\u001b[0m                              \"a freq not set to None\")\n",
      "\u001b[0;31mValueError\u001b[0m: You must specify a period or x must be a pandas object with a DatetimeIndex with a freq not set to None"
     ]
    }
   ],
   "source": [
    "result_a = seasonal_decompose(newseries['GENERAL_DAM_OCCUPANCY_RATE'], model = 'multiplicative')\n",
    "result_a.plot()"
   ]
  },
  {
   "cell_type": "code",
   "execution_count": 295,
   "metadata": {},
   "outputs": [
    {
     "name": "stderr",
     "output_type": "stream",
     "text": [
      "/Users/ahsenkaraman/opt/anaconda3/lib/python3.7/site-packages/statsmodels/tsa/base/tsa_model.py:218: ValueWarning: A date index has been provided, but it has no associated frequency information and so will be ignored when e.g. forecasting.\n",
      "  ' ignored when e.g. forecasting.', ValueWarning)\n",
      "/Users/ahsenkaraman/opt/anaconda3/lib/python3.7/site-packages/statsmodels/tsa/base/tsa_model.py:218: ValueWarning: A date index has been provided, but it has no associated frequency information and so will be ignored when e.g. forecasting.\n",
      "  ' ignored when e.g. forecasting.', ValueWarning)\n"
     ]
    }
   ],
   "source": [
    "model = SARIMAX(newseries, order = (5,1,3), seasonal_order = (1,1,1,12))"
   ]
  },
  {
   "cell_type": "code",
   "execution_count": 296,
   "metadata": {},
   "outputs": [
    {
     "name": "stderr",
     "output_type": "stream",
     "text": [
      "/Users/ahsenkaraman/opt/anaconda3/lib/python3.7/site-packages/statsmodels/base/model.py:568: ConvergenceWarning: Maximum Likelihood optimization failed to converge. Check mle_retvals\n",
      "  \"Check mle_retvals\", ConvergenceWarning)\n"
     ]
    }
   ],
   "source": [
    "model_fit = model.fit()"
   ]
  },
  {
   "cell_type": "code",
   "execution_count": 297,
   "metadata": {},
   "outputs": [],
   "source": [
    "residuals = model_fit.resid"
   ]
  },
  {
   "cell_type": "code",
   "execution_count": 302,
   "metadata": {},
   "outputs": [
    {
     "data": {
      "text/plain": [
       "<AxesSubplot:xlabel='DATE'>"
      ]
     },
     "execution_count": 302,
     "metadata": {},
     "output_type": "execute_result"
    },
    {
     "data": {
      "image/png": "[encoded data removed]",
      "text/plain": [
       "<Figure size 432x288 with 1 Axes>"
      ]
     },
     "metadata": {
      "needs_background": "light"
     },
     "output_type": "display_data"
    }
   ],
   "source": [
    "residuals.plot()"
   ]
  },
  {
   "cell_type": "code",
   "execution_count": 298,
   "metadata": {},
   "outputs": [
    {
     "name": "stderr",
     "output_type": "stream",
     "text": [
      "/Users/ahsenkaraman/opt/anaconda3/lib/python3.7/site-packages/statsmodels/tsa/base/tsa_model.py:583: ValueWarning: No supported index is available. Prediction results will be given with an integer index beginning at `start`.\n",
      "  ValueWarning)\n"
     ]
    }
   ],
   "source": [
    "output = model_fit.forecast()"
   ]
  },
  {
   "cell_type": "code",
   "execution_count": 299,
   "metadata": {},
   "outputs": [
    {
     "data": {
      "text/plain": [
       "5887    46.625788\n",
       "dtype: float64"
      ]
     },
     "execution_count": 299,
     "metadata": {},
     "output_type": "execute_result"
    }
   ],
   "source": [
    "output"
   ]
  },
  {
   "cell_type": "code",
   "execution_count": 300,
   "metadata": {},
   "outputs": [
    {
     "name": "stderr",
     "output_type": "stream",
     "text": [
      "/Users/ahsenkaraman/opt/anaconda3/lib/python3.7/site-packages/statsmodels/tsa/base/tsa_model.py:583: ValueWarning: No supported index is available. Prediction results will be given with an integer index beginning at `start`.\n",
      "  ValueWarning)\n"
     ]
    },
    {
     "data": {
      "text/plain": [
       "5887    46.625788\n",
       "5888    47.043784\n",
       "5889    47.447665\n",
       "5890    47.813883\n",
       "5891    48.154634\n",
       "5892    48.522095\n",
       "5893    48.893039\n",
       "5894    49.224998\n",
       "5895    49.564370\n",
       "5896    49.928480\n",
       "5897    50.279842\n",
       "5898    50.598507\n",
       "dtype: float64"
      ]
     },
     "execution_count": 300,
     "metadata": {},
     "output_type": "execute_result"
    }
   ],
   "source": [
    "model_fit.forecast(12)"
   ]
  },
  {
   "cell_type": "code",
   "execution_count": 301,
   "metadata": {},
   "outputs": [],
   "source": [
    "yhat = model_fit.predict()"
   ]
  },
  {
   "cell_type": "code",
   "execution_count": 304,
   "metadata": {},
   "outputs": [
    {
     "data": {
      "text/plain": [
       "DATE\n",
       "2005-01-01     0.000000\n",
       "2005-01-02    44.620004\n",
       "2005-01-03    44.620001\n",
       "2005-01-04    44.470001\n",
       "2005-01-05    44.420001\n",
       "dtype: float64"
      ]
     },
     "execution_count": 304,
     "metadata": {},
     "output_type": "execute_result"
    }
   ],
   "source": [
    "yhat.head()"
   ]
  },
  {
   "cell_type": "code",
   "execution_count": 303,
   "metadata": {},
   "outputs": [
    {
     "data": {
      "text/plain": [
       "[<matplotlib.lines.Line2D at 0x7f8343c98c90>]"
      ]
     },
     "execution_count": 303,
     "metadata": {},
     "output_type": "execute_result"
    },
    {
     "data": {
      "image/png": "[encoded data removed]",
      "text/plain": [
       "<Figure size 432x288 with 1 Axes>"
      ]
     },
     "metadata": {
      "needs_background": "light"
     },
     "output_type": "display_data"
    }
   ],
   "source": [
    "plt.plot(newseries)\n",
    "plt.plot(yhat, color=\"red\")"
   ]
  },
  {
   "cell_type": "code",
   "execution_count": null,
   "metadata": {},
   "outputs": [],
   "source": []
  }
 ],
 "metadata": {
  "kernelspec": {
   "display_name": "Python 3",
   "language": "python",
   "name": "python3"
  },
  "language_info": {
   "codemirror_mode": {
    "name": "ipython",
    "version": 3
   },
   "file_extension": ".py",
   "mimetype": "text/x-python",
   "name": "python",
   "nbconvert_exporter": "python",
   "pygments_lexer": "ipython3",
   "version": "3.7.6"
  }
 },
 "nbformat": 4,
 "nbformat_minor": 4
}
